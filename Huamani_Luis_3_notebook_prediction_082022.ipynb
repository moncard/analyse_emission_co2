{
 "cells": [
  {
   "cell_type": "code",
   "execution_count": 2,
   "id": "36389152",
   "metadata": {},
   "outputs": [],
   "source": [
    "import pandas as pd\n",
    "import numpy as np\n",
    "\n",
    "import matplotlib.pyplot as plt\n",
    "import seaborn as sns\n",
    "\n",
    "from sklearn.preprocessing import LabelEncoder,OneHotEncoder\n",
    "from sklearn.impute import KNNImputer, SimpleImputer\n",
    "\n",
    "#Modele de prediction\n",
    "from sklearn.model_selection import train_test_split\n",
    "from sklearn.pipeline import Pipeline\n",
    "\n",
    "#Modeles  de machine learning\n",
    "from sklearn.dummy import DummyRegressor\n",
    "from sklearn.svm import SVR, LinearSVR\n",
    "from sklearn.ensemble import GradientBoostingRegressor, RandomForestRegressor, GradientBoostingRegressor\n",
    "from sklearn.neighbors import KNeighborsRegressor\n",
    "from sklearn.tree import DecisionTreeRegressor\n",
    "from sklearn.cross_decomposition import PLSRegression\n",
    "from sklearn.linear_model import LinearRegression,ElasticNet, Ridge, Lasso\n",
    "\n",
    "#Indicateurs des performances du modele \n",
    "from sklearn.metrics import mean_squared_error, r2_score, explained_variance_score, median_absolute_error\n",
    "from sklearn.model_selection import GridSearchCV\n",
    "from sklearn.model_selection import cross_val_score\n",
    "\n",
    "from sklearn.preprocessing import MinMaxScaler, StandardScaler\n",
    "\n",
    "import shap\n",
    "import time\n",
    "\n",
    "import lime\n",
    "from lime import lime_tabular\n",
    "import random\n"
   ]
  },
  {
   "cell_type": "markdown",
   "id": "973189a7",
   "metadata": {},
   "source": [
    "## Fonctions"
   ]
  },
  {
   "cell_type": "code",
   "execution_count": 3,
   "id": "f630373a",
   "metadata": {},
   "outputs": [],
   "source": [
    "# fonction qui remove les colonnes \n",
    "def remove_column(df,columns):\n",
    "    df.drop(labels=columns,axis=1, inplace= True)"
   ]
  },
  {
   "cell_type": "code",
   "execution_count": 4,
   "id": "9e608de4",
   "metadata": {},
   "outputs": [],
   "source": [
    "# fonction qui efface les lignes aves des valeurs Nan\n",
    "def imputation(df):\n",
    "    return df.dropna(axis=0)"
   ]
  },
  {
   "cell_type": "code",
   "execution_count": 5,
   "id": "e16976be",
   "metadata": {},
   "outputs": [],
   "source": [
    "\n",
    "def ohe(df,labels):\n",
    "    ohe = OneHotEncoder()\n",
    "    feature_arry=ohe.fit_transform(df[[labels]]).toarray()\n",
    "    feature_labels=ohe.categories_\n",
    "    features =pd.DataFrame(feature_arry, columns=feature_labels)\n",
    "    return features"
   ]
  },
  {
   "cell_type": "code",
   "execution_count": 6,
   "id": "b4e03658",
   "metadata": {},
   "outputs": [],
   "source": [
    "# fonction qui transforme les variables de type quantitave dans un tableau des valeurs qualitatives \n",
    "def labels(df, labels):\n",
    "    le = LabelEncoder()\n",
    "    le.fit(df[labels])\n",
    "    val =le.transform(df[labels])\n",
    "    remove_column(df,labels)\n",
    "    df = pd.concat(\n",
    "        [df, pd.DataFrame(val,columns=[labels])], axis=1)\n",
    "    return df"
   ]
  },
  {
   "cell_type": "code",
   "execution_count": 7,
   "id": "600387ed",
   "metadata": {},
   "outputs": [],
   "source": [
    "# fonction qui applique la methode LabelEncoder aux variables \n",
    "def knn_imputer(df,k):\n",
    "\n",
    "    imputer = KNNImputer(n_neighbors=k)\n",
    "    After_imputation = imputer.fit_transform(df)\n",
    "    df = pd.DataFrame(After_imputation,columns = df.columns)\n",
    "\n",
    "    return df"
   ]
  },
  {
   "cell_type": "code",
   "execution_count": 8,
   "id": "87b5f356",
   "metadata": {},
   "outputs": [],
   "source": [
    "# fonction qui complete les valeurs manquantes du dataframe avec la methode des k plus proches voisins \n",
    "def preprocessing(data,labels):\n",
    "    \n",
    "    X = data.drop([labels],axis=1)\n",
    "    y = data[labels]\n",
    "    \n",
    "    return X,y"
   ]
  },
  {
   "cell_type": "code",
   "execution_count": 9,
   "id": "4cdad02a",
   "metadata": {},
   "outputs": [],
   "source": [
    "# fonction qui renvoi les characteristiques du modele de prediction\n",
    "def characteristic(y_test,y_predict):\n",
    "    \n",
    "    R2=r2_score(y_test,y_predict)\n",
    "    MCE=mean_squared_error(y_test,y_predict)\n",
    "    RMCE=np.sqrt(mean_squared_error(y_test,y_predict))\n",
    "    MAE=median_absolute_error(y_test,y_predict)\n",
    "    \n",
    "    return R2,MCE,RMCE,MAE"
   ]
  },
  {
   "cell_type": "code",
   "execution_count": 10,
   "id": "a3706110",
   "metadata": {},
   "outputs": [],
   "source": [
    "# fonction qui rempli et organise le tableau des modeles selon la valeur R2\n",
    "def df_score(df_scores,modele, R2, RMCE, MAE):\n",
    "    df_scores.loc[df_scores.shape[0]] = [modele, R2, RMCE, MAE]\n",
    "    df_scores.sort_values(by='R2', ascending=False, inplace=True)\n",
    "    df_scores.drop_duplicates(subset=['modele'], keep='last', inplace=True)\n",
    "    df_scores.reset_index(drop=True, inplace=True)\n",
    "    \n",
    "    return df_scores"
   ]
  },
  {
   "cell_type": "code",
   "execution_count": 11,
   "id": "9026d0b4",
   "metadata": {},
   "outputs": [],
   "source": [
    "# fonction qui entraine les modeles et renvoi les valeurs du tableau \n",
    "def model_evaluation(modele,df_scores):\n",
    "     \n",
    "    modele.fit(X_train, y_train)\n",
    "    y_predict=modele.predict(X_test)\n",
    "    \n",
    "    R2,MCE,RMCE,MAE=characteristic(y_test,y_predict)\n",
    "    df_score(df_scores,modele, R2, RMCE, MAE)\n",
    "          \n",
    "    return df_scores"
   ]
  },
  {
   "cell_type": "code",
   "execution_count": 12,
   "id": "71692bbc",
   "metadata": {},
   "outputs": [],
   "source": [
    "# fonction qui renvoi le temps d'entrainement des modeles \n",
    "def train_model(model): \n",
    "   \n",
    "    pipe = Pipeline([('scaler', StandardScaler()),('clf', model[\"clf\"])])\n",
    "    start_time = time.time()\n",
    "    pipe.fit(X_train, y_train)\n",
    "    train_time = time.time() - start_time\n",
    "  \n",
    "    train_accuracy =  pipe.score(X_train, y_train)\n",
    "    test_accuracy = pipe.score(X_test, y_test) \n",
    "    model_details = {\"name\": model[\"name\"], \"train_accuracy\":train_accuracy, \"test_accuracy\":test_accuracy, \"train_time\": train_time, \"model\": pipe}\n",
    "    return model_details"
   ]
  },
  {
   "cell_type": "code",
   "execution_count": 13,
   "id": "9ba553ce",
   "metadata": {},
   "outputs": [],
   "source": [
    "# fonction qui applique la cross validation, fonction utilisé pour tester la robustesse \n",
    "def validation_croise(model,X, y):\n",
    "    score = cross_val_score(model, X, y, cv=5 ,scoring='r2')\n",
    "    return score"
   ]
  },
  {
   "cell_type": "code",
   "execution_count": 14,
   "id": "c5bebb23",
   "metadata": {},
   "outputs": [],
   "source": [
    "# fonction qui renvoi les meilleurs hyperparametres des modeles, il rempli aussi un table avec les differents scores du model\n",
    "def hyperparameter(df_scores,modele,parametre):\n",
    "    \n",
    "    recherche_hyper=GridSearchCV(modele,parametre,cv=5,scoring='r2')\n",
    "    recherche_hyper.fit(X_train, y_train)\n",
    "    y_predict = recherche_hyper.predict(X_test)\n",
    "    \n",
    "    print(modele,recherche_hyper.best_params_)\n",
    "\n",
    "    R2,MCE,RMCE,MAE=characteristic(y_test,y_predict)\n",
    "    recherche_hyper=df_score(df_scores,modele, R2, RMCE, MAE)\n",
    "    return recherche_hyper"
   ]
  },
  {
   "cell_type": "markdown",
   "id": "4fbf52ac",
   "metadata": {},
   "source": [
    "# Modele de Prediction"
   ]
  },
  {
   "cell_type": "code",
   "execution_count": 15,
   "id": "ad208321",
   "metadata": {},
   "outputs": [],
   "source": [
    "df=pd.read_csv('building-energy-cleaned.csv')"
   ]
  },
  {
   "cell_type": "code",
   "execution_count": 16,
   "id": "49681c74",
   "metadata": {},
   "outputs": [],
   "source": [
    "remove_column(df,'BuildingType')"
   ]
  },
  {
   "cell_type": "markdown",
   "id": "ba902e07",
   "metadata": {},
   "source": [
    "## 1) Etude de l'emission de CO2 sans la variable ENERGYSTARScore"
   ]
  },
  {
   "cell_type": "markdown",
   "id": "ff07d6d2",
   "metadata": {},
   "source": [
    "### 1.1) Encodage "
   ]
  },
  {
   "cell_type": "code",
   "execution_count": 17,
   "id": "00114eb9",
   "metadata": {},
   "outputs": [],
   "source": [
    "categorical = df.select_dtypes('object')\n",
    "for col in categorical:\n",
    "        df=labels(df,col)"
   ]
  },
  {
   "cell_type": "code",
   "execution_count": 18,
   "id": "6e70290f",
   "metadata": {},
   "outputs": [],
   "source": [
    "df_test=df.copy()\n",
    "df_test=df_test.dropna(axis = 0)\n",
    "remove_column(df_test,'ENERGYSTARScore')"
   ]
  },
  {
   "cell_type": "markdown",
   "id": "ac4ba5bb",
   "metadata": {},
   "source": [
    "Dans la partie 1 ont a vu qu'il y avais des données qui sont tres correlés entres elle par exemple SteamUse, NaturalGas et SiteEnergyUse, si on prend en compte ses valeurs dans nos predictions, elles ne serons pas realistes car on apporterait les solutions a la prediction, c'est pour cela que ces variables seron effacé. Pour la variable HistoricalPeriod, ayant deja une variable qui apportent des information par rapport au temps, on tiendra pas compte de cette variable. La variable BuildingRate n'etant pas tres corrélés avec les variables a predire, l'information qu'elle nous apporterait n'aura pas beaucoup d'influence."
   ]
  },
  {
   "cell_type": "code",
   "execution_count": 19,
   "id": "3c75f42e",
   "metadata": {},
   "outputs": [],
   "source": [
    "remove_column(df_test,['SiteEnergyUse','SteamUse','NaturalGas','BuildingRate','HistoricalPeriod'])"
   ]
  },
  {
   "cell_type": "markdown",
   "id": "b8e92cbe",
   "metadata": {},
   "source": [
    "### 1.2) Standardisation "
   ]
  },
  {
   "cell_type": "code",
   "execution_count": 20,
   "id": "e9ab097b",
   "metadata": {},
   "outputs": [],
   "source": [
    "column=df_test.columns.values\n",
    "scaler = MinMaxScaler()\n",
    "scaler.fit(df_test)\n",
    "df_np=scaler.transform(df_test)\n",
    "labels=df_test.columns"
   ]
  },
  {
   "cell_type": "code",
   "execution_count": 21,
   "id": "6aeacdaa",
   "metadata": {},
   "outputs": [],
   "source": [
    "df_test=pd.DataFrame(df_np,columns=column)"
   ]
  },
  {
   "cell_type": "markdown",
   "id": "d36291a9",
   "metadata": {},
   "source": [
    "### 1.3) Echantillonage"
   ]
  },
  {
   "cell_type": "code",
   "execution_count": 22,
   "id": "ff17c9c1",
   "metadata": {},
   "outputs": [],
   "source": [
    "trainset, testset = train_test_split(df_test, test_size=0.2, random_state=0)"
   ]
  },
  {
   "cell_type": "code",
   "execution_count": 23,
   "id": "e11bab06",
   "metadata": {},
   "outputs": [],
   "source": [
    "X_train, y_train = preprocessing(trainset,'TotalGHGEmissions')"
   ]
  },
  {
   "cell_type": "code",
   "execution_count": 24,
   "id": "dc008edd",
   "metadata": {},
   "outputs": [],
   "source": [
    "X_test, y_test = preprocessing(testset,'TotalGHGEmissions')"
   ]
  },
  {
   "cell_type": "markdown",
   "id": "ff14b779",
   "metadata": {},
   "source": [
    "### 1.4) Evaluation des hyperparametres"
   ]
  },
  {
   "cell_type": "code",
   "execution_count": 25,
   "id": "856a472f",
   "metadata": {},
   "outputs": [],
   "source": [
    "score=[]\n",
    "df_scores = pd.DataFrame(score, columns=['modele', 'R2', 'RMSE', 'MAE'])"
   ]
  },
  {
   "cell_type": "code",
   "execution_count": 26,
   "id": "094b96e4",
   "metadata": {},
   "outputs": [
    {
     "name": "stdout",
     "output_type": "stream",
     "text": [
      "LinearRegression() {}\n"
     ]
    },
    {
     "data": {
      "text/html": [
       "<div>\n",
       "<style scoped>\n",
       "    .dataframe tbody tr th:only-of-type {\n",
       "        vertical-align: middle;\n",
       "    }\n",
       "\n",
       "    .dataframe tbody tr th {\n",
       "        vertical-align: top;\n",
       "    }\n",
       "\n",
       "    .dataframe thead th {\n",
       "        text-align: right;\n",
       "    }\n",
       "</style>\n",
       "<table border=\"1\" class=\"dataframe\">\n",
       "  <thead>\n",
       "    <tr style=\"text-align: right;\">\n",
       "      <th></th>\n",
       "      <th>modele</th>\n",
       "      <th>R2</th>\n",
       "      <th>RMSE</th>\n",
       "      <th>MAE</th>\n",
       "    </tr>\n",
       "  </thead>\n",
       "  <tbody>\n",
       "    <tr>\n",
       "      <th>0</th>\n",
       "      <td>LinearRegression()</td>\n",
       "      <td>-0.866033</td>\n",
       "      <td>0.033779</td>\n",
       "      <td>0.005488</td>\n",
       "    </tr>\n",
       "  </tbody>\n",
       "</table>\n",
       "</div>"
      ],
      "text/plain": [
       "               modele        R2      RMSE       MAE\n",
       "0  LinearRegression() -0.866033  0.033779  0.005488"
      ]
     },
     "execution_count": 26,
     "metadata": {},
     "output_type": "execute_result"
    }
   ],
   "source": [
    "parametre_LR ={}\n",
    "hyperparameter(df_scores,LinearRegression(),parametre_LR)"
   ]
  },
  {
   "cell_type": "code",
   "execution_count": 27,
   "id": "391361c0",
   "metadata": {},
   "outputs": [
    {
     "name": "stdout",
     "output_type": "stream",
     "text": [
      "Lasso() {}\n"
     ]
    },
    {
     "data": {
      "text/html": [
       "<div>\n",
       "<style scoped>\n",
       "    .dataframe tbody tr th:only-of-type {\n",
       "        vertical-align: middle;\n",
       "    }\n",
       "\n",
       "    .dataframe tbody tr th {\n",
       "        vertical-align: top;\n",
       "    }\n",
       "\n",
       "    .dataframe thead th {\n",
       "        text-align: right;\n",
       "    }\n",
       "</style>\n",
       "<table border=\"1\" class=\"dataframe\">\n",
       "  <thead>\n",
       "    <tr style=\"text-align: right;\">\n",
       "      <th></th>\n",
       "      <th>modele</th>\n",
       "      <th>R2</th>\n",
       "      <th>RMSE</th>\n",
       "      <th>MAE</th>\n",
       "    </tr>\n",
       "  </thead>\n",
       "  <tbody>\n",
       "    <tr>\n",
       "      <th>0</th>\n",
       "      <td>Lasso()</td>\n",
       "      <td>-0.030775</td>\n",
       "      <td>0.025105</td>\n",
       "      <td>0.011992</td>\n",
       "    </tr>\n",
       "    <tr>\n",
       "      <th>1</th>\n",
       "      <td>LinearRegression()</td>\n",
       "      <td>-0.866033</td>\n",
       "      <td>0.033779</td>\n",
       "      <td>0.005488</td>\n",
       "    </tr>\n",
       "  </tbody>\n",
       "</table>\n",
       "</div>"
      ],
      "text/plain": [
       "               modele        R2      RMSE       MAE\n",
       "0             Lasso() -0.030775  0.025105  0.011992\n",
       "1  LinearRegression() -0.866033  0.033779  0.005488"
      ]
     },
     "execution_count": 27,
     "metadata": {},
     "output_type": "execute_result"
    }
   ],
   "source": [
    "parametre_Lasso={}\n",
    "hyperparameter(df_scores,Lasso(),parametre_Lasso)"
   ]
  },
  {
   "cell_type": "code",
   "execution_count": 28,
   "id": "81d17591",
   "metadata": {},
   "outputs": [
    {
     "name": "stdout",
     "output_type": "stream",
     "text": [
      "Ridge() {}\n"
     ]
    },
    {
     "data": {
      "text/html": [
       "<div>\n",
       "<style scoped>\n",
       "    .dataframe tbody tr th:only-of-type {\n",
       "        vertical-align: middle;\n",
       "    }\n",
       "\n",
       "    .dataframe tbody tr th {\n",
       "        vertical-align: top;\n",
       "    }\n",
       "\n",
       "    .dataframe thead th {\n",
       "        text-align: right;\n",
       "    }\n",
       "</style>\n",
       "<table border=\"1\" class=\"dataframe\">\n",
       "  <thead>\n",
       "    <tr style=\"text-align: right;\">\n",
       "      <th></th>\n",
       "      <th>modele</th>\n",
       "      <th>R2</th>\n",
       "      <th>RMSE</th>\n",
       "      <th>MAE</th>\n",
       "    </tr>\n",
       "  </thead>\n",
       "  <tbody>\n",
       "    <tr>\n",
       "      <th>0</th>\n",
       "      <td>Ridge()</td>\n",
       "      <td>0.014044</td>\n",
       "      <td>0.024554</td>\n",
       "      <td>0.006027</td>\n",
       "    </tr>\n",
       "    <tr>\n",
       "      <th>1</th>\n",
       "      <td>Lasso()</td>\n",
       "      <td>-0.030775</td>\n",
       "      <td>0.025105</td>\n",
       "      <td>0.011992</td>\n",
       "    </tr>\n",
       "    <tr>\n",
       "      <th>2</th>\n",
       "      <td>LinearRegression()</td>\n",
       "      <td>-0.866033</td>\n",
       "      <td>0.033779</td>\n",
       "      <td>0.005488</td>\n",
       "    </tr>\n",
       "  </tbody>\n",
       "</table>\n",
       "</div>"
      ],
      "text/plain": [
       "               modele        R2      RMSE       MAE\n",
       "0             Ridge()  0.014044  0.024554  0.006027\n",
       "1             Lasso() -0.030775  0.025105  0.011992\n",
       "2  LinearRegression() -0.866033  0.033779  0.005488"
      ]
     },
     "execution_count": 28,
     "metadata": {},
     "output_type": "execute_result"
    }
   ],
   "source": [
    "parametre_Ridge={}\n",
    "hyperparameter(df_scores,Ridge(),parametre_Ridge)"
   ]
  },
  {
   "cell_type": "code",
   "execution_count": 29,
   "id": "edabea37",
   "metadata": {},
   "outputs": [
    {
     "name": "stderr",
     "output_type": "stream",
     "text": [
      "Objective did not converge. You might want to increase the number of iterations, check the scale of the features or consider increasing regularisation. Duality gap: 4.193e-01, tolerance: 2.056e-04 Linear regression models with null weight for the l1 regularization term are more efficiently fitted using one of the solvers implemented in sklearn.linear_model.Ridge/RidgeCV instead.\n",
      "Objective did not converge. You might want to increase the number of iterations, check the scale of the features or consider increasing regularisation. Duality gap: 4.536e-01, tolerance: 2.405e-04 Linear regression models with null weight for the l1 regularization term are more efficiently fitted using one of the solvers implemented in sklearn.linear_model.Ridge/RidgeCV instead.\n",
      "Objective did not converge. You might want to increase the number of iterations, check the scale of the features or consider increasing regularisation. Duality gap: 4.720e-01, tolerance: 2.719e-04 Linear regression models with null weight for the l1 regularization term are more efficiently fitted using one of the solvers implemented in sklearn.linear_model.Ridge/RidgeCV instead.\n",
      "Objective did not converge. You might want to increase the number of iterations, check the scale of the features or consider increasing regularisation. Duality gap: 3.177e-01, tolerance: 1.661e-04 Linear regression models with null weight for the l1 regularization term are more efficiently fitted using one of the solvers implemented in sklearn.linear_model.Ridge/RidgeCV instead.\n",
      "Objective did not converge. You might want to increase the number of iterations, check the scale of the features or consider increasing regularisation. Duality gap: 4.792e-01, tolerance: 2.829e-04 Linear regression models with null weight for the l1 regularization term are more efficiently fitted using one of the solvers implemented in sklearn.linear_model.Ridge/RidgeCV instead.\n",
      "Objective did not converge. You might want to increase the number of iterations, check the scale of the features or consider increasing regularisation. Duality gap: 3.008e-01, tolerance: 2.056e-04 Linear regression models with null weight for the l1 regularization term are more efficiently fitted using one of the solvers implemented in sklearn.linear_model.Ridge/RidgeCV instead.\n",
      "Objective did not converge. You might want to increase the number of iterations, check the scale of the features or consider increasing regularisation. Duality gap: 3.300e-01, tolerance: 2.405e-04 Linear regression models with null weight for the l1 regularization term are more efficiently fitted using one of the solvers implemented in sklearn.linear_model.Ridge/RidgeCV instead.\n",
      "Objective did not converge. You might want to increase the number of iterations, check the scale of the features or consider increasing regularisation. Duality gap: 2.879e-01, tolerance: 2.719e-04 Linear regression models with null weight for the l1 regularization term are more efficiently fitted using one of the solvers implemented in sklearn.linear_model.Ridge/RidgeCV instead.\n",
      "Objective did not converge. You might want to increase the number of iterations, check the scale of the features or consider increasing regularisation. Duality gap: 2.432e-01, tolerance: 1.661e-04 Linear regression models with null weight for the l1 regularization term are more efficiently fitted using one of the solvers implemented in sklearn.linear_model.Ridge/RidgeCV instead.\n",
      "Objective did not converge. You might want to increase the number of iterations, check the scale of the features or consider increasing regularisation. Duality gap: 3.465e-01, tolerance: 2.829e-04 Linear regression models with null weight for the l1 regularization term are more efficiently fitted using one of the solvers implemented in sklearn.linear_model.Ridge/RidgeCV instead.\n",
      "Objective did not converge. You might want to increase the number of iterations, check the scale of the features or consider increasing regularisation. Duality gap: 2.995e-01, tolerance: 2.056e-04 Linear regression models with null weight for the l1 regularization term are more efficiently fitted using one of the solvers implemented in sklearn.linear_model.Ridge/RidgeCV instead.\n",
      "Objective did not converge. You might want to increase the number of iterations, check the scale of the features or consider increasing regularisation. Duality gap: 3.277e-01, tolerance: 2.405e-04 Linear regression models with null weight for the l1 regularization term are more efficiently fitted using one of the solvers implemented in sklearn.linear_model.Ridge/RidgeCV instead.\n",
      "Objective did not converge. You might want to increase the number of iterations, check the scale of the features or consider increasing regularisation. Duality gap: 2.775e-01, tolerance: 2.719e-04 Linear regression models with null weight for the l1 regularization term are more efficiently fitted using one of the solvers implemented in sklearn.linear_model.Ridge/RidgeCV instead.\n",
      "Objective did not converge. You might want to increase the number of iterations, check the scale of the features or consider increasing regularisation. Duality gap: 2.417e-01, tolerance: 1.661e-04 Linear regression models with null weight for the l1 regularization term are more efficiently fitted using one of the solvers implemented in sklearn.linear_model.Ridge/RidgeCV instead.\n",
      "Objective did not converge. You might want to increase the number of iterations, check the scale of the features or consider increasing regularisation. Duality gap: 3.446e-01, tolerance: 2.829e-04 Linear regression models with null weight for the l1 regularization term are more efficiently fitted using one of the solvers implemented in sklearn.linear_model.Ridge/RidgeCV instead.\n",
      "Objective did not converge. You might want to increase the number of iterations, check the scale of the features or consider increasing regularisation. Duality gap: 4.187e-01, tolerance: 2.056e-04\n",
      "Objective did not converge. You might want to increase the number of iterations, check the scale of the features or consider increasing regularisation. Duality gap: 4.518e-01, tolerance: 2.405e-04\n",
      "Objective did not converge. You might want to increase the number of iterations, check the scale of the features or consider increasing regularisation. Duality gap: 4.720e-01, tolerance: 2.719e-04\n",
      "Objective did not converge. You might want to increase the number of iterations, check the scale of the features or consider increasing regularisation. Duality gap: 3.159e-01, tolerance: 1.661e-04\n",
      "Objective did not converge. You might want to increase the number of iterations, check the scale of the features or consider increasing regularisation. Duality gap: 4.782e-01, tolerance: 2.829e-04\n",
      "Objective did not converge. You might want to increase the number of iterations, check the scale of the features or consider increasing regularisation. Duality gap: 2.723e-01, tolerance: 2.056e-04\n",
      "Objective did not converge. You might want to increase the number of iterations, check the scale of the features or consider increasing regularisation. Duality gap: 3.057e-01, tolerance: 2.405e-04\n",
      "Objective did not converge. You might want to increase the number of iterations, check the scale of the features or consider increasing regularisation. Duality gap: 2.805e-01, tolerance: 2.719e-04\n",
      "Objective did not converge. You might want to increase the number of iterations, check the scale of the features or consider increasing regularisation. Duality gap: 2.181e-01, tolerance: 1.661e-04\n",
      "Objective did not converge. You might want to increase the number of iterations, check the scale of the features or consider increasing regularisation. Duality gap: 3.179e-01, tolerance: 2.829e-04\n",
      "Objective did not converge. You might want to increase the number of iterations, check the scale of the features or consider increasing regularisation. Duality gap: 1.568e-02, tolerance: 2.056e-04\n",
      "Objective did not converge. You might want to increase the number of iterations, check the scale of the features or consider increasing regularisation. Duality gap: 1.384e-02, tolerance: 2.405e-04\n",
      "Objective did not converge. You might want to increase the number of iterations, check the scale of the features or consider increasing regularisation. Duality gap: 1.856e-01, tolerance: 2.719e-04\n",
      "Objective did not converge. You might want to increase the number of iterations, check the scale of the features or consider increasing regularisation. Duality gap: 3.281e-02, tolerance: 1.661e-04\n",
      "Objective did not converge. You might want to increase the number of iterations, check the scale of the features or consider increasing regularisation. Duality gap: 2.756e-03, tolerance: 2.829e-04\n",
      "Objective did not converge. You might want to increase the number of iterations, check the scale of the features or consider increasing regularisation. Duality gap: 4.179e-01, tolerance: 2.056e-04\n",
      "Objective did not converge. You might want to increase the number of iterations, check the scale of the features or consider increasing regularisation. Duality gap: 4.499e-01, tolerance: 2.405e-04\n",
      "Objective did not converge. You might want to increase the number of iterations, check the scale of the features or consider increasing regularisation. Duality gap: 4.720e-01, tolerance: 2.719e-04\n",
      "Objective did not converge. You might want to increase the number of iterations, check the scale of the features or consider increasing regularisation. Duality gap: 3.140e-01, tolerance: 1.661e-04\n",
      "Objective did not converge. You might want to increase the number of iterations, check the scale of the features or consider increasing regularisation. Duality gap: 4.770e-01, tolerance: 2.829e-04\n",
      "Objective did not converge. You might want to increase the number of iterations, check the scale of the features or consider increasing regularisation. Duality gap: 2.479e-01, tolerance: 2.056e-04\n",
      "Objective did not converge. You might want to increase the number of iterations, check the scale of the features or consider increasing regularisation. Duality gap: 2.829e-01, tolerance: 2.405e-04\n",
      "Objective did not converge. You might want to increase the number of iterations, check the scale of the features or consider increasing regularisation. Duality gap: 2.724e-01, tolerance: 2.719e-04\n",
      "Objective did not converge. You might want to increase the number of iterations, check the scale of the features or consider increasing regularisation. Duality gap: 1.949e-01, tolerance: 1.661e-04\n",
      "Objective did not converge. You might want to increase the number of iterations, check the scale of the features or consider increasing regularisation. Duality gap: 2.922e-01, tolerance: 2.829e-04\n",
      "Objective did not converge. You might want to increase the number of iterations, check the scale of the features or consider increasing regularisation. Duality gap: 7.215e-03, tolerance: 2.056e-04\n",
      "Objective did not converge. You might want to increase the number of iterations, check the scale of the features or consider increasing regularisation. Duality gap: 6.409e-03, tolerance: 2.405e-04\n",
      "Objective did not converge. You might want to increase the number of iterations, check the scale of the features or consider increasing regularisation. Duality gap: 8.568e-02, tolerance: 2.719e-04\n",
      "Objective did not converge. You might want to increase the number of iterations, check the scale of the features or consider increasing regularisation. Duality gap: 1.095e-02, tolerance: 1.661e-04\n",
      "Objective did not converge. You might want to increase the number of iterations, check the scale of the features or consider increasing regularisation. Duality gap: 1.967e-03, tolerance: 2.829e-04\n",
      "Objective did not converge. You might want to increase the number of iterations, check the scale of the features or consider increasing regularisation. Duality gap: 4.170e-01, tolerance: 2.056e-04\n",
      "Objective did not converge. You might want to increase the number of iterations, check the scale of the features or consider increasing regularisation. Duality gap: 4.479e-01, tolerance: 2.405e-04\n",
      "Objective did not converge. You might want to increase the number of iterations, check the scale of the features or consider increasing regularisation. Duality gap: 4.718e-01, tolerance: 2.719e-04\n",
      "Objective did not converge. You might want to increase the number of iterations, check the scale of the features or consider increasing regularisation. Duality gap: 3.119e-01, tolerance: 1.661e-04\n",
      "Objective did not converge. You might want to increase the number of iterations, check the scale of the features or consider increasing regularisation. Duality gap: 4.757e-01, tolerance: 2.829e-04\n",
      "Objective did not converge. You might want to increase the number of iterations, check the scale of the features or consider increasing regularisation. Duality gap: 2.267e-01, tolerance: 2.056e-04\n",
      "Objective did not converge. You might want to increase the number of iterations, check the scale of the features or consider increasing regularisation. Duality gap: 2.619e-01, tolerance: 2.405e-04\n",
      "Objective did not converge. You might want to increase the number of iterations, check the scale of the features or consider increasing regularisation. Duality gap: 2.635e-01, tolerance: 2.719e-04\n",
      "Objective did not converge. You might want to increase the number of iterations, check the scale of the features or consider increasing regularisation. Duality gap: 1.735e-01, tolerance: 1.661e-04\n",
      "Objective did not converge. You might want to increase the number of iterations, check the scale of the features or consider increasing regularisation. Duality gap: 2.692e-01, tolerance: 2.829e-04\n",
      "Objective did not converge. You might want to increase the number of iterations, check the scale of the features or consider increasing regularisation. Duality gap: 5.288e-03, tolerance: 2.056e-04\n",
      "Objective did not converge. You might want to increase the number of iterations, check the scale of the features or consider increasing regularisation. Duality gap: 4.539e-03, tolerance: 2.405e-04\n",
      "Objective did not converge. You might want to increase the number of iterations, check the scale of the features or consider increasing regularisation. Duality gap: 1.598e-02, tolerance: 2.719e-04\n"
     ]
    },
    {
     "name": "stderr",
     "output_type": "stream",
     "text": [
      "Objective did not converge. You might want to increase the number of iterations, check the scale of the features or consider increasing regularisation. Duality gap: 4.972e-03, tolerance: 1.661e-04\n",
      "Objective did not converge. You might want to increase the number of iterations, check the scale of the features or consider increasing regularisation. Duality gap: 1.801e-03, tolerance: 2.829e-04\n",
      "Objective did not converge. You might want to increase the number of iterations, check the scale of the features or consider increasing regularisation. Duality gap: 4.160e-01, tolerance: 2.056e-04\n",
      "Objective did not converge. You might want to increase the number of iterations, check the scale of the features or consider increasing regularisation. Duality gap: 4.457e-01, tolerance: 2.405e-04\n",
      "Objective did not converge. You might want to increase the number of iterations, check the scale of the features or consider increasing regularisation. Duality gap: 4.715e-01, tolerance: 2.719e-04\n",
      "Objective did not converge. You might want to increase the number of iterations, check the scale of the features or consider increasing regularisation. Duality gap: 3.096e-01, tolerance: 1.661e-04\n",
      "Objective did not converge. You might want to increase the number of iterations, check the scale of the features or consider increasing regularisation. Duality gap: 4.742e-01, tolerance: 2.829e-04\n",
      "Objective did not converge. You might want to increase the number of iterations, check the scale of the features or consider increasing regularisation. Duality gap: 2.081e-01, tolerance: 2.056e-04\n",
      "Objective did not converge. You might want to increase the number of iterations, check the scale of the features or consider increasing regularisation. Duality gap: 2.430e-01, tolerance: 2.405e-04\n",
      "Objective did not converge. You might want to increase the number of iterations, check the scale of the features or consider increasing regularisation. Duality gap: 2.537e-01, tolerance: 2.719e-04\n",
      "Objective did not converge. You might want to increase the number of iterations, check the scale of the features or consider increasing regularisation. Duality gap: 1.536e-01, tolerance: 1.661e-04\n",
      "Objective did not converge. You might want to increase the number of iterations, check the scale of the features or consider increasing regularisation. Duality gap: 2.475e-01, tolerance: 2.829e-04\n",
      "Objective did not converge. You might want to increase the number of iterations, check the scale of the features or consider increasing regularisation. Duality gap: 4.567e-03, tolerance: 2.056e-04\n",
      "Objective did not converge. You might want to increase the number of iterations, check the scale of the features or consider increasing regularisation. Duality gap: 3.880e-03, tolerance: 2.405e-04\n",
      "Objective did not converge. You might want to increase the number of iterations, check the scale of the features or consider increasing regularisation. Duality gap: 1.545e-02, tolerance: 2.719e-04\n",
      "Objective did not converge. You might want to increase the number of iterations, check the scale of the features or consider increasing regularisation. Duality gap: 2.609e-03, tolerance: 1.661e-04\n",
      "Objective did not converge. You might want to increase the number of iterations, check the scale of the features or consider increasing regularisation. Duality gap: 1.722e-03, tolerance: 2.829e-04\n",
      "Objective did not converge. You might want to increase the number of iterations, check the scale of the features or consider increasing regularisation. Duality gap: 4.148e-01, tolerance: 2.056e-04\n",
      "Objective did not converge. You might want to increase the number of iterations, check the scale of the features or consider increasing regularisation. Duality gap: 4.435e-01, tolerance: 2.405e-04\n",
      "Objective did not converge. You might want to increase the number of iterations, check the scale of the features or consider increasing regularisation. Duality gap: 4.710e-01, tolerance: 2.719e-04\n",
      "Objective did not converge. You might want to increase the number of iterations, check the scale of the features or consider increasing regularisation. Duality gap: 3.071e-01, tolerance: 1.661e-04\n",
      "Objective did not converge. You might want to increase the number of iterations, check the scale of the features or consider increasing regularisation. Duality gap: 4.725e-01, tolerance: 2.829e-04\n",
      "Objective did not converge. You might want to increase the number of iterations, check the scale of the features or consider increasing regularisation. Duality gap: 1.919e-01, tolerance: 2.056e-04\n",
      "Objective did not converge. You might want to increase the number of iterations, check the scale of the features or consider increasing regularisation. Duality gap: 2.255e-01, tolerance: 2.405e-04\n",
      "Objective did not converge. You might want to increase the number of iterations, check the scale of the features or consider increasing regularisation. Duality gap: 2.437e-01, tolerance: 2.719e-04\n",
      "Objective did not converge. You might want to increase the number of iterations, check the scale of the features or consider increasing regularisation. Duality gap: 1.355e-01, tolerance: 1.661e-04\n",
      "Objective did not converge. You might want to increase the number of iterations, check the scale of the features or consider increasing regularisation. Duality gap: 2.277e-01, tolerance: 2.829e-04\n",
      "Objective did not converge. You might want to increase the number of iterations, check the scale of the features or consider increasing regularisation. Duality gap: 4.026e-03, tolerance: 2.056e-04\n",
      "Objective did not converge. You might want to increase the number of iterations, check the scale of the features or consider increasing regularisation. Duality gap: 3.549e-03, tolerance: 2.405e-04\n",
      "Objective did not converge. You might want to increase the number of iterations, check the scale of the features or consider increasing regularisation. Duality gap: 1.523e-02, tolerance: 2.719e-04\n",
      "Objective did not converge. You might want to increase the number of iterations, check the scale of the features or consider increasing regularisation. Duality gap: 1.794e-03, tolerance: 1.661e-04\n",
      "Objective did not converge. You might want to increase the number of iterations, check the scale of the features or consider increasing regularisation. Duality gap: 1.952e-03, tolerance: 2.829e-04\n",
      "Objective did not converge. You might want to increase the number of iterations, check the scale of the features or consider increasing regularisation. Duality gap: 4.135e-01, tolerance: 2.056e-04\n",
      "Objective did not converge. You might want to increase the number of iterations, check the scale of the features or consider increasing regularisation. Duality gap: 4.412e-01, tolerance: 2.405e-04\n",
      "Objective did not converge. You might want to increase the number of iterations, check the scale of the features or consider increasing regularisation. Duality gap: 4.704e-01, tolerance: 2.719e-04\n",
      "Objective did not converge. You might want to increase the number of iterations, check the scale of the features or consider increasing regularisation. Duality gap: 3.044e-01, tolerance: 1.661e-04\n",
      "Objective did not converge. You might want to increase the number of iterations, check the scale of the features or consider increasing regularisation. Duality gap: 4.707e-01, tolerance: 2.829e-04\n",
      "Objective did not converge. You might want to increase the number of iterations, check the scale of the features or consider increasing regularisation. Duality gap: 1.778e-01, tolerance: 2.056e-04\n",
      "Objective did not converge. You might want to increase the number of iterations, check the scale of the features or consider increasing regularisation. Duality gap: 2.093e-01, tolerance: 2.405e-04\n",
      "Objective did not converge. You might want to increase the number of iterations, check the scale of the features or consider increasing regularisation. Duality gap: 2.331e-01, tolerance: 2.719e-04\n",
      "Objective did not converge. You might want to increase the number of iterations, check the scale of the features or consider increasing regularisation. Duality gap: 1.183e-01, tolerance: 1.661e-04\n",
      "Objective did not converge. You might want to increase the number of iterations, check the scale of the features or consider increasing regularisation. Duality gap: 2.100e-01, tolerance: 2.829e-04\n",
      "Objective did not converge. You might want to increase the number of iterations, check the scale of the features or consider increasing regularisation. Duality gap: 3.770e-03, tolerance: 2.056e-04\n",
      "Objective did not converge. You might want to increase the number of iterations, check the scale of the features or consider increasing regularisation. Duality gap: 3.089e-03, tolerance: 2.405e-04\n",
      "Objective did not converge. You might want to increase the number of iterations, check the scale of the features or consider increasing regularisation. Duality gap: 1.518e-02, tolerance: 2.719e-04\n",
      "Objective did not converge. You might want to increase the number of iterations, check the scale of the features or consider increasing regularisation. Duality gap: 1.619e-03, tolerance: 1.661e-04\n",
      "Objective did not converge. You might want to increase the number of iterations, check the scale of the features or consider increasing regularisation. Duality gap: 1.931e-03, tolerance: 2.829e-04\n",
      "Objective did not converge. You might want to increase the number of iterations, check the scale of the features or consider increasing regularisation. Duality gap: 4.121e-01, tolerance: 2.056e-04\n",
      "Objective did not converge. You might want to increase the number of iterations, check the scale of the features or consider increasing regularisation. Duality gap: 4.388e-01, tolerance: 2.405e-04\n",
      "Objective did not converge. You might want to increase the number of iterations, check the scale of the features or consider increasing regularisation. Duality gap: 4.697e-01, tolerance: 2.719e-04\n",
      "Objective did not converge. You might want to increase the number of iterations, check the scale of the features or consider increasing regularisation. Duality gap: 3.020e-01, tolerance: 1.661e-04\n",
      "Objective did not converge. You might want to increase the number of iterations, check the scale of the features or consider increasing regularisation. Duality gap: 4.688e-01, tolerance: 2.829e-04\n",
      "Objective did not converge. You might want to increase the number of iterations, check the scale of the features or consider increasing regularisation. Duality gap: 1.652e-01, tolerance: 2.056e-04\n",
      "Objective did not converge. You might want to increase the number of iterations, check the scale of the features or consider increasing regularisation. Duality gap: 1.940e-01, tolerance: 2.405e-04\n",
      "Objective did not converge. You might want to increase the number of iterations, check the scale of the features or consider increasing regularisation. Duality gap: 2.220e-01, tolerance: 2.719e-04\n",
      "Objective did not converge. You might want to increase the number of iterations, check the scale of the features or consider increasing regularisation. Duality gap: 1.028e-01, tolerance: 1.661e-04\n",
      "Objective did not converge. You might want to increase the number of iterations, check the scale of the features or consider increasing regularisation. Duality gap: 1.937e-01, tolerance: 2.829e-04\n",
      "Objective did not converge. You might want to increase the number of iterations, check the scale of the features or consider increasing regularisation. Duality gap: 3.590e-03, tolerance: 2.056e-04\n",
      "Objective did not converge. You might want to increase the number of iterations, check the scale of the features or consider increasing regularisation. Duality gap: 1.471e-03, tolerance: 2.405e-04\n",
      "Objective did not converge. You might want to increase the number of iterations, check the scale of the features or consider increasing regularisation. Duality gap: 1.521e-02, tolerance: 2.719e-04\n",
      "Objective did not converge. You might want to increase the number of iterations, check the scale of the features or consider increasing regularisation. Duality gap: 1.423e-03, tolerance: 1.661e-04\n",
      "Objective did not converge. You might want to increase the number of iterations, check the scale of the features or consider increasing regularisation. Duality gap: 1.913e-03, tolerance: 2.829e-04\n",
      "Objective did not converge. You might want to increase the number of iterations, check the scale of the features or consider increasing regularisation. Duality gap: 4.105e-01, tolerance: 2.056e-04\n",
      "Objective did not converge. You might want to increase the number of iterations, check the scale of the features or consider increasing regularisation. Duality gap: 4.362e-01, tolerance: 2.405e-04\n",
      "Objective did not converge. You might want to increase the number of iterations, check the scale of the features or consider increasing regularisation. Duality gap: 4.689e-01, tolerance: 2.719e-04\n"
     ]
    },
    {
     "name": "stderr",
     "output_type": "stream",
     "text": [
      "Objective did not converge. You might want to increase the number of iterations, check the scale of the features or consider increasing regularisation. Duality gap: 2.995e-01, tolerance: 1.661e-04\n",
      "Objective did not converge. You might want to increase the number of iterations, check the scale of the features or consider increasing regularisation. Duality gap: 4.667e-01, tolerance: 2.829e-04\n",
      "Objective did not converge. You might want to increase the number of iterations, check the scale of the features or consider increasing regularisation. Duality gap: 1.540e-01, tolerance: 2.056e-04\n",
      "Objective did not converge. You might want to increase the number of iterations, check the scale of the features or consider increasing regularisation. Duality gap: 1.802e-01, tolerance: 2.405e-04\n",
      "Objective did not converge. You might want to increase the number of iterations, check the scale of the features or consider increasing regularisation. Duality gap: 2.104e-01, tolerance: 2.719e-04\n",
      "Objective did not converge. You might want to increase the number of iterations, check the scale of the features or consider increasing regularisation. Duality gap: 8.951e-02, tolerance: 1.661e-04\n",
      "Objective did not converge. You might want to increase the number of iterations, check the scale of the features or consider increasing regularisation. Duality gap: 1.786e-01, tolerance: 2.829e-04\n",
      "Objective did not converge. You might want to increase the number of iterations, check the scale of the features or consider increasing regularisation. Duality gap: 3.448e-03, tolerance: 2.056e-04\n",
      "Objective did not converge. You might want to increase the number of iterations, check the scale of the features or consider increasing regularisation. Duality gap: 1.526e-03, tolerance: 2.405e-04\n",
      "Objective did not converge. You might want to increase the number of iterations, check the scale of the features or consider increasing regularisation. Duality gap: 1.526e-02, tolerance: 2.719e-04\n",
      "Objective did not converge. You might want to increase the number of iterations, check the scale of the features or consider increasing regularisation. Duality gap: 1.268e-03, tolerance: 1.661e-04\n",
      "Objective did not converge. You might want to increase the number of iterations, check the scale of the features or consider increasing regularisation. Duality gap: 2.020e-03, tolerance: 2.829e-04\n",
      "Objective did not converge. You might want to increase the number of iterations, check the scale of the features or consider increasing regularisation. Duality gap: 4.088e-01, tolerance: 2.056e-04\n",
      "Objective did not converge. You might want to increase the number of iterations, check the scale of the features or consider increasing regularisation. Duality gap: 4.334e-01, tolerance: 2.405e-04\n",
      "Objective did not converge. You might want to increase the number of iterations, check the scale of the features or consider increasing regularisation. Duality gap: 4.679e-01, tolerance: 2.719e-04\n",
      "Objective did not converge. You might want to increase the number of iterations, check the scale of the features or consider increasing regularisation. Duality gap: 2.969e-01, tolerance: 1.661e-04\n",
      "Objective did not converge. You might want to increase the number of iterations, check the scale of the features or consider increasing regularisation. Duality gap: 4.644e-01, tolerance: 2.829e-04\n",
      "Objective did not converge. You might want to increase the number of iterations, check the scale of the features or consider increasing regularisation. Duality gap: 1.436e-01, tolerance: 2.056e-04\n",
      "Objective did not converge. You might want to increase the number of iterations, check the scale of the features or consider increasing regularisation. Duality gap: 1.681e-01, tolerance: 2.405e-04\n",
      "Objective did not converge. You might want to increase the number of iterations, check the scale of the features or consider increasing regularisation. Duality gap: 1.980e-01, tolerance: 2.719e-04\n",
      "Objective did not converge. You might want to increase the number of iterations, check the scale of the features or consider increasing regularisation. Duality gap: 7.689e-02, tolerance: 1.661e-04\n",
      "Objective did not converge. You might want to increase the number of iterations, check the scale of the features or consider increasing regularisation. Duality gap: 1.646e-01, tolerance: 2.829e-04\n",
      "Objective did not converge. You might want to increase the number of iterations, check the scale of the features or consider increasing regularisation. Duality gap: 3.316e-03, tolerance: 2.056e-04\n",
      "Objective did not converge. You might want to increase the number of iterations, check the scale of the features or consider increasing regularisation. Duality gap: 1.561e-03, tolerance: 2.405e-04\n",
      "Objective did not converge. You might want to increase the number of iterations, check the scale of the features or consider increasing regularisation. Duality gap: 1.537e-02, tolerance: 2.719e-04\n",
      "Objective did not converge. You might want to increase the number of iterations, check the scale of the features or consider increasing regularisation. Duality gap: 1.244e-03, tolerance: 1.661e-04\n",
      "Objective did not converge. You might want to increase the number of iterations, check the scale of the features or consider increasing regularisation. Duality gap: 2.138e-03, tolerance: 2.829e-04\n",
      "Objective did not converge. You might want to increase the number of iterations, check the scale of the features or consider increasing regularisation. Duality gap: 5.308e-01, tolerance: 2.056e-04 Linear regression models with null weight for the l1 regularization term are more efficiently fitted using one of the solvers implemented in sklearn.linear_model.Ridge/RidgeCV instead.\n",
      "Objective did not converge. You might want to increase the number of iterations, check the scale of the features or consider increasing regularisation. Duality gap: 5.678e-01, tolerance: 2.405e-04 Linear regression models with null weight for the l1 regularization term are more efficiently fitted using one of the solvers implemented in sklearn.linear_model.Ridge/RidgeCV instead.\n",
      "Objective did not converge. You might want to increase the number of iterations, check the scale of the features or consider increasing regularisation. Duality gap: 5.971e-01, tolerance: 2.719e-04 Linear regression models with null weight for the l1 regularization term are more efficiently fitted using one of the solvers implemented in sklearn.linear_model.Ridge/RidgeCV instead.\n",
      "Objective did not converge. You might want to increase the number of iterations, check the scale of the features or consider increasing regularisation. Duality gap: 3.982e-01, tolerance: 1.661e-04 Linear regression models with null weight for the l1 regularization term are more efficiently fitted using one of the solvers implemented in sklearn.linear_model.Ridge/RidgeCV instead.\n",
      "Objective did not converge. You might want to increase the number of iterations, check the scale of the features or consider increasing regularisation. Duality gap: 6.068e-01, tolerance: 2.829e-04 Linear regression models with null weight for the l1 regularization term are more efficiently fitted using one of the solvers implemented in sklearn.linear_model.Ridge/RidgeCV instead.\n",
      "Objective did not converge. You might want to increase the number of iterations, check the scale of the features or consider increasing regularisation. Duality gap: 4.288e-01, tolerance: 2.056e-04 Linear regression models with null weight for the l1 regularization term are more efficiently fitted using one of the solvers implemented in sklearn.linear_model.Ridge/RidgeCV instead.\n",
      "Objective did not converge. You might want to increase the number of iterations, check the scale of the features or consider increasing regularisation. Duality gap: 4.558e-01, tolerance: 2.405e-04 Linear regression models with null weight for the l1 regularization term are more efficiently fitted using one of the solvers implemented in sklearn.linear_model.Ridge/RidgeCV instead.\n",
      "Objective did not converge. You might want to increase the number of iterations, check the scale of the features or consider increasing regularisation. Duality gap: 4.591e-01, tolerance: 2.719e-04 Linear regression models with null weight for the l1 regularization term are more efficiently fitted using one of the solvers implemented in sklearn.linear_model.Ridge/RidgeCV instead.\n",
      "Objective did not converge. You might want to increase the number of iterations, check the scale of the features or consider increasing regularisation. Duality gap: 3.325e-01, tolerance: 1.661e-04 Linear regression models with null weight for the l1 regularization term are more efficiently fitted using one of the solvers implemented in sklearn.linear_model.Ridge/RidgeCV instead.\n",
      "Objective did not converge. You might want to increase the number of iterations, check the scale of the features or consider increasing regularisation. Duality gap: 4.820e-01, tolerance: 2.829e-04 Linear regression models with null weight for the l1 regularization term are more efficiently fitted using one of the solvers implemented in sklearn.linear_model.Ridge/RidgeCV instead.\n",
      "Objective did not converge. You might want to increase the number of iterations, check the scale of the features or consider increasing regularisation. Duality gap: 4.286e-01, tolerance: 2.056e-04 Linear regression models with null weight for the l1 regularization term are more efficiently fitted using one of the solvers implemented in sklearn.linear_model.Ridge/RidgeCV instead.\n",
      "Objective did not converge. You might want to increase the number of iterations, check the scale of the features or consider increasing regularisation. Duality gap: 4.554e-01, tolerance: 2.405e-04 Linear regression models with null weight for the l1 regularization term are more efficiently fitted using one of the solvers implemented in sklearn.linear_model.Ridge/RidgeCV instead.\n",
      "Objective did not converge. You might want to increase the number of iterations, check the scale of the features or consider increasing regularisation. Duality gap: 4.585e-01, tolerance: 2.719e-04 Linear regression models with null weight for the l1 regularization term are more efficiently fitted using one of the solvers implemented in sklearn.linear_model.Ridge/RidgeCV instead.\n",
      "Objective did not converge. You might want to increase the number of iterations, check the scale of the features or consider increasing regularisation. Duality gap: 3.323e-01, tolerance: 1.661e-04 Linear regression models with null weight for the l1 regularization term are more efficiently fitted using one of the solvers implemented in sklearn.linear_model.Ridge/RidgeCV instead.\n",
      "Objective did not converge. You might want to increase the number of iterations, check the scale of the features or consider increasing regularisation. Duality gap: 4.817e-01, tolerance: 2.829e-04 Linear regression models with null weight for the l1 regularization term are more efficiently fitted using one of the solvers implemented in sklearn.linear_model.Ridge/RidgeCV instead.\n",
      "Objective did not converge. You might want to increase the number of iterations, check the scale of the features or consider increasing regularisation. Duality gap: 4.964e-01, tolerance: 2.056e-04\n",
      "Objective did not converge. You might want to increase the number of iterations, check the scale of the features or consider increasing regularisation. Duality gap: 5.288e-01, tolerance: 2.405e-04\n",
      "Objective did not converge. You might want to increase the number of iterations, check the scale of the features or consider increasing regularisation. Duality gap: 5.685e-01, tolerance: 2.719e-04\n",
      "Objective did not converge. You might want to increase the number of iterations, check the scale of the features or consider increasing regularisation. Duality gap: 3.614e-01, tolerance: 1.661e-04\n",
      "Objective did not converge. You might want to increase the number of iterations, check the scale of the features or consider increasing regularisation. Duality gap: 5.742e-01, tolerance: 2.829e-04\n",
      "Objective did not converge. You might want to increase the number of iterations, check the scale of the features or consider increasing regularisation. Duality gap: 4.913e-02, tolerance: 2.056e-04\n",
      "Objective did not converge. You might want to increase the number of iterations, check the scale of the features or consider increasing regularisation. Duality gap: 8.549e-02, tolerance: 2.405e-04\n",
      "Objective did not converge. You might want to increase the number of iterations, check the scale of the features or consider increasing regularisation. Duality gap: 6.058e-02, tolerance: 2.719e-04\n",
      "Objective did not converge. You might want to increase the number of iterations, check the scale of the features or consider increasing regularisation. Duality gap: 1.621e-02, tolerance: 1.661e-04\n",
      "Objective did not converge. You might want to increase the number of iterations, check the scale of the features or consider increasing regularisation. Duality gap: 7.195e-02, tolerance: 2.829e-04\n",
      "Objective did not converge. You might want to increase the number of iterations, check the scale of the features or consider increasing regularisation. Duality gap: 4.808e-04, tolerance: 2.056e-04\n",
      "Objective did not converge. You might want to increase the number of iterations, check the scale of the features or consider increasing regularisation. Duality gap: 1.172e-03, tolerance: 2.405e-04\n",
      "Objective did not converge. You might want to increase the number of iterations, check the scale of the features or consider increasing regularisation. Duality gap: 1.593e-03, tolerance: 2.719e-04\n",
      "Objective did not converge. You might want to increase the number of iterations, check the scale of the features or consider increasing regularisation. Duality gap: 3.678e-04, tolerance: 1.661e-04\n",
      "Objective did not converge. You might want to increase the number of iterations, check the scale of the features or consider increasing regularisation. Duality gap: 7.885e-04, tolerance: 2.829e-04\n",
      "Objective did not converge. You might want to increase the number of iterations, check the scale of the features or consider increasing regularisation. Duality gap: 4.500e-01, tolerance: 2.056e-04\n",
      "Objective did not converge. You might want to increase the number of iterations, check the scale of the features or consider increasing regularisation. Duality gap: 4.794e-01, tolerance: 2.405e-04\n",
      "Objective did not converge. You might want to increase the number of iterations, check the scale of the features or consider increasing regularisation. Duality gap: 5.279e-01, tolerance: 2.719e-04\n",
      "Objective did not converge. You might want to increase the number of iterations, check the scale of the features or consider increasing regularisation. Duality gap: 3.155e-01, tolerance: 1.661e-04\n",
      "Objective did not converge. You might want to increase the number of iterations, check the scale of the features or consider increasing regularisation. Duality gap: 5.303e-01, tolerance: 2.829e-04\n",
      "Objective did not converge. You might want to increase the number of iterations, check the scale of the features or consider increasing regularisation. Duality gap: 2.151e-02, tolerance: 2.056e-04\n",
      "Objective did not converge. You might want to increase the number of iterations, check the scale of the features or consider increasing regularisation. Duality gap: 3.018e-02, tolerance: 2.405e-04\n",
      "Objective did not converge. You might want to increase the number of iterations, check the scale of the features or consider increasing regularisation. Duality gap: 3.951e-02, tolerance: 2.719e-04\n",
      "Objective did not converge. You might want to increase the number of iterations, check the scale of the features or consider increasing regularisation. Duality gap: 3.516e-03, tolerance: 1.661e-04\n",
      "Objective did not converge. You might want to increase the number of iterations, check the scale of the features or consider increasing regularisation. Duality gap: 2.546e-02, tolerance: 2.829e-04\n"
     ]
    },
    {
     "name": "stderr",
     "output_type": "stream",
     "text": [
      "Objective did not converge. You might want to increase the number of iterations, check the scale of the features or consider increasing regularisation. Duality gap: 5.527e-04, tolerance: 2.056e-04\n",
      "Objective did not converge. You might want to increase the number of iterations, check the scale of the features or consider increasing regularisation. Duality gap: 7.003e-04, tolerance: 2.405e-04\n",
      "Objective did not converge. You might want to increase the number of iterations, check the scale of the features or consider increasing regularisation. Duality gap: 1.600e-03, tolerance: 2.719e-04\n",
      "Objective did not converge. You might want to increase the number of iterations, check the scale of the features or consider increasing regularisation. Duality gap: 3.926e-04, tolerance: 1.661e-04\n",
      "Objective did not converge. You might want to increase the number of iterations, check the scale of the features or consider increasing regularisation. Duality gap: 7.474e-04, tolerance: 2.829e-04\n",
      "Objective did not converge. You might want to increase the number of iterations, check the scale of the features or consider increasing regularisation. Duality gap: 3.940e-01, tolerance: 2.056e-04\n",
      "Objective did not converge. You might want to increase the number of iterations, check the scale of the features or consider increasing regularisation. Duality gap: 4.245e-01, tolerance: 2.405e-04\n",
      "Objective did not converge. You might want to increase the number of iterations, check the scale of the features or consider increasing regularisation. Duality gap: 4.761e-01, tolerance: 2.719e-04\n",
      "Objective did not converge. You might want to increase the number of iterations, check the scale of the features or consider increasing regularisation. Duality gap: 2.527e-01, tolerance: 1.661e-04\n",
      "Objective did not converge. You might want to increase the number of iterations, check the scale of the features or consider increasing regularisation. Duality gap: 4.747e-01, tolerance: 2.829e-04\n",
      "Objective did not converge. You might want to increase the number of iterations, check the scale of the features or consider increasing regularisation. Duality gap: 1.396e-02, tolerance: 2.056e-04\n",
      "Objective did not converge. You might want to increase the number of iterations, check the scale of the features or consider increasing regularisation. Duality gap: 1.219e-02, tolerance: 2.405e-04\n",
      "Objective did not converge. You might want to increase the number of iterations, check the scale of the features or consider increasing regularisation. Duality gap: 2.969e-02, tolerance: 2.719e-04\n",
      "Objective did not converge. You might want to increase the number of iterations, check the scale of the features or consider increasing regularisation. Duality gap: 1.860e-03, tolerance: 1.661e-04\n",
      "Objective did not converge. You might want to increase the number of iterations, check the scale of the features or consider increasing regularisation. Duality gap: 1.746e-02, tolerance: 2.829e-04\n",
      "Objective did not converge. You might want to increase the number of iterations, check the scale of the features or consider increasing regularisation. Duality gap: 4.435e-04, tolerance: 2.056e-04\n",
      "Objective did not converge. You might want to increase the number of iterations, check the scale of the features or consider increasing regularisation. Duality gap: 5.053e-04, tolerance: 2.405e-04\n",
      "Objective did not converge. You might want to increase the number of iterations, check the scale of the features or consider increasing regularisation. Duality gap: 1.436e-03, tolerance: 2.719e-04\n",
      "Objective did not converge. You might want to increase the number of iterations, check the scale of the features or consider increasing regularisation. Duality gap: 7.263e-04, tolerance: 2.829e-04\n",
      "Objective did not converge. You might want to increase the number of iterations, check the scale of the features or consider increasing regularisation. Duality gap: 3.338e-01, tolerance: 2.056e-04\n",
      "Objective did not converge. You might want to increase the number of iterations, check the scale of the features or consider increasing regularisation. Duality gap: 3.721e-01, tolerance: 2.405e-04\n",
      "Objective did not converge. You might want to increase the number of iterations, check the scale of the features or consider increasing regularisation. Duality gap: 4.217e-01, tolerance: 2.719e-04\n",
      "Objective did not converge. You might want to increase the number of iterations, check the scale of the features or consider increasing regularisation. Duality gap: 1.816e-01, tolerance: 1.661e-04\n",
      "Objective did not converge. You might want to increase the number of iterations, check the scale of the features or consider increasing regularisation. Duality gap: 4.156e-01, tolerance: 2.829e-04\n",
      "Objective did not converge. You might want to increase the number of iterations, check the scale of the features or consider increasing regularisation. Duality gap: 5.165e-03, tolerance: 2.056e-04\n",
      "Objective did not converge. You might want to increase the number of iterations, check the scale of the features or consider increasing regularisation. Duality gap: 6.682e-03, tolerance: 2.405e-04\n",
      "Objective did not converge. You might want to increase the number of iterations, check the scale of the features or consider increasing regularisation. Duality gap: 2.336e-02, tolerance: 2.719e-04\n",
      "Objective did not converge. You might want to increase the number of iterations, check the scale of the features or consider increasing regularisation. Duality gap: 6.034e-04, tolerance: 1.661e-04\n",
      "Objective did not converge. You might want to increase the number of iterations, check the scale of the features or consider increasing regularisation. Duality gap: 6.096e-03, tolerance: 2.829e-04\n",
      "Objective did not converge. You might want to increase the number of iterations, check the scale of the features or consider increasing regularisation. Duality gap: 3.771e-04, tolerance: 2.056e-04\n",
      "Objective did not converge. You might want to increase the number of iterations, check the scale of the features or consider increasing regularisation. Duality gap: 4.178e-04, tolerance: 2.405e-04\n",
      "Objective did not converge. You might want to increase the number of iterations, check the scale of the features or consider increasing regularisation. Duality gap: 1.133e-03, tolerance: 2.719e-04\n",
      "Objective did not converge. You might want to increase the number of iterations, check the scale of the features or consider increasing regularisation. Duality gap: 5.741e-04, tolerance: 2.829e-04\n",
      "Objective did not converge. You might want to increase the number of iterations, check the scale of the features or consider increasing regularisation. Duality gap: 2.624e-01, tolerance: 2.056e-04\n",
      "Objective did not converge. You might want to increase the number of iterations, check the scale of the features or consider increasing regularisation. Duality gap: 3.001e-01, tolerance: 2.405e-04\n",
      "Objective did not converge. You might want to increase the number of iterations, check the scale of the features or consider increasing regularisation. Duality gap: 3.569e-01, tolerance: 2.719e-04\n",
      "Objective did not converge. You might want to increase the number of iterations, check the scale of the features or consider increasing regularisation. Duality gap: 1.125e-01, tolerance: 1.661e-04\n",
      "Objective did not converge. You might want to increase the number of iterations, check the scale of the features or consider increasing regularisation. Duality gap: 3.543e-01, tolerance: 2.829e-04\n",
      "Objective did not converge. You might want to increase the number of iterations, check the scale of the features or consider increasing regularisation. Duality gap: 2.118e-03, tolerance: 2.056e-04\n",
      "Objective did not converge. You might want to increase the number of iterations, check the scale of the features or consider increasing regularisation. Duality gap: 3.518e-03, tolerance: 2.405e-04\n",
      "Objective did not converge. You might want to increase the number of iterations, check the scale of the features or consider increasing regularisation. Duality gap: 1.214e-02, tolerance: 2.719e-04\n",
      "Objective did not converge. You might want to increase the number of iterations, check the scale of the features or consider increasing regularisation. Duality gap: 6.514e-04, tolerance: 1.661e-04\n",
      "Objective did not converge. You might want to increase the number of iterations, check the scale of the features or consider increasing regularisation. Duality gap: 4.063e-03, tolerance: 2.829e-04\n",
      "Objective did not converge. You might want to increase the number of iterations, check the scale of the features or consider increasing regularisation. Duality gap: 6.859e-04, tolerance: 2.719e-04\n",
      "Objective did not converge. You might want to increase the number of iterations, check the scale of the features or consider increasing regularisation. Duality gap: 1.686e-01, tolerance: 2.056e-04\n",
      "Objective did not converge. You might want to increase the number of iterations, check the scale of the features or consider increasing regularisation. Duality gap: 2.102e-01, tolerance: 2.405e-04\n",
      "Objective did not converge. You might want to increase the number of iterations, check the scale of the features or consider increasing regularisation. Duality gap: 2.662e-01, tolerance: 2.719e-04\n",
      "Objective did not converge. You might want to increase the number of iterations, check the scale of the features or consider increasing regularisation. Duality gap: 9.811e-02, tolerance: 1.661e-04\n",
      "Objective did not converge. You might want to increase the number of iterations, check the scale of the features or consider increasing regularisation. Duality gap: 2.754e-01, tolerance: 2.829e-04\n",
      "Objective did not converge. You might want to increase the number of iterations, check the scale of the features or consider increasing regularisation. Duality gap: 1.008e-03, tolerance: 2.056e-04\n",
      "Objective did not converge. You might want to increase the number of iterations, check the scale of the features or consider increasing regularisation. Duality gap: 4.039e-03, tolerance: 2.405e-04\n",
      "Objective did not converge. You might want to increase the number of iterations, check the scale of the features or consider increasing regularisation. Duality gap: 1.820e-02, tolerance: 2.719e-04\n",
      "Objective did not converge. You might want to increase the number of iterations, check the scale of the features or consider increasing regularisation. Duality gap: 6.727e-04, tolerance: 1.661e-04\n",
      "Objective did not converge. You might want to increase the number of iterations, check the scale of the features or consider increasing regularisation. Duality gap: 5.271e-03, tolerance: 2.829e-04\n",
      "Objective did not converge. You might want to increase the number of iterations, check the scale of the features or consider increasing regularisation. Duality gap: 9.772e-04, tolerance: 2.719e-04\n",
      "Objective did not converge. You might want to increase the number of iterations, check the scale of the features or consider increasing regularisation. Duality gap: 1.114e-01, tolerance: 2.056e-04\n",
      "Objective did not converge. You might want to increase the number of iterations, check the scale of the features or consider increasing regularisation. Duality gap: 1.638e-01, tolerance: 2.405e-04\n",
      "Objective did not converge. You might want to increase the number of iterations, check the scale of the features or consider increasing regularisation. Duality gap: 2.102e-01, tolerance: 2.719e-04\n"
     ]
    },
    {
     "name": "stderr",
     "output_type": "stream",
     "text": [
      "Objective did not converge. You might want to increase the number of iterations, check the scale of the features or consider increasing regularisation. Duality gap: 8.398e-02, tolerance: 1.661e-04\n",
      "Objective did not converge. You might want to increase the number of iterations, check the scale of the features or consider increasing regularisation. Duality gap: 2.149e-01, tolerance: 2.829e-04\n",
      "Objective did not converge. You might want to increase the number of iterations, check the scale of the features or consider increasing regularisation. Duality gap: 9.828e-04, tolerance: 2.056e-04\n",
      "Objective did not converge. You might want to increase the number of iterations, check the scale of the features or consider increasing regularisation. Duality gap: 1.494e-03, tolerance: 2.405e-04\n",
      "Objective did not converge. You might want to increase the number of iterations, check the scale of the features or consider increasing regularisation. Duality gap: 1.553e-02, tolerance: 2.719e-04\n",
      "Objective did not converge. You might want to increase the number of iterations, check the scale of the features or consider increasing regularisation. Duality gap: 6.847e-04, tolerance: 1.661e-04\n",
      "Objective did not converge. You might want to increase the number of iterations, check the scale of the features or consider increasing regularisation. Duality gap: 1.975e-03, tolerance: 2.829e-04\n",
      "Objective did not converge. You might want to increase the number of iterations, check the scale of the features or consider increasing regularisation. Duality gap: 6.231e-04, tolerance: 2.719e-04\n",
      "Objective did not converge. You might want to increase the number of iterations, check the scale of the features or consider increasing regularisation. Duality gap: 9.310e-02, tolerance: 2.056e-04\n",
      "Objective did not converge. You might want to increase the number of iterations, check the scale of the features or consider increasing regularisation. Duality gap: 1.436e-01, tolerance: 2.405e-04\n",
      "Objective did not converge. You might want to increase the number of iterations, check the scale of the features or consider increasing regularisation. Duality gap: 1.796e-01, tolerance: 2.719e-04\n",
      "Objective did not converge. You might want to increase the number of iterations, check the scale of the features or consider increasing regularisation. Duality gap: 7.015e-02, tolerance: 1.661e-04\n",
      "Objective did not converge. You might want to increase the number of iterations, check the scale of the features or consider increasing regularisation. Duality gap: 1.926e-01, tolerance: 2.829e-04\n",
      "Objective did not converge. You might want to increase the number of iterations, check the scale of the features or consider increasing regularisation. Duality gap: 9.557e-04, tolerance: 2.056e-04\n",
      "Objective did not converge. You might want to increase the number of iterations, check the scale of the features or consider increasing regularisation. Duality gap: 1.463e-03, tolerance: 2.405e-04\n",
      "Objective did not converge. You might want to increase the number of iterations, check the scale of the features or consider increasing regularisation. Duality gap: 1.096e-02, tolerance: 2.719e-04\n",
      "Objective did not converge. You might want to increase the number of iterations, check the scale of the features or consider increasing regularisation. Duality gap: 6.836e-04, tolerance: 1.661e-04\n",
      "Objective did not converge. You might want to increase the number of iterations, check the scale of the features or consider increasing regularisation. Duality gap: 2.144e-03, tolerance: 2.829e-04\n",
      "Objective did not converge. You might want to increase the number of iterations, check the scale of the features or consider increasing regularisation. Duality gap: 9.360e-04, tolerance: 2.719e-04\n",
      "Objective did not converge. You might want to increase the number of iterations, check the scale of the features or consider increasing regularisation. Duality gap: 7.593e-02, tolerance: 2.056e-04\n",
      "Objective did not converge. You might want to increase the number of iterations, check the scale of the features or consider increasing regularisation. Duality gap: 1.231e-01, tolerance: 2.405e-04\n",
      "Objective did not converge. You might want to increase the number of iterations, check the scale of the features or consider increasing regularisation. Duality gap: 1.483e-01, tolerance: 2.719e-04\n",
      "Objective did not converge. You might want to increase the number of iterations, check the scale of the features or consider increasing regularisation. Duality gap: 5.659e-02, tolerance: 1.661e-04\n",
      "Objective did not converge. You might want to increase the number of iterations, check the scale of the features or consider increasing regularisation. Duality gap: 1.704e-01, tolerance: 2.829e-04\n",
      "Objective did not converge. You might want to increase the number of iterations, check the scale of the features or consider increasing regularisation. Duality gap: 9.224e-04, tolerance: 2.056e-04\n",
      "Objective did not converge. You might want to increase the number of iterations, check the scale of the features or consider increasing regularisation. Duality gap: 1.523e-03, tolerance: 2.405e-04\n",
      "Objective did not converge. You might want to increase the number of iterations, check the scale of the features or consider increasing regularisation. Duality gap: 1.213e-02, tolerance: 2.719e-04\n",
      "Objective did not converge. You might want to increase the number of iterations, check the scale of the features or consider increasing regularisation. Duality gap: 6.635e-04, tolerance: 1.661e-04\n",
      "Objective did not converge. You might want to increase the number of iterations, check the scale of the features or consider increasing regularisation. Duality gap: 2.305e-03, tolerance: 2.829e-04\n",
      "Objective did not converge. You might want to increase the number of iterations, check the scale of the features or consider increasing regularisation. Duality gap: 1.384e-03, tolerance: 2.719e-04\n",
      "Objective did not converge. You might want to increase the number of iterations, check the scale of the features or consider increasing regularisation. Duality gap: 7.926e-01, tolerance: 2.056e-04 Linear regression models with null weight for the l1 regularization term are more efficiently fitted using one of the solvers implemented in sklearn.linear_model.Ridge/RidgeCV instead.\n",
      "Objective did not converge. You might want to increase the number of iterations, check the scale of the features or consider increasing regularisation. Duality gap: 8.851e-01, tolerance: 2.405e-04 Linear regression models with null weight for the l1 regularization term are more efficiently fitted using one of the solvers implemented in sklearn.linear_model.Ridge/RidgeCV instead.\n",
      "Objective did not converge. You might want to increase the number of iterations, check the scale of the features or consider increasing regularisation. Duality gap: 9.737e-01, tolerance: 2.719e-04 Linear regression models with null weight for the l1 regularization term are more efficiently fitted using one of the solvers implemented in sklearn.linear_model.Ridge/RidgeCV instead.\n",
      "Objective did not converge. You might want to increase the number of iterations, check the scale of the features or consider increasing regularisation. Duality gap: 6.227e-01, tolerance: 1.661e-04 Linear regression models with null weight for the l1 regularization term are more efficiently fitted using one of the solvers implemented in sklearn.linear_model.Ridge/RidgeCV instead.\n",
      "Objective did not converge. You might want to increase the number of iterations, check the scale of the features or consider increasing regularisation. Duality gap: 9.936e-01, tolerance: 2.829e-04 Linear regression models with null weight for the l1 regularization term are more efficiently fitted using one of the solvers implemented in sklearn.linear_model.Ridge/RidgeCV instead.\n",
      "Objective did not converge. You might want to increase the number of iterations, check the scale of the features or consider increasing regularisation. Duality gap: 7.675e-01, tolerance: 2.056e-04 Linear regression models with null weight for the l1 regularization term are more efficiently fitted using one of the solvers implemented in sklearn.linear_model.Ridge/RidgeCV instead.\n",
      "Objective did not converge. You might want to increase the number of iterations, check the scale of the features or consider increasing regularisation. Duality gap: 8.513e-01, tolerance: 2.405e-04 Linear regression models with null weight for the l1 regularization term are more efficiently fitted using one of the solvers implemented in sklearn.linear_model.Ridge/RidgeCV instead.\n",
      "Objective did not converge. You might want to increase the number of iterations, check the scale of the features or consider increasing regularisation. Duality gap: 9.401e-01, tolerance: 2.719e-04 Linear regression models with null weight for the l1 regularization term are more efficiently fitted using one of the solvers implemented in sklearn.linear_model.Ridge/RidgeCV instead.\n",
      "Objective did not converge. You might want to increase the number of iterations, check the scale of the features or consider increasing regularisation. Duality gap: 6.035e-01, tolerance: 1.661e-04 Linear regression models with null weight for the l1 regularization term are more efficiently fitted using one of the solvers implemented in sklearn.linear_model.Ridge/RidgeCV instead.\n",
      "Objective did not converge. You might want to increase the number of iterations, check the scale of the features or consider increasing regularisation. Duality gap: 9.520e-01, tolerance: 2.829e-04 Linear regression models with null weight for the l1 regularization term are more efficiently fitted using one of the solvers implemented in sklearn.linear_model.Ridge/RidgeCV instead.\n",
      "Objective did not converge. You might want to increase the number of iterations, check the scale of the features or consider increasing regularisation. Duality gap: 7.675e-01, tolerance: 2.056e-04 Linear regression models with null weight for the l1 regularization term are more efficiently fitted using one of the solvers implemented in sklearn.linear_model.Ridge/RidgeCV instead.\n",
      "Objective did not converge. You might want to increase the number of iterations, check the scale of the features or consider increasing regularisation. Duality gap: 8.513e-01, tolerance: 2.405e-04 Linear regression models with null weight for the l1 regularization term are more efficiently fitted using one of the solvers implemented in sklearn.linear_model.Ridge/RidgeCV instead.\n",
      "Objective did not converge. You might want to increase the number of iterations, check the scale of the features or consider increasing regularisation. Duality gap: 9.401e-01, tolerance: 2.719e-04 Linear regression models with null weight for the l1 regularization term are more efficiently fitted using one of the solvers implemented in sklearn.linear_model.Ridge/RidgeCV instead.\n",
      "Objective did not converge. You might want to increase the number of iterations, check the scale of the features or consider increasing regularisation. Duality gap: 6.035e-01, tolerance: 1.661e-04 Linear regression models with null weight for the l1 regularization term are more efficiently fitted using one of the solvers implemented in sklearn.linear_model.Ridge/RidgeCV instead.\n",
      "Objective did not converge. You might want to increase the number of iterations, check the scale of the features or consider increasing regularisation. Duality gap: 9.520e-01, tolerance: 2.829e-04 Linear regression models with null weight for the l1 regularization term are more efficiently fitted using one of the solvers implemented in sklearn.linear_model.Ridge/RidgeCV instead.\n",
      "Objective did not converge. You might want to increase the number of iterations, check the scale of the features or consider increasing regularisation. Duality gap: 2.431e-02, tolerance: 2.056e-04\n",
      "Objective did not converge. You might want to increase the number of iterations, check the scale of the features or consider increasing regularisation. Duality gap: 4.356e-02, tolerance: 2.405e-04\n"
     ]
    },
    {
     "name": "stderr",
     "output_type": "stream",
     "text": [
      "Objective did not converge. You might want to increase the number of iterations, check the scale of the features or consider increasing regularisation. Duality gap: 5.711e-02, tolerance: 2.719e-04\n",
      "Objective did not converge. You might want to increase the number of iterations, check the scale of the features or consider increasing regularisation. Duality gap: 1.947e-02, tolerance: 1.661e-04\n",
      "Objective did not converge. You might want to increase the number of iterations, check the scale of the features or consider increasing regularisation. Duality gap: 7.444e-02, tolerance: 2.829e-04\n",
      "Objective did not converge. You might want to increase the number of iterations, check the scale of the features or consider increasing regularisation. Duality gap: 1.938e-03, tolerance: 2.056e-04\n",
      "Objective did not converge. You might want to increase the number of iterations, check the scale of the features or consider increasing regularisation. Duality gap: 5.585e-03, tolerance: 2.405e-04\n",
      "Objective did not converge. You might want to increase the number of iterations, check the scale of the features or consider increasing regularisation. Duality gap: 1.084e-02, tolerance: 2.719e-04\n",
      "Objective did not converge. You might want to increase the number of iterations, check the scale of the features or consider increasing regularisation. Duality gap: 7.981e-04, tolerance: 1.661e-04\n",
      "Objective did not converge. You might want to increase the number of iterations, check the scale of the features or consider increasing regularisation. Duality gap: 1.947e-02, tolerance: 2.829e-04\n",
      "Objective did not converge. You might want to increase the number of iterations, check the scale of the features or consider increasing regularisation. Duality gap: 7.963e-04, tolerance: 2.719e-04\n",
      "Objective did not converge. You might want to increase the number of iterations, check the scale of the features or consider increasing regularisation. Duality gap: 1.405e-03, tolerance: 2.829e-04\n",
      "Objective did not converge. You might want to increase the number of iterations, check the scale of the features or consider increasing regularisation. Duality gap: 9.674e-01, tolerance: 2.056e-04 Linear regression models with null weight for the l1 regularization term are more efficiently fitted using one of the solvers implemented in sklearn.linear_model.Ridge/RidgeCV instead.\n",
      "Objective did not converge. You might want to increase the number of iterations, check the scale of the features or consider increasing regularisation. Duality gap: 1.119e+00, tolerance: 2.405e-04 Linear regression models with null weight for the l1 regularization term are more efficiently fitted using one of the solvers implemented in sklearn.linear_model.Ridge/RidgeCV instead.\n",
      "Objective did not converge. You might want to increase the number of iterations, check the scale of the features or consider increasing regularisation. Duality gap: 1.264e+00, tolerance: 2.719e-04 Linear regression models with null weight for the l1 regularization term are more efficiently fitted using one of the solvers implemented in sklearn.linear_model.Ridge/RidgeCV instead.\n",
      "Objective did not converge. You might want to increase the number of iterations, check the scale of the features or consider increasing regularisation. Duality gap: 7.769e-01, tolerance: 1.661e-04 Linear regression models with null weight for the l1 regularization term are more efficiently fitted using one of the solvers implemented in sklearn.linear_model.Ridge/RidgeCV instead.\n",
      "Objective did not converge. You might want to increase the number of iterations, check the scale of the features or consider increasing regularisation. Duality gap: 1.304e+00, tolerance: 2.829e-04 Linear regression models with null weight for the l1 regularization term are more efficiently fitted using one of the solvers implemented in sklearn.linear_model.Ridge/RidgeCV instead.\n",
      "Objective did not converge. You might want to increase the number of iterations, check the scale of the features or consider increasing regularisation. Duality gap: 9.664e-01, tolerance: 2.056e-04 Linear regression models with null weight for the l1 regularization term are more efficiently fitted using one of the solvers implemented in sklearn.linear_model.Ridge/RidgeCV instead.\n",
      "Objective did not converge. You might want to increase the number of iterations, check the scale of the features or consider increasing regularisation. Duality gap: 1.118e+00, tolerance: 2.405e-04 Linear regression models with null weight for the l1 regularization term are more efficiently fitted using one of the solvers implemented in sklearn.linear_model.Ridge/RidgeCV instead.\n",
      "Objective did not converge. You might want to increase the number of iterations, check the scale of the features or consider increasing regularisation. Duality gap: 1.263e+00, tolerance: 2.719e-04 Linear regression models with null weight for the l1 regularization term are more efficiently fitted using one of the solvers implemented in sklearn.linear_model.Ridge/RidgeCV instead.\n",
      "Objective did not converge. You might want to increase the number of iterations, check the scale of the features or consider increasing regularisation. Duality gap: 7.759e-01, tolerance: 1.661e-04 Linear regression models with null weight for the l1 regularization term are more efficiently fitted using one of the solvers implemented in sklearn.linear_model.Ridge/RidgeCV instead.\n",
      "Objective did not converge. You might want to increase the number of iterations, check the scale of the features or consider increasing regularisation. Duality gap: 1.302e+00, tolerance: 2.829e-04 Linear regression models with null weight for the l1 regularization term are more efficiently fitted using one of the solvers implemented in sklearn.linear_model.Ridge/RidgeCV instead.\n",
      "Objective did not converge. You might want to increase the number of iterations, check the scale of the features or consider increasing regularisation. Duality gap: 9.664e-01, tolerance: 2.056e-04 Linear regression models with null weight for the l1 regularization term are more efficiently fitted using one of the solvers implemented in sklearn.linear_model.Ridge/RidgeCV instead.\n",
      "Objective did not converge. You might want to increase the number of iterations, check the scale of the features or consider increasing regularisation. Duality gap: 1.118e+00, tolerance: 2.405e-04 Linear regression models with null weight for the l1 regularization term are more efficiently fitted using one of the solvers implemented in sklearn.linear_model.Ridge/RidgeCV instead.\n",
      "Objective did not converge. You might want to increase the number of iterations, check the scale of the features or consider increasing regularisation. Duality gap: 1.263e+00, tolerance: 2.719e-04 Linear regression models with null weight for the l1 regularization term are more efficiently fitted using one of the solvers implemented in sklearn.linear_model.Ridge/RidgeCV instead.\n",
      "Objective did not converge. You might want to increase the number of iterations, check the scale of the features or consider increasing regularisation. Duality gap: 7.759e-01, tolerance: 1.661e-04 Linear regression models with null weight for the l1 regularization term are more efficiently fitted using one of the solvers implemented in sklearn.linear_model.Ridge/RidgeCV instead.\n",
      "Objective did not converge. You might want to increase the number of iterations, check the scale of the features or consider increasing regularisation. Duality gap: 1.302e+00, tolerance: 2.829e-04 Linear regression models with null weight for the l1 regularization term are more efficiently fitted using one of the solvers implemented in sklearn.linear_model.Ridge/RidgeCV instead.\n",
      "Objective did not converge. You might want to increase the number of iterations, check the scale of the features or consider increasing regularisation. Duality gap: 1.019e+00, tolerance: 2.056e-04 Linear regression models with null weight for the l1 regularization term are more efficiently fitted using one of the solvers implemented in sklearn.linear_model.Ridge/RidgeCV instead.\n",
      "Objective did not converge. You might want to increase the number of iterations, check the scale of the features or consider increasing regularisation. Duality gap: 1.190e+00, tolerance: 2.405e-04 Linear regression models with null weight for the l1 regularization term are more efficiently fitted using one of the solvers implemented in sklearn.linear_model.Ridge/RidgeCV instead.\n",
      "Objective did not converge. You might want to increase the number of iterations, check the scale of the features or consider increasing regularisation. Duality gap: 1.345e+00, tolerance: 2.719e-04 Linear regression models with null weight for the l1 regularization term are more efficiently fitted using one of the solvers implemented in sklearn.linear_model.Ridge/RidgeCV instead.\n",
      "Objective did not converge. You might want to increase the number of iterations, check the scale of the features or consider increasing regularisation. Duality gap: 8.222e-01, tolerance: 1.661e-04 Linear regression models with null weight for the l1 regularization term are more efficiently fitted using one of the solvers implemented in sklearn.linear_model.Ridge/RidgeCV instead.\n",
      "Objective did not converge. You might want to increase the number of iterations, check the scale of the features or consider increasing regularisation. Duality gap: 1.397e+00, tolerance: 2.829e-04 Linear regression models with null weight for the l1 regularization term are more efficiently fitted using one of the solvers implemented in sklearn.linear_model.Ridge/RidgeCV instead.\n",
      "Objective did not converge. You might want to increase the number of iterations, check the scale of the features or consider increasing regularisation. Duality gap: 1.019e+00, tolerance: 2.056e-04 Linear regression models with null weight for the l1 regularization term are more efficiently fitted using one of the solvers implemented in sklearn.linear_model.Ridge/RidgeCV instead.\n",
      "Objective did not converge. You might want to increase the number of iterations, check the scale of the features or consider increasing regularisation. Duality gap: 1.190e+00, tolerance: 2.405e-04 Linear regression models with null weight for the l1 regularization term are more efficiently fitted using one of the solvers implemented in sklearn.linear_model.Ridge/RidgeCV instead.\n",
      "Objective did not converge. You might want to increase the number of iterations, check the scale of the features or consider increasing regularisation. Duality gap: 1.345e+00, tolerance: 2.719e-04 Linear regression models with null weight for the l1 regularization term are more efficiently fitted using one of the solvers implemented in sklearn.linear_model.Ridge/RidgeCV instead.\n",
      "Objective did not converge. You might want to increase the number of iterations, check the scale of the features or consider increasing regularisation. Duality gap: 8.222e-01, tolerance: 1.661e-04 Linear regression models with null weight for the l1 regularization term are more efficiently fitted using one of the solvers implemented in sklearn.linear_model.Ridge/RidgeCV instead.\n",
      "Objective did not converge. You might want to increase the number of iterations, check the scale of the features or consider increasing regularisation. Duality gap: 1.397e+00, tolerance: 2.829e-04 Linear regression models with null weight for the l1 regularization term are more efficiently fitted using one of the solvers implemented in sklearn.linear_model.Ridge/RidgeCV instead.\n",
      "Objective did not converge. You might want to increase the number of iterations, check the scale of the features or consider increasing regularisation. Duality gap: 1.019e+00, tolerance: 2.056e-04 Linear regression models with null weight for the l1 regularization term are more efficiently fitted using one of the solvers implemented in sklearn.linear_model.Ridge/RidgeCV instead.\n",
      "Objective did not converge. You might want to increase the number of iterations, check the scale of the features or consider increasing regularisation. Duality gap: 1.190e+00, tolerance: 2.405e-04 Linear regression models with null weight for the l1 regularization term are more efficiently fitted using one of the solvers implemented in sklearn.linear_model.Ridge/RidgeCV instead.\n",
      "Objective did not converge. You might want to increase the number of iterations, check the scale of the features or consider increasing regularisation. Duality gap: 1.345e+00, tolerance: 2.719e-04 Linear regression models with null weight for the l1 regularization term are more efficiently fitted using one of the solvers implemented in sklearn.linear_model.Ridge/RidgeCV instead.\n",
      "Objective did not converge. You might want to increase the number of iterations, check the scale of the features or consider increasing regularisation. Duality gap: 8.222e-01, tolerance: 1.661e-04 Linear regression models with null weight for the l1 regularization term are more efficiently fitted using one of the solvers implemented in sklearn.linear_model.Ridge/RidgeCV instead.\n",
      "Objective did not converge. You might want to increase the number of iterations, check the scale of the features or consider increasing regularisation. Duality gap: 1.397e+00, tolerance: 2.829e-04 Linear regression models with null weight for the l1 regularization term are more efficiently fitted using one of the solvers implemented in sklearn.linear_model.Ridge/RidgeCV instead.\n"
     ]
    },
    {
     "name": "stderr",
     "output_type": "stream",
     "text": [
      "Objective did not converge. You might want to increase the number of iterations, check the scale of the features or consider increasing regularisation. Duality gap: 1.027e+00, tolerance: 2.056e-04 Linear regression models with null weight for the l1 regularization term are more efficiently fitted using one of the solvers implemented in sklearn.linear_model.Ridge/RidgeCV instead.\n",
      "Objective did not converge. You might want to increase the number of iterations, check the scale of the features or consider increasing regularisation. Duality gap: 1.201e+00, tolerance: 2.405e-04 Linear regression models with null weight for the l1 regularization term are more efficiently fitted using one of the solvers implemented in sklearn.linear_model.Ridge/RidgeCV instead.\n",
      "Objective did not converge. You might want to increase the number of iterations, check the scale of the features or consider increasing regularisation. Duality gap: 1.358e+00, tolerance: 2.719e-04 Linear regression models with null weight for the l1 regularization term are more efficiently fitted using one of the solvers implemented in sklearn.linear_model.Ridge/RidgeCV instead.\n",
      "Objective did not converge. You might want to increase the number of iterations, check the scale of the features or consider increasing regularisation. Duality gap: 8.297e-01, tolerance: 1.661e-04 Linear regression models with null weight for the l1 regularization term are more efficiently fitted using one of the solvers implemented in sklearn.linear_model.Ridge/RidgeCV instead.\n",
      "Objective did not converge. You might want to increase the number of iterations, check the scale of the features or consider increasing regularisation. Duality gap: 1.412e+00, tolerance: 2.829e-04 Linear regression models with null weight for the l1 regularization term are more efficiently fitted using one of the solvers implemented in sklearn.linear_model.Ridge/RidgeCV instead.\n",
      "Objective did not converge. You might want to increase the number of iterations, check the scale of the features or consider increasing regularisation. Duality gap: 1.027e+00, tolerance: 2.056e-04 Linear regression models with null weight for the l1 regularization term are more efficiently fitted using one of the solvers implemented in sklearn.linear_model.Ridge/RidgeCV instead.\n",
      "Objective did not converge. You might want to increase the number of iterations, check the scale of the features or consider increasing regularisation. Duality gap: 1.201e+00, tolerance: 2.405e-04 Linear regression models with null weight for the l1 regularization term are more efficiently fitted using one of the solvers implemented in sklearn.linear_model.Ridge/RidgeCV instead.\n",
      "Objective did not converge. You might want to increase the number of iterations, check the scale of the features or consider increasing regularisation. Duality gap: 1.358e+00, tolerance: 2.719e-04 Linear regression models with null weight for the l1 regularization term are more efficiently fitted using one of the solvers implemented in sklearn.linear_model.Ridge/RidgeCV instead.\n",
      "Objective did not converge. You might want to increase the number of iterations, check the scale of the features or consider increasing regularisation. Duality gap: 8.297e-01, tolerance: 1.661e-04 Linear regression models with null weight for the l1 regularization term are more efficiently fitted using one of the solvers implemented in sklearn.linear_model.Ridge/RidgeCV instead.\n",
      "Objective did not converge. You might want to increase the number of iterations, check the scale of the features or consider increasing regularisation. Duality gap: 1.412e+00, tolerance: 2.829e-04 Linear regression models with null weight for the l1 regularization term are more efficiently fitted using one of the solvers implemented in sklearn.linear_model.Ridge/RidgeCV instead.\n",
      "Objective did not converge. You might want to increase the number of iterations, check the scale of the features or consider increasing regularisation. Duality gap: 1.027e+00, tolerance: 2.056e-04 Linear regression models with null weight for the l1 regularization term are more efficiently fitted using one of the solvers implemented in sklearn.linear_model.Ridge/RidgeCV instead.\n",
      "Objective did not converge. You might want to increase the number of iterations, check the scale of the features or consider increasing regularisation. Duality gap: 1.201e+00, tolerance: 2.405e-04 Linear regression models with null weight for the l1 regularization term are more efficiently fitted using one of the solvers implemented in sklearn.linear_model.Ridge/RidgeCV instead.\n",
      "Objective did not converge. You might want to increase the number of iterations, check the scale of the features or consider increasing regularisation. Duality gap: 1.358e+00, tolerance: 2.719e-04 Linear regression models with null weight for the l1 regularization term are more efficiently fitted using one of the solvers implemented in sklearn.linear_model.Ridge/RidgeCV instead.\n",
      "Objective did not converge. You might want to increase the number of iterations, check the scale of the features or consider increasing regularisation. Duality gap: 8.297e-01, tolerance: 1.661e-04 Linear regression models with null weight for the l1 regularization term are more efficiently fitted using one of the solvers implemented in sklearn.linear_model.Ridge/RidgeCV instead.\n",
      "Objective did not converge. You might want to increase the number of iterations, check the scale of the features or consider increasing regularisation. Duality gap: 1.412e+00, tolerance: 2.829e-04 Linear regression models with null weight for the l1 regularization term are more efficiently fitted using one of the solvers implemented in sklearn.linear_model.Ridge/RidgeCV instead.\n",
      "Objective did not converge. You might want to increase the number of iterations, check the scale of the features or consider increasing regularisation. Duality gap: 1.028e+00, tolerance: 2.056e-04 Linear regression models with null weight for the l1 regularization term are more efficiently fitted using one of the solvers implemented in sklearn.linear_model.Ridge/RidgeCV instead.\n",
      "Objective did not converge. You might want to increase the number of iterations, check the scale of the features or consider increasing regularisation. Duality gap: 1.203e+00, tolerance: 2.405e-04 Linear regression models with null weight for the l1 regularization term are more efficiently fitted using one of the solvers implemented in sklearn.linear_model.Ridge/RidgeCV instead.\n",
      "Objective did not converge. You might want to increase the number of iterations, check the scale of the features or consider increasing regularisation. Duality gap: 1.359e+00, tolerance: 2.719e-04 Linear regression models with null weight for the l1 regularization term are more efficiently fitted using one of the solvers implemented in sklearn.linear_model.Ridge/RidgeCV instead.\n",
      "Objective did not converge. You might want to increase the number of iterations, check the scale of the features or consider increasing regularisation. Duality gap: 8.306e-01, tolerance: 1.661e-04 Linear regression models with null weight for the l1 regularization term are more efficiently fitted using one of the solvers implemented in sklearn.linear_model.Ridge/RidgeCV instead.\n",
      "Objective did not converge. You might want to increase the number of iterations, check the scale of the features or consider increasing regularisation. Duality gap: 1.414e+00, tolerance: 2.829e-04 Linear regression models with null weight for the l1 regularization term are more efficiently fitted using one of the solvers implemented in sklearn.linear_model.Ridge/RidgeCV instead.\n",
      "Objective did not converge. You might want to increase the number of iterations, check the scale of the features or consider increasing regularisation. Duality gap: 1.028e+00, tolerance: 2.056e-04 Linear regression models with null weight for the l1 regularization term are more efficiently fitted using one of the solvers implemented in sklearn.linear_model.Ridge/RidgeCV instead.\n",
      "Objective did not converge. You might want to increase the number of iterations, check the scale of the features or consider increasing regularisation. Duality gap: 1.203e+00, tolerance: 2.405e-04 Linear regression models with null weight for the l1 regularization term are more efficiently fitted using one of the solvers implemented in sklearn.linear_model.Ridge/RidgeCV instead.\n",
      "Objective did not converge. You might want to increase the number of iterations, check the scale of the features or consider increasing regularisation. Duality gap: 1.359e+00, tolerance: 2.719e-04 Linear regression models with null weight for the l1 regularization term are more efficiently fitted using one of the solvers implemented in sklearn.linear_model.Ridge/RidgeCV instead.\n",
      "Objective did not converge. You might want to increase the number of iterations, check the scale of the features or consider increasing regularisation. Duality gap: 8.306e-01, tolerance: 1.661e-04 Linear regression models with null weight for the l1 regularization term are more efficiently fitted using one of the solvers implemented in sklearn.linear_model.Ridge/RidgeCV instead.\n",
      "Objective did not converge. You might want to increase the number of iterations, check the scale of the features or consider increasing regularisation. Duality gap: 1.414e+00, tolerance: 2.829e-04 Linear regression models with null weight for the l1 regularization term are more efficiently fitted using one of the solvers implemented in sklearn.linear_model.Ridge/RidgeCV instead.\n",
      "Objective did not converge. You might want to increase the number of iterations, check the scale of the features or consider increasing regularisation. Duality gap: 1.028e+00, tolerance: 2.056e-04 Linear regression models with null weight for the l1 regularization term are more efficiently fitted using one of the solvers implemented in sklearn.linear_model.Ridge/RidgeCV instead.\n",
      "Objective did not converge. You might want to increase the number of iterations, check the scale of the features or consider increasing regularisation. Duality gap: 1.203e+00, tolerance: 2.405e-04 Linear regression models with null weight for the l1 regularization term are more efficiently fitted using one of the solvers implemented in sklearn.linear_model.Ridge/RidgeCV instead.\n",
      "Objective did not converge. You might want to increase the number of iterations, check the scale of the features or consider increasing regularisation. Duality gap: 1.359e+00, tolerance: 2.719e-04 Linear regression models with null weight for the l1 regularization term are more efficiently fitted using one of the solvers implemented in sklearn.linear_model.Ridge/RidgeCV instead.\n",
      "Objective did not converge. You might want to increase the number of iterations, check the scale of the features or consider increasing regularisation. Duality gap: 8.306e-01, tolerance: 1.661e-04 Linear regression models with null weight for the l1 regularization term are more efficiently fitted using one of the solvers implemented in sklearn.linear_model.Ridge/RidgeCV instead.\n",
      "Objective did not converge. You might want to increase the number of iterations, check the scale of the features or consider increasing regularisation. Duality gap: 1.414e+00, tolerance: 2.829e-04 Linear regression models with null weight for the l1 regularization term are more efficiently fitted using one of the solvers implemented in sklearn.linear_model.Ridge/RidgeCV instead.\n"
     ]
    },
    {
     "name": "stdout",
     "output_type": "stream",
     "text": [
      "ElasticNet() {'alpha': 0.001, 'l1_ratio': 0.1, 'max_iter': 5}\n"
     ]
    },
    {
     "name": "stderr",
     "output_type": "stream",
     "text": [
      "Objective did not converge. You might want to increase the number of iterations, check the scale of the features or consider increasing regularisation. Duality gap: 6.299e-02, tolerance: 2.918e-04\n"
     ]
    },
    {
     "data": {
      "text/html": [
       "<div>\n",
       "<style scoped>\n",
       "    .dataframe tbody tr th:only-of-type {\n",
       "        vertical-align: middle;\n",
       "    }\n",
       "\n",
       "    .dataframe tbody tr th {\n",
       "        vertical-align: top;\n",
       "    }\n",
       "\n",
       "    .dataframe thead th {\n",
       "        text-align: right;\n",
       "    }\n",
       "</style>\n",
       "<table border=\"1\" class=\"dataframe\">\n",
       "  <thead>\n",
       "    <tr style=\"text-align: right;\">\n",
       "      <th></th>\n",
       "      <th>modele</th>\n",
       "      <th>R2</th>\n",
       "      <th>RMSE</th>\n",
       "      <th>MAE</th>\n",
       "    </tr>\n",
       "  </thead>\n",
       "  <tbody>\n",
       "    <tr>\n",
       "      <th>0</th>\n",
       "      <td>ElasticNet()</td>\n",
       "      <td>0.118132</td>\n",
       "      <td>0.023221</td>\n",
       "      <td>0.005265</td>\n",
       "    </tr>\n",
       "    <tr>\n",
       "      <th>1</th>\n",
       "      <td>Ridge()</td>\n",
       "      <td>0.014044</td>\n",
       "      <td>0.024554</td>\n",
       "      <td>0.006027</td>\n",
       "    </tr>\n",
       "    <tr>\n",
       "      <th>2</th>\n",
       "      <td>Lasso()</td>\n",
       "      <td>-0.030775</td>\n",
       "      <td>0.025105</td>\n",
       "      <td>0.011992</td>\n",
       "    </tr>\n",
       "    <tr>\n",
       "      <th>3</th>\n",
       "      <td>LinearRegression()</td>\n",
       "      <td>-0.866033</td>\n",
       "      <td>0.033779</td>\n",
       "      <td>0.005488</td>\n",
       "    </tr>\n",
       "  </tbody>\n",
       "</table>\n",
       "</div>"
      ],
      "text/plain": [
       "               modele        R2      RMSE       MAE\n",
       "0        ElasticNet()  0.118132  0.023221  0.005265\n",
       "1             Ridge()  0.014044  0.024554  0.006027\n",
       "2             Lasso() -0.030775  0.025105  0.011992\n",
       "3  LinearRegression() -0.866033  0.033779  0.005488"
      ]
     },
     "execution_count": 29,
     "metadata": {},
     "output_type": "execute_result"
    }
   ],
   "source": [
    "parametre_EN={\"max_iter\": [1, 5, 10], \"alpha\": [0.0001, 0.001, 0.01, 0.1, 1, 10, 100], \"l1_ratio\": np.arange(0.0, 1.0, 0.1)}\n",
    "hyperparameter(df_scores,ElasticNet(),parametre_EN)"
   ]
  },
  {
   "cell_type": "code",
   "execution_count": 30,
   "id": "e102e747",
   "metadata": {},
   "outputs": [
    {
     "name": "stderr",
     "output_type": "stream",
     "text": [
      "Liblinear failed to converge, increase the number of iterations.\n",
      "Liblinear failed to converge, increase the number of iterations.\n",
      "Liblinear failed to converge, increase the number of iterations.\n",
      "Liblinear failed to converge, increase the number of iterations.\n",
      "Liblinear failed to converge, increase the number of iterations.\n",
      "Liblinear failed to converge, increase the number of iterations.\n",
      "Liblinear failed to converge, increase the number of iterations.\n",
      "Liblinear failed to converge, increase the number of iterations.\n"
     ]
    },
    {
     "name": "stdout",
     "output_type": "stream",
     "text": [
      "LinearSVR() {'C': 1}\n"
     ]
    },
    {
     "name": "stderr",
     "output_type": "stream",
     "text": [
      "Liblinear failed to converge, increase the number of iterations.\n",
      "Liblinear failed to converge, increase the number of iterations.\n",
      "Liblinear failed to converge, increase the number of iterations.\n"
     ]
    },
    {
     "data": {
      "text/html": [
       "<div>\n",
       "<style scoped>\n",
       "    .dataframe tbody tr th:only-of-type {\n",
       "        vertical-align: middle;\n",
       "    }\n",
       "\n",
       "    .dataframe tbody tr th {\n",
       "        vertical-align: top;\n",
       "    }\n",
       "\n",
       "    .dataframe thead th {\n",
       "        text-align: right;\n",
       "    }\n",
       "</style>\n",
       "<table border=\"1\" class=\"dataframe\">\n",
       "  <thead>\n",
       "    <tr style=\"text-align: right;\">\n",
       "      <th></th>\n",
       "      <th>modele</th>\n",
       "      <th>R2</th>\n",
       "      <th>RMSE</th>\n",
       "      <th>MAE</th>\n",
       "    </tr>\n",
       "  </thead>\n",
       "  <tbody>\n",
       "    <tr>\n",
       "      <th>0</th>\n",
       "      <td>LinearSVR()</td>\n",
       "      <td>0.396777</td>\n",
       "      <td>0.019205</td>\n",
       "      <td>0.002008</td>\n",
       "    </tr>\n",
       "    <tr>\n",
       "      <th>1</th>\n",
       "      <td>ElasticNet()</td>\n",
       "      <td>0.118132</td>\n",
       "      <td>0.023221</td>\n",
       "      <td>0.005265</td>\n",
       "    </tr>\n",
       "    <tr>\n",
       "      <th>2</th>\n",
       "      <td>Ridge()</td>\n",
       "      <td>0.014044</td>\n",
       "      <td>0.024554</td>\n",
       "      <td>0.006027</td>\n",
       "    </tr>\n",
       "    <tr>\n",
       "      <th>3</th>\n",
       "      <td>Lasso()</td>\n",
       "      <td>-0.030775</td>\n",
       "      <td>0.025105</td>\n",
       "      <td>0.011992</td>\n",
       "    </tr>\n",
       "    <tr>\n",
       "      <th>4</th>\n",
       "      <td>LinearRegression()</td>\n",
       "      <td>-0.866033</td>\n",
       "      <td>0.033779</td>\n",
       "      <td>0.005488</td>\n",
       "    </tr>\n",
       "  </tbody>\n",
       "</table>\n",
       "</div>"
      ],
      "text/plain": [
       "               modele        R2      RMSE       MAE\n",
       "0         LinearSVR()  0.396777  0.019205  0.002008\n",
       "1        ElasticNet()  0.118132  0.023221  0.005265\n",
       "2             Ridge()  0.014044  0.024554  0.006027\n",
       "3             Lasso() -0.030775  0.025105  0.011992\n",
       "4  LinearRegression() -0.866033  0.033779  0.005488"
      ]
     },
     "execution_count": 30,
     "metadata": {},
     "output_type": "execute_result"
    }
   ],
   "source": [
    "parametre_SVM ={'C':[1, 10]}\n",
    "hyperparameter(df_scores,LinearSVR(),parametre_SVM)"
   ]
  },
  {
   "cell_type": "code",
   "execution_count": 31,
   "id": "5e866acf",
   "metadata": {},
   "outputs": [
    {
     "name": "stdout",
     "output_type": "stream",
     "text": [
      "KNeighborsRegressor() {'metric': 'euclidean', 'n_neighbors': 3}\n"
     ]
    },
    {
     "data": {
      "text/html": [
       "<div>\n",
       "<style scoped>\n",
       "    .dataframe tbody tr th:only-of-type {\n",
       "        vertical-align: middle;\n",
       "    }\n",
       "\n",
       "    .dataframe tbody tr th {\n",
       "        vertical-align: top;\n",
       "    }\n",
       "\n",
       "    .dataframe thead th {\n",
       "        text-align: right;\n",
       "    }\n",
       "</style>\n",
       "<table border=\"1\" class=\"dataframe\">\n",
       "  <thead>\n",
       "    <tr style=\"text-align: right;\">\n",
       "      <th></th>\n",
       "      <th>modele</th>\n",
       "      <th>R2</th>\n",
       "      <th>RMSE</th>\n",
       "      <th>MAE</th>\n",
       "    </tr>\n",
       "  </thead>\n",
       "  <tbody>\n",
       "    <tr>\n",
       "      <th>0</th>\n",
       "      <td>KNeighborsRegressor()</td>\n",
       "      <td>0.734673</td>\n",
       "      <td>0.012737</td>\n",
       "      <td>0.002983</td>\n",
       "    </tr>\n",
       "    <tr>\n",
       "      <th>1</th>\n",
       "      <td>LinearSVR()</td>\n",
       "      <td>0.396777</td>\n",
       "      <td>0.019205</td>\n",
       "      <td>0.002008</td>\n",
       "    </tr>\n",
       "    <tr>\n",
       "      <th>2</th>\n",
       "      <td>ElasticNet()</td>\n",
       "      <td>0.118132</td>\n",
       "      <td>0.023221</td>\n",
       "      <td>0.005265</td>\n",
       "    </tr>\n",
       "    <tr>\n",
       "      <th>3</th>\n",
       "      <td>Ridge()</td>\n",
       "      <td>0.014044</td>\n",
       "      <td>0.024554</td>\n",
       "      <td>0.006027</td>\n",
       "    </tr>\n",
       "    <tr>\n",
       "      <th>4</th>\n",
       "      <td>Lasso()</td>\n",
       "      <td>-0.030775</td>\n",
       "      <td>0.025105</td>\n",
       "      <td>0.011992</td>\n",
       "    </tr>\n",
       "    <tr>\n",
       "      <th>5</th>\n",
       "      <td>LinearRegression()</td>\n",
       "      <td>-0.866033</td>\n",
       "      <td>0.033779</td>\n",
       "      <td>0.005488</td>\n",
       "    </tr>\n",
       "  </tbody>\n",
       "</table>\n",
       "</div>"
      ],
      "text/plain": [
       "                  modele        R2      RMSE       MAE\n",
       "0  KNeighborsRegressor()  0.734673  0.012737  0.002983\n",
       "1            LinearSVR()  0.396777  0.019205  0.002008\n",
       "2           ElasticNet()  0.118132  0.023221  0.005265\n",
       "3                Ridge()  0.014044  0.024554  0.006027\n",
       "4                Lasso() -0.030775  0.025105  0.011992\n",
       "5     LinearRegression() -0.866033  0.033779  0.005488"
      ]
     },
     "execution_count": 31,
     "metadata": {},
     "output_type": "execute_result"
    }
   ],
   "source": [
    "parametre_KNR = {'n_neighbors': np.arange(1, 30,1), 'metric': ['euclidean', 'manhattan', 'minkowski']}\n",
    "hyperparameter(df_scores,KNeighborsRegressor(),parametre_KNR)"
   ]
  },
  {
   "cell_type": "code",
   "execution_count": 32,
   "id": "4d0bb084",
   "metadata": {},
   "outputs": [
    {
     "name": "stdout",
     "output_type": "stream",
     "text": [
      "DecisionTreeRegressor() {'max_depth': 5, 'max_features': 'log2'}\n"
     ]
    },
    {
     "data": {
      "text/html": [
       "<div>\n",
       "<style scoped>\n",
       "    .dataframe tbody tr th:only-of-type {\n",
       "        vertical-align: middle;\n",
       "    }\n",
       "\n",
       "    .dataframe tbody tr th {\n",
       "        vertical-align: top;\n",
       "    }\n",
       "\n",
       "    .dataframe thead th {\n",
       "        text-align: right;\n",
       "    }\n",
       "</style>\n",
       "<table border=\"1\" class=\"dataframe\">\n",
       "  <thead>\n",
       "    <tr style=\"text-align: right;\">\n",
       "      <th></th>\n",
       "      <th>modele</th>\n",
       "      <th>R2</th>\n",
       "      <th>RMSE</th>\n",
       "      <th>MAE</th>\n",
       "    </tr>\n",
       "  </thead>\n",
       "  <tbody>\n",
       "    <tr>\n",
       "      <th>0</th>\n",
       "      <td>KNeighborsRegressor()</td>\n",
       "      <td>0.734673</td>\n",
       "      <td>0.012737</td>\n",
       "      <td>0.002983</td>\n",
       "    </tr>\n",
       "    <tr>\n",
       "      <th>1</th>\n",
       "      <td>DecisionTreeRegressor()</td>\n",
       "      <td>0.506821</td>\n",
       "      <td>0.017366</td>\n",
       "      <td>0.003206</td>\n",
       "    </tr>\n",
       "    <tr>\n",
       "      <th>2</th>\n",
       "      <td>LinearSVR()</td>\n",
       "      <td>0.396777</td>\n",
       "      <td>0.019205</td>\n",
       "      <td>0.002008</td>\n",
       "    </tr>\n",
       "    <tr>\n",
       "      <th>3</th>\n",
       "      <td>ElasticNet()</td>\n",
       "      <td>0.118132</td>\n",
       "      <td>0.023221</td>\n",
       "      <td>0.005265</td>\n",
       "    </tr>\n",
       "    <tr>\n",
       "      <th>4</th>\n",
       "      <td>Ridge()</td>\n",
       "      <td>0.014044</td>\n",
       "      <td>0.024554</td>\n",
       "      <td>0.006027</td>\n",
       "    </tr>\n",
       "    <tr>\n",
       "      <th>5</th>\n",
       "      <td>Lasso()</td>\n",
       "      <td>-0.030775</td>\n",
       "      <td>0.025105</td>\n",
       "      <td>0.011992</td>\n",
       "    </tr>\n",
       "    <tr>\n",
       "      <th>6</th>\n",
       "      <td>LinearRegression()</td>\n",
       "      <td>-0.866033</td>\n",
       "      <td>0.033779</td>\n",
       "      <td>0.005488</td>\n",
       "    </tr>\n",
       "  </tbody>\n",
       "</table>\n",
       "</div>"
      ],
      "text/plain": [
       "                    modele        R2      RMSE       MAE\n",
       "0    KNeighborsRegressor()  0.734673  0.012737  0.002983\n",
       "1  DecisionTreeRegressor()  0.506821  0.017366  0.003206\n",
       "2              LinearSVR()  0.396777  0.019205  0.002008\n",
       "3             ElasticNet()  0.118132  0.023221  0.005265\n",
       "4                  Ridge()  0.014044  0.024554  0.006027\n",
       "5                  Lasso() -0.030775  0.025105  0.011992\n",
       "6       LinearRegression() -0.866033  0.033779  0.005488"
      ]
     },
     "execution_count": 32,
     "metadata": {},
     "output_type": "execute_result"
    }
   ],
   "source": [
    "parametre_DTR = {\"max_depth\": [1, 3, 5, 7, 9, 11, 12],\"max_features\": [\"auto\", \"log2\", None]}\n",
    "hyperparameter(df_scores,DecisionTreeRegressor(),parametre_DTR)"
   ]
  },
  {
   "cell_type": "code",
   "execution_count": 33,
   "id": "2ee7401a",
   "metadata": {},
   "outputs": [
    {
     "name": "stdout",
     "output_type": "stream",
     "text": [
      "RandomForestRegressor() {'max_depth': 12, 'max_features': 'log2', 'min_samples_leaf': 1}\n"
     ]
    },
    {
     "data": {
      "text/html": [
       "<div>\n",
       "<style scoped>\n",
       "    .dataframe tbody tr th:only-of-type {\n",
       "        vertical-align: middle;\n",
       "    }\n",
       "\n",
       "    .dataframe tbody tr th {\n",
       "        vertical-align: top;\n",
       "    }\n",
       "\n",
       "    .dataframe thead th {\n",
       "        text-align: right;\n",
       "    }\n",
       "</style>\n",
       "<table border=\"1\" class=\"dataframe\">\n",
       "  <thead>\n",
       "    <tr style=\"text-align: right;\">\n",
       "      <th></th>\n",
       "      <th>modele</th>\n",
       "      <th>R2</th>\n",
       "      <th>RMSE</th>\n",
       "      <th>MAE</th>\n",
       "    </tr>\n",
       "  </thead>\n",
       "  <tbody>\n",
       "    <tr>\n",
       "      <th>0</th>\n",
       "      <td>KNeighborsRegressor()</td>\n",
       "      <td>0.734673</td>\n",
       "      <td>0.012737</td>\n",
       "      <td>0.002983</td>\n",
       "    </tr>\n",
       "    <tr>\n",
       "      <th>1</th>\n",
       "      <td>RandomForestRegressor()</td>\n",
       "      <td>0.656720</td>\n",
       "      <td>0.014488</td>\n",
       "      <td>0.002560</td>\n",
       "    </tr>\n",
       "    <tr>\n",
       "      <th>2</th>\n",
       "      <td>DecisionTreeRegressor()</td>\n",
       "      <td>0.506821</td>\n",
       "      <td>0.017366</td>\n",
       "      <td>0.003206</td>\n",
       "    </tr>\n",
       "    <tr>\n",
       "      <th>3</th>\n",
       "      <td>LinearSVR()</td>\n",
       "      <td>0.396777</td>\n",
       "      <td>0.019205</td>\n",
       "      <td>0.002008</td>\n",
       "    </tr>\n",
       "    <tr>\n",
       "      <th>4</th>\n",
       "      <td>ElasticNet()</td>\n",
       "      <td>0.118132</td>\n",
       "      <td>0.023221</td>\n",
       "      <td>0.005265</td>\n",
       "    </tr>\n",
       "    <tr>\n",
       "      <th>5</th>\n",
       "      <td>Ridge()</td>\n",
       "      <td>0.014044</td>\n",
       "      <td>0.024554</td>\n",
       "      <td>0.006027</td>\n",
       "    </tr>\n",
       "    <tr>\n",
       "      <th>6</th>\n",
       "      <td>Lasso()</td>\n",
       "      <td>-0.030775</td>\n",
       "      <td>0.025105</td>\n",
       "      <td>0.011992</td>\n",
       "    </tr>\n",
       "    <tr>\n",
       "      <th>7</th>\n",
       "      <td>LinearRegression()</td>\n",
       "      <td>-0.866033</td>\n",
       "      <td>0.033779</td>\n",
       "      <td>0.005488</td>\n",
       "    </tr>\n",
       "  </tbody>\n",
       "</table>\n",
       "</div>"
      ],
      "text/plain": [
       "                    modele        R2      RMSE       MAE\n",
       "0    KNeighborsRegressor()  0.734673  0.012737  0.002983\n",
       "1  RandomForestRegressor()  0.656720  0.014488  0.002560\n",
       "2  DecisionTreeRegressor()  0.506821  0.017366  0.003206\n",
       "3              LinearSVR()  0.396777  0.019205  0.002008\n",
       "4             ElasticNet()  0.118132  0.023221  0.005265\n",
       "5                  Ridge()  0.014044  0.024554  0.006027\n",
       "6                  Lasso() -0.030775  0.025105  0.011992\n",
       "7       LinearRegression() -0.866033  0.033779  0.005488"
      ]
     },
     "execution_count": 33,
     "metadata": {},
     "output_type": "execute_result"
    }
   ],
   "source": [
    "parametre_RFR = {\"max_depth\": [1, 3, 5, 7, 9, 11, 12],\"max_features\": [\"auto\", \"log2\", None], \"min_samples_leaf\":[1,2,4]}\n",
    "hyperparameter(df_scores,RandomForestRegressor(),parametre_RFR)"
   ]
  },
  {
   "cell_type": "code",
   "execution_count": 34,
   "id": "ccd12c06",
   "metadata": {},
   "outputs": [
    {
     "name": "stdout",
     "output_type": "stream",
     "text": [
      "GradientBoostingRegressor() {'max_depth': 9, 'max_features': 'log2'}\n"
     ]
    },
    {
     "data": {
      "text/html": [
       "<div>\n",
       "<style scoped>\n",
       "    .dataframe tbody tr th:only-of-type {\n",
       "        vertical-align: middle;\n",
       "    }\n",
       "\n",
       "    .dataframe tbody tr th {\n",
       "        vertical-align: top;\n",
       "    }\n",
       "\n",
       "    .dataframe thead th {\n",
       "        text-align: right;\n",
       "    }\n",
       "</style>\n",
       "<table border=\"1\" class=\"dataframe\">\n",
       "  <thead>\n",
       "    <tr style=\"text-align: right;\">\n",
       "      <th></th>\n",
       "      <th>modele</th>\n",
       "      <th>R2</th>\n",
       "      <th>RMSE</th>\n",
       "      <th>MAE</th>\n",
       "    </tr>\n",
       "  </thead>\n",
       "  <tbody>\n",
       "    <tr>\n",
       "      <th>0</th>\n",
       "      <td>GradientBoostingRegressor()</td>\n",
       "      <td>0.884702</td>\n",
       "      <td>0.008396</td>\n",
       "      <td>0.002084</td>\n",
       "    </tr>\n",
       "    <tr>\n",
       "      <th>1</th>\n",
       "      <td>KNeighborsRegressor()</td>\n",
       "      <td>0.734673</td>\n",
       "      <td>0.012737</td>\n",
       "      <td>0.002983</td>\n",
       "    </tr>\n",
       "    <tr>\n",
       "      <th>2</th>\n",
       "      <td>RandomForestRegressor()</td>\n",
       "      <td>0.656720</td>\n",
       "      <td>0.014488</td>\n",
       "      <td>0.002560</td>\n",
       "    </tr>\n",
       "    <tr>\n",
       "      <th>3</th>\n",
       "      <td>DecisionTreeRegressor()</td>\n",
       "      <td>0.506821</td>\n",
       "      <td>0.017366</td>\n",
       "      <td>0.003206</td>\n",
       "    </tr>\n",
       "    <tr>\n",
       "      <th>4</th>\n",
       "      <td>LinearSVR()</td>\n",
       "      <td>0.396777</td>\n",
       "      <td>0.019205</td>\n",
       "      <td>0.002008</td>\n",
       "    </tr>\n",
       "    <tr>\n",
       "      <th>5</th>\n",
       "      <td>ElasticNet()</td>\n",
       "      <td>0.118132</td>\n",
       "      <td>0.023221</td>\n",
       "      <td>0.005265</td>\n",
       "    </tr>\n",
       "    <tr>\n",
       "      <th>6</th>\n",
       "      <td>Ridge()</td>\n",
       "      <td>0.014044</td>\n",
       "      <td>0.024554</td>\n",
       "      <td>0.006027</td>\n",
       "    </tr>\n",
       "    <tr>\n",
       "      <th>7</th>\n",
       "      <td>Lasso()</td>\n",
       "      <td>-0.030775</td>\n",
       "      <td>0.025105</td>\n",
       "      <td>0.011992</td>\n",
       "    </tr>\n",
       "    <tr>\n",
       "      <th>8</th>\n",
       "      <td>LinearRegression()</td>\n",
       "      <td>-0.866033</td>\n",
       "      <td>0.033779</td>\n",
       "      <td>0.005488</td>\n",
       "    </tr>\n",
       "  </tbody>\n",
       "</table>\n",
       "</div>"
      ],
      "text/plain": [
       "                        modele        R2      RMSE       MAE\n",
       "0  GradientBoostingRegressor()  0.884702  0.008396  0.002084\n",
       "1        KNeighborsRegressor()  0.734673  0.012737  0.002983\n",
       "2      RandomForestRegressor()  0.656720  0.014488  0.002560\n",
       "3      DecisionTreeRegressor()  0.506821  0.017366  0.003206\n",
       "4                  LinearSVR()  0.396777  0.019205  0.002008\n",
       "5                 ElasticNet()  0.118132  0.023221  0.005265\n",
       "6                      Ridge()  0.014044  0.024554  0.006027\n",
       "7                      Lasso() -0.030775  0.025105  0.011992\n",
       "8           LinearRegression() -0.866033  0.033779  0.005488"
      ]
     },
     "execution_count": 34,
     "metadata": {},
     "output_type": "execute_result"
    }
   ],
   "source": [
    "parametre_XG = {\"max_depth\": [1, 3, 5, 7, 9, 11, 12], \"max_features\": [\"auto\",\"sqrt\", \"log2\", None]}\n",
    "hyperparameter(df_scores,GradientBoostingRegressor(),parametre_XG)"
   ]
  },
  {
   "cell_type": "code",
   "execution_count": 36,
   "id": "4ea532a6",
   "metadata": {},
   "outputs": [],
   "source": [
    "df_scores['modele']=['Gradient Boosting Regressor','K Neighbors Regressor','Random Forest Regressor',\n",
    "                     'Decision Tree Regressor','SVM','ElasticNet','Ridge','Lasso','Linear Regression']"
   ]
  },
  {
   "cell_type": "code",
   "execution_count": 37,
   "id": "c434d6d5",
   "metadata": {
    "collapsed": true
   },
   "outputs": [
    {
     "data": {
      "text/plain": [
       "Text(0.5, 0, 'R2 Score')"
      ]
     },
     "execution_count": 37,
     "metadata": {},
     "output_type": "execute_result"
    },
    {
     "data": {
      "image/png": "[encoded data removed]",
      "text/plain": [
       "<Figure size 720x360 with 1 Axes>"
      ]
     },
     "metadata": {},
     "output_type": "display_data"
    }
   ],
   "source": [
    "sns.set(rc={'figure.figsize':(14,14)})\n",
    "plt.figure(figsize=(10, 5))\n",
    "\n",
    "img=sns.barplot(x=df_scores['R2'],\n",
    "                       y=df_scores['modele']\n",
    "                       ) \n",
    "for p in img.patches:\n",
    "    img.annotate(format(round(p.get_width(),2)),\n",
    "                      (p.get_width() - 0.1, p.get_y() + 0.1 + p.get_height()),\n",
    "                      color='#ffffff',\n",
    "                      fontsize=15,\n",
    "                      xytext=(10, 10),\n",
    "                      textcoords='offset points')\n",
    "    \n",
    "plt.ylabel('modèles', size=13, weight='bold')\n",
    "plt.xlabel('R2 Score', size=13, weight='bold')"
   ]
  },
  {
   "cell_type": "markdown",
   "id": "d0ec12c7",
   "metadata": {},
   "source": [
    "De ceci, on peut dire que les meilleurs modeles pour la prediction de la consomation d'energie est le model Gradient Boosting Regressor, Random Forest et K Neighbors Regressor, etant le model Gradient Boosting Regressor le plus performant. Dans la suite on realisera une comparaison entre ces modeles afin de determiner le temps qu'il prendra a son entrainement et execution, pour cela on prendra les meilleurs HyperParametres que la methode GridSearchCV nous a donné, qui sont les suivants:\n",
    "\n",
    "    a)GradientBoostingRegressor() {'max_depth': 9, 'max_features': 'log2'}\n",
    "    b)RandomForestRegressor() {'max_depth': 12, 'max_features': 'log2', 'min_samples_leaf': 1}\n",
    "    c)KNeighborsRegressor() {'metric': 'euclidean', 'n_neighbors': 3}"
   ]
  },
  {
   "cell_type": "markdown",
   "id": "5a6be496",
   "metadata": {},
   "source": [
    "### 1.5) Modeles utilisez"
   ]
  },
  {
   "cell_type": "code",
   "execution_count": 38,
   "id": "3e6ae377",
   "metadata": {},
   "outputs": [],
   "source": [
    "K_Neighbors_Regressor=KNeighborsRegressor(metric='euclidean',n_neighbors=3)\n",
    "Random_Forest_Regressor=RandomForestRegressor(max_depth=12,max_features='log2',min_samples_leaf=1)\n",
    "Gradient_Boosting_Regressor=GradientBoostingRegressor(max_depth=9,max_features='log2')"
   ]
  },
  {
   "cell_type": "code",
   "execution_count": 39,
   "id": "bf8b52ae",
   "metadata": {},
   "outputs": [],
   "source": [
    "model_energie = [ K_Neighbors_Regressor, Random_Forest_Regressor, Gradient_Boosting_Regressor]\n",
    "nom_model=['K Neighbors Regressor','Random Forest Regressor','Gradient Boosting Regressor']"
   ]
  },
  {
   "cell_type": "markdown",
   "id": "08fcfd15",
   "metadata": {},
   "source": [
    "### 1.5.1) Evaluation des modeles avec R2 score"
   ]
  },
  {
   "cell_type": "code",
   "execution_count": 40,
   "id": "6d4bddac",
   "metadata": {},
   "outputs": [],
   "source": [
    "evaluation_models = []\n",
    "evaluation_model=pd.DataFrame(evaluation_models,columns=['modele', 'R2', 'RMCE', 'MAE'])\n",
    "\n",
    "for model in model_energie:\n",
    "    model_info = model_evaluation(model,evaluation_model)\n",
    "    "
   ]
  },
  {
   "cell_type": "code",
   "execution_count": 41,
   "id": "191b0b7a",
   "metadata": {},
   "outputs": [
    {
     "data": {
      "text/html": [
       "<div>\n",
       "<style scoped>\n",
       "    .dataframe tbody tr th:only-of-type {\n",
       "        vertical-align: middle;\n",
       "    }\n",
       "\n",
       "    .dataframe tbody tr th {\n",
       "        vertical-align: top;\n",
       "    }\n",
       "\n",
       "    .dataframe thead th {\n",
       "        text-align: right;\n",
       "    }\n",
       "</style>\n",
       "<table border=\"1\" class=\"dataframe\">\n",
       "  <thead>\n",
       "    <tr style=\"text-align: right;\">\n",
       "      <th></th>\n",
       "      <th>modele</th>\n",
       "      <th>R2</th>\n",
       "      <th>RMCE</th>\n",
       "      <th>MAE</th>\n",
       "    </tr>\n",
       "  </thead>\n",
       "  <tbody>\n",
       "    <tr>\n",
       "      <th>0</th>\n",
       "      <td>([DecisionTreeRegressor(criterion='friedman_ms...</td>\n",
       "      <td>0.811874</td>\n",
       "      <td>0.010725</td>\n",
       "      <td>0.002437</td>\n",
       "    </tr>\n",
       "    <tr>\n",
       "      <th>1</th>\n",
       "      <td>(DecisionTreeRegressor(max_depth=12, max_featu...</td>\n",
       "      <td>0.791220</td>\n",
       "      <td>0.011299</td>\n",
       "      <td>0.002470</td>\n",
       "    </tr>\n",
       "    <tr>\n",
       "      <th>2</th>\n",
       "      <td>KNeighborsRegressor(metric='euclidean', n_neig...</td>\n",
       "      <td>0.734673</td>\n",
       "      <td>0.012737</td>\n",
       "      <td>0.002983</td>\n",
       "    </tr>\n",
       "  </tbody>\n",
       "</table>\n",
       "</div>"
      ],
      "text/plain": [
       "                                              modele        R2      RMCE  \\\n",
       "0  ([DecisionTreeRegressor(criterion='friedman_ms...  0.811874  0.010725   \n",
       "1  (DecisionTreeRegressor(max_depth=12, max_featu...  0.791220  0.011299   \n",
       "2  KNeighborsRegressor(metric='euclidean', n_neig...  0.734673  0.012737   \n",
       "\n",
       "        MAE  \n",
       "0  0.002437  \n",
       "1  0.002470  \n",
       "2  0.002983  "
      ]
     },
     "execution_count": 41,
     "metadata": {},
     "output_type": "execute_result"
    }
   ],
   "source": [
    "evaluation_model"
   ]
  },
  {
   "cell_type": "code",
   "execution_count": 42,
   "id": "7cb4fd55",
   "metadata": {},
   "outputs": [],
   "source": [
    "evaluation_model['modele']=['Gradient Boosting Regressor','Random Forest Regressor','K Neighbors Regressor']"
   ]
  },
  {
   "cell_type": "code",
   "execution_count": 43,
   "id": "8d139722",
   "metadata": {},
   "outputs": [
    {
     "data": {
      "text/html": [
       "<div>\n",
       "<style scoped>\n",
       "    .dataframe tbody tr th:only-of-type {\n",
       "        vertical-align: middle;\n",
       "    }\n",
       "\n",
       "    .dataframe tbody tr th {\n",
       "        vertical-align: top;\n",
       "    }\n",
       "\n",
       "    .dataframe thead th {\n",
       "        text-align: right;\n",
       "    }\n",
       "</style>\n",
       "<table border=\"1\" class=\"dataframe\">\n",
       "  <thead>\n",
       "    <tr style=\"text-align: right;\">\n",
       "      <th></th>\n",
       "      <th>modele</th>\n",
       "      <th>R2</th>\n",
       "      <th>RMCE</th>\n",
       "      <th>MAE</th>\n",
       "    </tr>\n",
       "  </thead>\n",
       "  <tbody>\n",
       "    <tr>\n",
       "      <th>0</th>\n",
       "      <td>Gradient Boosting Regressor</td>\n",
       "      <td>0.811874</td>\n",
       "      <td>0.010725</td>\n",
       "      <td>0.002437</td>\n",
       "    </tr>\n",
       "    <tr>\n",
       "      <th>1</th>\n",
       "      <td>Random Forest Regressor</td>\n",
       "      <td>0.791220</td>\n",
       "      <td>0.011299</td>\n",
       "      <td>0.002470</td>\n",
       "    </tr>\n",
       "    <tr>\n",
       "      <th>2</th>\n",
       "      <td>K Neighbors Regressor</td>\n",
       "      <td>0.734673</td>\n",
       "      <td>0.012737</td>\n",
       "      <td>0.002983</td>\n",
       "    </tr>\n",
       "  </tbody>\n",
       "</table>\n",
       "</div>"
      ],
      "text/plain": [
       "                        modele        R2      RMCE       MAE\n",
       "0  Gradient Boosting Regressor  0.811874  0.010725  0.002437\n",
       "1      Random Forest Regressor  0.791220  0.011299  0.002470\n",
       "2        K Neighbors Regressor  0.734673  0.012737  0.002983"
      ]
     },
     "execution_count": 43,
     "metadata": {},
     "output_type": "execute_result"
    }
   ],
   "source": [
    "evaluation_model"
   ]
  },
  {
   "cell_type": "code",
   "execution_count": 55,
   "id": "8693d237",
   "metadata": {},
   "outputs": [
    {
     "data": {
      "text/plain": [
       "Text(0.5, 0, 'R2 Score')"
      ]
     },
     "execution_count": 55,
     "metadata": {},
     "output_type": "execute_result"
    },
    {
     "data": {
      "image/png": "[encoded data removed]",
      "text/plain": [
       "<Figure size 720x360 with 1 Axes>"
      ]
     },
     "metadata": {},
     "output_type": "display_data"
    }
   ],
   "source": [
    "sns.set(rc={'figure.figsize':(14,14)})\n",
    "plt.figure(figsize=(10, 5))\n",
    "\n",
    "img=sns.barplot(x=evaluation_model['R2'],\n",
    "                       y=evaluation_model['modele']\n",
    "                       ) \n",
    "for p in img.patches:\n",
    "    img.annotate(format(round(p.get_width(),2)),\n",
    "                      (p.get_width() - 0.1, p.get_y() + 0.05 + p.get_height()),\n",
    "                      color='#ffffff',\n",
    "                      fontsize=20,\n",
    "                      xytext=(15, 10),\n",
    "                      textcoords='offset points')\n",
    "    \n",
    "plt.ylabel('modèles', size=13, weight='bold')\n",
    "plt.xlabel('R2 Score', size=13, weight='bold')"
   ]
  },
  {
   "cell_type": "markdown",
   "id": "be147df4",
   "metadata": {},
   "source": [
    "### 1.5.2) Evaluation de la robustesses des modeles "
   ]
  },
  {
   "cell_type": "code",
   "execution_count": 56,
   "id": "d44ac762",
   "metadata": {},
   "outputs": [],
   "source": [
    "cross_validation = []\n",
    "for models in model_energie:\n",
    "    cross_val = validation_croise(models,X_train, y_train)\n",
    "    cross_validation.append(cross_val)\n",
    "\n",
    "val_cross=pd.DataFrame(cross_validation,columns=['R2(0)','R2(1)','R2(2)','R2(3)','R2(4)'])\n",
    "val_cross['nom']=nom_model"
   ]
  },
  {
   "cell_type": "code",
   "execution_count": 57,
   "id": "d81d7d3f",
   "metadata": {},
   "outputs": [
    {
     "data": {
      "text/html": [
       "<div>\n",
       "<style scoped>\n",
       "    .dataframe tbody tr th:only-of-type {\n",
       "        vertical-align: middle;\n",
       "    }\n",
       "\n",
       "    .dataframe tbody tr th {\n",
       "        vertical-align: top;\n",
       "    }\n",
       "\n",
       "    .dataframe thead th {\n",
       "        text-align: right;\n",
       "    }\n",
       "</style>\n",
       "<table border=\"1\" class=\"dataframe\">\n",
       "  <thead>\n",
       "    <tr style=\"text-align: right;\">\n",
       "      <th></th>\n",
       "      <th>R2(0)</th>\n",
       "      <th>R2(1)</th>\n",
       "      <th>R2(2)</th>\n",
       "      <th>R2(3)</th>\n",
       "      <th>R2(4)</th>\n",
       "      <th>nom</th>\n",
       "    </tr>\n",
       "  </thead>\n",
       "  <tbody>\n",
       "    <tr>\n",
       "      <th>0</th>\n",
       "      <td>0.837365</td>\n",
       "      <td>0.023689</td>\n",
       "      <td>0.899336</td>\n",
       "      <td>0.745108</td>\n",
       "      <td>0.235002</td>\n",
       "      <td>K Neighbors Regressor</td>\n",
       "    </tr>\n",
       "    <tr>\n",
       "      <th>1</th>\n",
       "      <td>0.835509</td>\n",
       "      <td>0.835893</td>\n",
       "      <td>0.392821</td>\n",
       "      <td>0.796441</td>\n",
       "      <td>0.316366</td>\n",
       "      <td>Random Forest Regressor</td>\n",
       "    </tr>\n",
       "    <tr>\n",
       "      <th>2</th>\n",
       "      <td>0.855321</td>\n",
       "      <td>0.889948</td>\n",
       "      <td>-0.483646</td>\n",
       "      <td>0.847682</td>\n",
       "      <td>0.279756</td>\n",
       "      <td>Gradient Boosting Regressor</td>\n",
       "    </tr>\n",
       "  </tbody>\n",
       "</table>\n",
       "</div>"
      ],
      "text/plain": [
       "      R2(0)     R2(1)     R2(2)     R2(3)     R2(4)  \\\n",
       "0  0.837365  0.023689  0.899336  0.745108  0.235002   \n",
       "1  0.835509  0.835893  0.392821  0.796441  0.316366   \n",
       "2  0.855321  0.889948 -0.483646  0.847682  0.279756   \n",
       "\n",
       "                           nom  \n",
       "0        K Neighbors Regressor  \n",
       "1      Random Forest Regressor  \n",
       "2  Gradient Boosting Regressor  "
      ]
     },
     "execution_count": 57,
     "metadata": {},
     "output_type": "execute_result"
    }
   ],
   "source": [
    "val_cross"
   ]
  },
  {
   "cell_type": "markdown",
   "id": "1e8fd39f",
   "metadata": {},
   "source": [
    "### 1.5.3) Evaluation du Temps d'entrenaiment"
   ]
  },
  {
   "cell_type": "code",
   "execution_count": 58,
   "id": "280d0441",
   "metadata": {},
   "outputs": [],
   "source": [
    "models = [{\"name\": \"K neighbors Regressor\", \"clf\": K_Neighbors_Regressor},\n",
    "          {\"name\": \"Gradient Boosting Regressor\", \"clf\": Gradient_Boosting_Regressor},  \n",
    "          {\"name\": \"Random Forest Regressor\", \"clf\": Random_Forest_Regressor}]"
   ]
  },
  {
   "cell_type": "code",
   "execution_count": 59,
   "id": "094a931b",
   "metadata": {},
   "outputs": [],
   "source": [
    "trained_models = []\n",
    "for model in models:\n",
    "    model_details = train_model(model)\n",
    "    trained_models.append(model_details)\n",
    "    \n",
    "model_entrene=pd.DataFrame(trained_models)"
   ]
  },
  {
   "cell_type": "code",
   "execution_count": 60,
   "id": "ce2572fe",
   "metadata": {},
   "outputs": [
    {
     "data": {
      "image/png": "[encoded data removed]",
      "text/plain": [
       "<Figure size 1728x360 with 1 Axes>"
      ]
     },
     "metadata": {},
     "output_type": "display_data"
    }
   ],
   "source": [
    "model_df = pd.DataFrame(trained_models)\n",
    "model_df.sort_values(\"train_time\", inplace=True)\n",
    "ax= model_df[[\"train_time\",\"name\"]].plot(kind=\"line\", x=\"name\", figsize=(24,5), grid=True, title=\"Classifier Training Time (seconds)\")\n",
    "ax.title.set_size(20)\n",
    "ax.legend([\"Train Time\"])\n",
    "plt.box(False)  "
   ]
  },
  {
   "cell_type": "markdown",
   "id": "9ce19294",
   "metadata": {},
   "source": [
    "## 2) Etude de l'emission de CO2 avec la variable ENERGYSTARScore"
   ]
  },
  {
   "cell_type": "code",
   "execution_count": 61,
   "id": "e6183674",
   "metadata": {},
   "outputs": [],
   "source": [
    "df_emission_score=df.copy()\n",
    "df_emission_score=df_emission_score.dropna(axis = 0)"
   ]
  },
  {
   "cell_type": "markdown",
   "id": "fc82aed4",
   "metadata": {},
   "source": [
    "### 2.1) Standardisation"
   ]
  },
  {
   "cell_type": "code",
   "execution_count": 62,
   "id": "d1258899",
   "metadata": {},
   "outputs": [],
   "source": [
    "column=df_emission_score.columns.values\n",
    "scaler = MinMaxScaler()\n",
    "scaler.fit(df_emission_score)\n",
    "df_np=scaler.transform(df_emission_score)"
   ]
  },
  {
   "cell_type": "code",
   "execution_count": 63,
   "id": "f935dcc3",
   "metadata": {},
   "outputs": [],
   "source": [
    "df_test=pd.DataFrame(df_np,columns=column)"
   ]
  },
  {
   "cell_type": "code",
   "execution_count": 64,
   "id": "843d2540",
   "metadata": {},
   "outputs": [],
   "source": [
    "remove_column(df_test,['SiteEnergyUse','SteamUse','NaturalGas','BuildingRate','HistoricalPeriod'])"
   ]
  },
  {
   "cell_type": "markdown",
   "id": "95a64bb2",
   "metadata": {},
   "source": [
    "### 2.2) Echantillonage"
   ]
  },
  {
   "cell_type": "code",
   "execution_count": 65,
   "id": "1769e61f",
   "metadata": {},
   "outputs": [],
   "source": [
    "trainset, testset = train_test_split(df_test, test_size=0.2, random_state=0)"
   ]
  },
  {
   "cell_type": "code",
   "execution_count": 66,
   "id": "8d3d2647",
   "metadata": {},
   "outputs": [],
   "source": [
    "X_train, y_train = preprocessing(trainset,'TotalGHGEmissions')"
   ]
  },
  {
   "cell_type": "code",
   "execution_count": 67,
   "id": "bb2d6d5c",
   "metadata": {},
   "outputs": [],
   "source": [
    "X_test, y_test = preprocessing(testset,'TotalGHGEmissions')"
   ]
  },
  {
   "cell_type": "markdown",
   "id": "49d4ce56",
   "metadata": {},
   "source": [
    "### 2.3) Test du meilleur model"
   ]
  },
  {
   "cell_type": "code",
   "execution_count": 68,
   "id": "ee0ce93c",
   "metadata": {},
   "outputs": [
    {
     "data": {
      "text/html": [
       "<div>\n",
       "<style scoped>\n",
       "    .dataframe tbody tr th:only-of-type {\n",
       "        vertical-align: middle;\n",
       "    }\n",
       "\n",
       "    .dataframe tbody tr th {\n",
       "        vertical-align: top;\n",
       "    }\n",
       "\n",
       "    .dataframe thead th {\n",
       "        text-align: right;\n",
       "    }\n",
       "</style>\n",
       "<table border=\"1\" class=\"dataframe\">\n",
       "  <thead>\n",
       "    <tr style=\"text-align: right;\">\n",
       "      <th></th>\n",
       "      <th>modele</th>\n",
       "      <th>R2</th>\n",
       "      <th>RMSE</th>\n",
       "      <th>MCE</th>\n",
       "    </tr>\n",
       "  </thead>\n",
       "  <tbody>\n",
       "    <tr>\n",
       "      <th>0</th>\n",
       "      <td>([DecisionTreeRegressor(criterion='friedman_ms...</td>\n",
       "      <td>0.873296</td>\n",
       "      <td>0.008802</td>\n",
       "      <td>0.002285</td>\n",
       "    </tr>\n",
       "  </tbody>\n",
       "</table>\n",
       "</div>"
      ],
      "text/plain": [
       "                                              modele        R2      RMSE  \\\n",
       "0  ([DecisionTreeRegressor(criterion='friedman_ms...  0.873296  0.008802   \n",
       "\n",
       "        MCE  \n",
       "0  0.002285  "
      ]
     },
     "execution_count": 68,
     "metadata": {},
     "output_type": "execute_result"
    }
   ],
   "source": [
    "best=[]\n",
    "df_best = pd.DataFrame(\n",
    "    best, columns=['modele', 'R2', 'RMSE', 'MCE'])\n",
    "model_evaluation(Gradient_Boosting_Regressor,df_best)"
   ]
  },
  {
   "cell_type": "code",
   "execution_count": 69,
   "id": "e9ba67dd",
   "metadata": {},
   "outputs": [
    {
     "data": {
      "text/html": [
       "<div>\n",
       "<style scoped>\n",
       "    .dataframe tbody tr th:only-of-type {\n",
       "        vertical-align: middle;\n",
       "    }\n",
       "\n",
       "    .dataframe tbody tr th {\n",
       "        vertical-align: top;\n",
       "    }\n",
       "\n",
       "    .dataframe thead th {\n",
       "        text-align: right;\n",
       "    }\n",
       "</style>\n",
       "<table border=\"1\" class=\"dataframe\">\n",
       "  <thead>\n",
       "    <tr style=\"text-align: right;\">\n",
       "      <th></th>\n",
       "      <th>modele</th>\n",
       "      <th>R2</th>\n",
       "      <th>RMSE</th>\n",
       "      <th>MCE</th>\n",
       "    </tr>\n",
       "  </thead>\n",
       "  <tbody>\n",
       "    <tr>\n",
       "      <th>0</th>\n",
       "      <td>(DecisionTreeRegressor(max_depth=12, max_featu...</td>\n",
       "      <td>0.886139</td>\n",
       "      <td>0.008344</td>\n",
       "      <td>0.002509</td>\n",
       "    </tr>\n",
       "    <tr>\n",
       "      <th>1</th>\n",
       "      <td>([DecisionTreeRegressor(criterion='friedman_ms...</td>\n",
       "      <td>0.873296</td>\n",
       "      <td>0.008802</td>\n",
       "      <td>0.002285</td>\n",
       "    </tr>\n",
       "  </tbody>\n",
       "</table>\n",
       "</div>"
      ],
      "text/plain": [
       "                                              modele        R2      RMSE  \\\n",
       "0  (DecisionTreeRegressor(max_depth=12, max_featu...  0.886139  0.008344   \n",
       "1  ([DecisionTreeRegressor(criterion='friedman_ms...  0.873296  0.008802   \n",
       "\n",
       "        MCE  \n",
       "0  0.002509  \n",
       "1  0.002285  "
      ]
     },
     "execution_count": 69,
     "metadata": {},
     "output_type": "execute_result"
    }
   ],
   "source": [
    "model_evaluation(Random_Forest_Regressor,df_best)"
   ]
  },
  {
   "cell_type": "code",
   "execution_count": 70,
   "id": "9152bdae",
   "metadata": {},
   "outputs": [
    {
     "data": {
      "text/html": [
       "<div>\n",
       "<style scoped>\n",
       "    .dataframe tbody tr th:only-of-type {\n",
       "        vertical-align: middle;\n",
       "    }\n",
       "\n",
       "    .dataframe tbody tr th {\n",
       "        vertical-align: top;\n",
       "    }\n",
       "\n",
       "    .dataframe thead th {\n",
       "        text-align: right;\n",
       "    }\n",
       "</style>\n",
       "<table border=\"1\" class=\"dataframe\">\n",
       "  <thead>\n",
       "    <tr style=\"text-align: right;\">\n",
       "      <th></th>\n",
       "      <th>modele</th>\n",
       "      <th>R2</th>\n",
       "      <th>RMSE</th>\n",
       "      <th>MCE</th>\n",
       "    </tr>\n",
       "  </thead>\n",
       "  <tbody>\n",
       "    <tr>\n",
       "      <th>0</th>\n",
       "      <td>(DecisionTreeRegressor(max_depth=12, max_featu...</td>\n",
       "      <td>0.886139</td>\n",
       "      <td>0.008344</td>\n",
       "      <td>0.002509</td>\n",
       "    </tr>\n",
       "    <tr>\n",
       "      <th>1</th>\n",
       "      <td>([DecisionTreeRegressor(criterion='friedman_ms...</td>\n",
       "      <td>0.873296</td>\n",
       "      <td>0.008802</td>\n",
       "      <td>0.002285</td>\n",
       "    </tr>\n",
       "    <tr>\n",
       "      <th>2</th>\n",
       "      <td>KNeighborsRegressor(metric='euclidean', n_neig...</td>\n",
       "      <td>0.273488</td>\n",
       "      <td>0.021077</td>\n",
       "      <td>0.002714</td>\n",
       "    </tr>\n",
       "  </tbody>\n",
       "</table>\n",
       "</div>"
      ],
      "text/plain": [
       "                                              modele        R2      RMSE  \\\n",
       "0  (DecisionTreeRegressor(max_depth=12, max_featu...  0.886139  0.008344   \n",
       "1  ([DecisionTreeRegressor(criterion='friedman_ms...  0.873296  0.008802   \n",
       "2  KNeighborsRegressor(metric='euclidean', n_neig...  0.273488  0.021077   \n",
       "\n",
       "        MCE  \n",
       "0  0.002509  \n",
       "1  0.002285  \n",
       "2  0.002714  "
      ]
     },
     "execution_count": 70,
     "metadata": {},
     "output_type": "execute_result"
    }
   ],
   "source": [
    "model_evaluation(K_Neighbors_Regressor,df_best)"
   ]
  },
  {
   "cell_type": "code",
   "execution_count": 71,
   "id": "76b6a840",
   "metadata": {},
   "outputs": [
    {
     "data": {
      "text/html": [
       "<div>\n",
       "<style scoped>\n",
       "    .dataframe tbody tr th:only-of-type {\n",
       "        vertical-align: middle;\n",
       "    }\n",
       "\n",
       "    .dataframe tbody tr th {\n",
       "        vertical-align: top;\n",
       "    }\n",
       "\n",
       "    .dataframe thead th {\n",
       "        text-align: right;\n",
       "    }\n",
       "</style>\n",
       "<table border=\"1\" class=\"dataframe\">\n",
       "  <thead>\n",
       "    <tr style=\"text-align: right;\">\n",
       "      <th></th>\n",
       "      <th>modele</th>\n",
       "      <th>R2</th>\n",
       "      <th>RMSE</th>\n",
       "      <th>MCE</th>\n",
       "    </tr>\n",
       "  </thead>\n",
       "  <tbody>\n",
       "    <tr>\n",
       "      <th>0</th>\n",
       "      <td>Random Forest Regressor</td>\n",
       "      <td>0.886139</td>\n",
       "      <td>0.008344</td>\n",
       "      <td>0.002509</td>\n",
       "    </tr>\n",
       "    <tr>\n",
       "      <th>1</th>\n",
       "      <td>Gradient Boosting Regressor</td>\n",
       "      <td>0.873296</td>\n",
       "      <td>0.008802</td>\n",
       "      <td>0.002285</td>\n",
       "    </tr>\n",
       "    <tr>\n",
       "      <th>2</th>\n",
       "      <td>K Neighbors Regressor</td>\n",
       "      <td>0.273488</td>\n",
       "      <td>0.021077</td>\n",
       "      <td>0.002714</td>\n",
       "    </tr>\n",
       "  </tbody>\n",
       "</table>\n",
       "</div>"
      ],
      "text/plain": [
       "                        modele        R2      RMSE       MCE\n",
       "0      Random Forest Regressor  0.886139  0.008344  0.002509\n",
       "1  Gradient Boosting Regressor  0.873296  0.008802  0.002285\n",
       "2        K Neighbors Regressor  0.273488  0.021077  0.002714"
      ]
     },
     "execution_count": 71,
     "metadata": {},
     "output_type": "execute_result"
    }
   ],
   "source": [
    "df_best['modele']=['Random Forest Regressor','Gradient Boosting Regressor','K Neighbors Regressor']\n",
    "df_best"
   ]
  },
  {
   "cell_type": "code",
   "execution_count": 75,
   "id": "3f07ec04",
   "metadata": {},
   "outputs": [
    {
     "data": {
      "text/plain": [
       "Text(0.5, 0, 'R2 Score')"
      ]
     },
     "execution_count": 75,
     "metadata": {},
     "output_type": "execute_result"
    },
    {
     "data": {
      "image/png": "[encoded data removed]",
      "text/plain": [
       "<Figure size 720x360 with 1 Axes>"
      ]
     },
     "metadata": {},
     "output_type": "display_data"
    }
   ],
   "source": [
    "sns.set(rc={'figure.figsize':(14,14)})\n",
    "plt.figure(figsize=(10, 5))\n",
    "\n",
    "img=sns.barplot(x=df_best['R2'],\n",
    "                       y=df_best['modele']\n",
    "                       ) \n",
    "for p in img.patches:\n",
    "    img.annotate(format(round(p.get_width(),2)),\n",
    "                      (p.get_width() - 0.1, p.get_y() + 0.05 + p.get_height()),\n",
    "                      color='#ffffff',\n",
    "                      fontsize=15,\n",
    "                      xytext=(10, 10),\n",
    "                      textcoords='offset points')\n",
    "    \n",
    "plt.title('R2 selon les modeles', size=15, weight='bold')\n",
    "plt.ylabel('modèles', size=13, weight='bold')\n",
    "plt.xlabel('R2 Score', size=13, weight='bold')"
   ]
  },
  {
   "cell_type": "markdown",
   "id": "45145956",
   "metadata": {},
   "source": [
    "Comme on observe ci-dessus, l'influence de la varibale ENERGYSTARScore n'est pas negligeable, la probabilité de prediction du modele Random forest est fortement augmené passant de 0.79 dans la section precendente a 0.89 d'accertivité. De même pour le modele Gradient Boosting Regressor qui a monté sa probabilité de prediction de 0.81 a 0.87. Par contre sur le model KNeighbors Regressor il a une influence negative, faisant reduire sa capacité de prediction jusqu'a 0.27. "
   ]
  },
  {
   "cell_type": "markdown",
   "id": "b874b2a1",
   "metadata": {},
   "source": [
    "## 2.4) Etude de l'influence des variables par rapport aux modeles"
   ]
  },
  {
   "cell_type": "code",
   "execution_count": 77,
   "id": "6bbc9d07",
   "metadata": {},
   "outputs": [
    {
     "name": "stderr",
     "output_type": "stream",
     "text": [
      "X does not have valid feature names, but RandomForestRegressor was fitted with feature names\n"
     ]
    },
    {
     "name": "stdout",
     "output_type": "stream",
     "text": [
      "Intercept 0.09659805163426681\n",
      "Prediction_local [0.0676749]\n",
      "Right: 0.03604759880750403\n"
     ]
    },
    {
     "data": {
      "image/png": "[encoded data removed]",
      "text/plain": [
       "<Figure size 1008x1008 with 1 Axes>"
      ]
     },
     "metadata": {},
     "output_type": "display_data"
    }
   ],
   "source": [
    "explainer = lime.lime_tabular.LimeTabularExplainer(X_train.values, feature_names=X_train.columns.values.tolist(),\n",
    "                                                  class_names=['MEDV'], verbose=True, mode='regression')\n",
    "exp = explainer.explain_instance(X_test.values[100], Random_Forest_Regressor.predict, num_features=len(X_train.columns.values.tolist()))\n",
    "with plt.style.context(\"ggplot\"):\n",
    "    exp.as_pyplot_figure()\n",
    "    plt.title('best model Random Forest Regressor')"
   ]
  },
  {
   "cell_type": "code",
   "execution_count": 78,
   "id": "873b2a4f",
   "metadata": {},
   "outputs": [
    {
     "name": "stderr",
     "output_type": "stream",
     "text": [
      "X does not have valid feature names, but GradientBoostingRegressor was fitted with feature names\n"
     ]
    },
    {
     "name": "stdout",
     "output_type": "stream",
     "text": [
      "Intercept 0.06213978083417035\n",
      "Prediction_local [0.07351148]\n",
      "Right: 0.03827170326385785\n"
     ]
    },
    {
     "data": {
      "image/png": "[encoded data removed]",
      "text/plain": [
       "<Figure size 1008x1008 with 1 Axes>"
      ]
     },
     "metadata": {},
     "output_type": "display_data"
    }
   ],
   "source": [
    "explainer = lime.lime_tabular.LimeTabularExplainer(X_train.values, feature_names=X_train.columns.values.tolist(),\n",
    "                                                  class_names=['MEDV'], verbose=True, mode='regression')\n",
    "exp = explainer.explain_instance(X_test.values[100], Gradient_Boosting_Regressor.predict, num_features=len(X_train.columns.values.tolist()))\n",
    "with plt.style.context(\"ggplot\"):\n",
    "    exp.as_pyplot_figure()\n",
    "    plt.title('best model Gradient Boosting Regressor')"
   ]
  },
  {
   "cell_type": "markdown",
   "id": "c8339a41",
   "metadata": {},
   "source": [
    "Comme on peut observer ci-dessus, la variable ENERGYSTARScore a une influence positive sur nos modeles"
   ]
  }
 ],
 "metadata": {
  "kernelspec": {
   "display_name": "Python 3 (ipykernel)",
   "language": "python",
   "name": "python3"
  },
  "language_info": {
   "codemirror_mode": {
    "name": "ipython",
    "version": 3
   },
   "file_extension": ".py",
   "mimetype": "text/x-python",
   "name": "python",
   "nbconvert_exporter": "python",
   "pygments_lexer": "ipython3",
   "version": "3.9.12"
  }
 },
 "nbformat": 4,
 "nbformat_minor": 5
}
