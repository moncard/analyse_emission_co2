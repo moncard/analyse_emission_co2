{
 "cells": [
  {
   "cell_type": "code",
   "execution_count": 1,
   "id": "90d9cf46",
   "metadata": {},
   "outputs": [],
   "source": [
    "import pandas as pd\n",
    "import numpy as np\n",
    "\n",
    "import matplotlib.pyplot as plt\n",
    "import seaborn as sns\n",
    "\n",
    "from sklearn.preprocessing import LabelEncoder,OneHotEncoder\n",
    "from sklearn.impute import KNNImputer, SimpleImputer\n",
    "\n",
    "#Modele de prediction\n",
    "from sklearn.model_selection import train_test_split\n",
    "from sklearn.pipeline import Pipeline\n",
    "\n",
    "#Modeles  de machine learning\n",
    "from sklearn.dummy import DummyRegressor\n",
    "from sklearn.svm import SVR, LinearSVR\n",
    "from sklearn.ensemble import GradientBoostingRegressor, RandomForestRegressor, GradientBoostingRegressor\n",
    "from sklearn.neighbors import KNeighborsRegressor\n",
    "from sklearn.tree import DecisionTreeRegressor\n",
    "from sklearn.cross_decomposition import PLSRegression\n",
    "from sklearn.linear_model import LinearRegression,ElasticNet, Ridge, Lasso\n",
    "\n",
    "#Indicateurs des performances du modele \n",
    "from sklearn.metrics import mean_squared_error, r2_score, explained_variance_score, median_absolute_error\n",
    "from sklearn.model_selection import GridSearchCV\n",
    "from sklearn.model_selection import cross_val_score\n",
    "\n",
    "from sklearn.preprocessing import MinMaxScaler, StandardScaler\n",
    "\n",
    "import shap\n",
    "import time\n",
    "\n",
    "import lime\n",
    "from lime import lime_tabular\n",
    "import random\n"
   ]
  },
  {
   "cell_type": "markdown",
   "id": "79700434",
   "metadata": {},
   "source": [
    "## Fonctions"
   ]
  },
  {
   "cell_type": "code",
   "execution_count": 2,
   "id": "a2da18f0",
   "metadata": {},
   "outputs": [],
   "source": [
    "# fonction qui remove les colonnes \n",
    "def remove_column(df,columns):\n",
    "    df.drop(labels=columns,axis=1, inplace= True)"
   ]
  },
  {
   "cell_type": "code",
   "execution_count": 3,
   "id": "3999d4b6",
   "metadata": {},
   "outputs": [],
   "source": [
    "# fonction qui efface les lignes aves des valeurs Nan\n",
    "def imputation(df):\n",
    "    return df.dropna(axis=0)"
   ]
  },
  {
   "cell_type": "code",
   "execution_count": 4,
   "id": "0a2a6eb3",
   "metadata": {},
   "outputs": [],
   "source": [
    "# fonction qui transforme les variables de type quantitave dans un tableau des valeurs qualitatives \n",
    "def ohe(df,labels):\n",
    "    ohe = OneHotEncoder()\n",
    "    feature_arry=ohe.fit_transform(df[[labels]]).toarray()\n",
    "    feature_labels=ohe.categories_\n",
    "    features =pd.DataFrame(feature_arry, columns=feature_labels)\n",
    "    return features"
   ]
  },
  {
   "cell_type": "code",
   "execution_count": 5,
   "id": "4b450ad8",
   "metadata": {},
   "outputs": [],
   "source": [
    "# fonction qui applique la methode LabelEncoder aux variables \n",
    "def labels(df, labels):\n",
    "    le = LabelEncoder()\n",
    "    le.fit(df[labels])\n",
    "    val =le.transform(df[labels])\n",
    "    remove_column(df,labels)\n",
    "    df = pd.concat(\n",
    "        [df, pd.DataFrame(val,columns=[labels])], axis=1)\n",
    "    return df"
   ]
  },
  {
   "cell_type": "code",
   "execution_count": 6,
   "id": "888d178d",
   "metadata": {},
   "outputs": [],
   "source": [
    "# fonction qui complete les valeurs manquantes du dataframe avec la methode des k plus proches voisins \n",
    "def knn_imputer(df,k):\n",
    "\n",
    "    imputer = KNNImputer(n_neighbors=k)\n",
    "    After_imputation = imputer.fit_transform(df)\n",
    "    df = pd.DataFrame(After_imputation,columns = df.columns)\n",
    "\n",
    "    return df"
   ]
  },
  {
   "cell_type": "code",
   "execution_count": 7,
   "id": "e4784a34",
   "metadata": {},
   "outputs": [],
   "source": [
    "# fonction qui prepare les variables a observer \n",
    "def preprocessing(data,labels):\n",
    "    \n",
    "    X = data.drop([labels],axis=1)\n",
    "    y = data[labels]\n",
    "    \n",
    "    return X,y"
   ]
  },
  {
   "cell_type": "code",
   "execution_count": 8,
   "id": "b03b1f9c",
   "metadata": {},
   "outputs": [],
   "source": [
    "# fonction qui renvoi les characteristiques du modele de prediction\n",
    "def characteristic(y_test,y_predict):\n",
    "    \n",
    "    R2=r2_score(y_test,y_predict)\n",
    "    MCE=mean_squared_error(y_test,y_predict)\n",
    "    RMCE=np.sqrt(mean_squared_error(y_test,y_predict))\n",
    "    MAE=median_absolute_error(y_test,y_predict)\n",
    "    \n",
    "    return R2,MCE,RMCE,MAE"
   ]
  },
  {
   "cell_type": "code",
   "execution_count": 9,
   "id": "442d6df9",
   "metadata": {},
   "outputs": [],
   "source": [
    "# fonction qui rempli et organise le tableau des modeles selon la valeur R2\n",
    "def df_score(df_scores,modele, R2, RMCE, MAE):\n",
    "    df_scores.loc[df_scores.shape[0]] = [modele, R2, RMCE, MAE]\n",
    "    df_scores.sort_values(by='R2', ascending=False, inplace=True)\n",
    "    df_scores.drop_duplicates(subset=['modele'], keep='last', inplace=True)\n",
    "    df_scores.reset_index(drop=True, inplace=True)\n",
    "    \n",
    "    return df_scores"
   ]
  },
  {
   "cell_type": "code",
   "execution_count": 10,
   "id": "6bd4e9e3",
   "metadata": {},
   "outputs": [],
   "source": [
    "# fonction qui entraine les modeles et renvoi les valeurs du tableau \n",
    "def model_evaluation(modele,df_scores):\n",
    "     \n",
    "    modele.fit(X_train, y_train)\n",
    "    y_predict=modele.predict(X_test)\n",
    "    \n",
    "    R2,MCE,RMCE,MAE=characteristic(y_test,y_predict)\n",
    "    df_score(df_scores,modele, R2, RMCE, MAE)\n",
    "          \n",
    "    return df_scores"
   ]
  },
  {
   "cell_type": "code",
   "execution_count": 11,
   "id": "50eb1445",
   "metadata": {},
   "outputs": [],
   "source": [
    "# fonction qui renvoi le temps d'entrainement des modeles \n",
    "def train_model(model): \n",
    "   \n",
    "    pipe = Pipeline([('scaler', StandardScaler()),('clf', model[\"clf\"])])\n",
    "    start_time = time.time()\n",
    "    pipe.fit(X_train, y_train)\n",
    "    train_time = time.time() - start_time\n",
    "  \n",
    "    train_accuracy =  pipe.score(X_train, y_train)\n",
    "    test_accuracy = pipe.score(X_test, y_test) \n",
    "    model_details = {\"name\": model[\"name\"], \"train_accuracy\":train_accuracy, \"test_accuracy\":test_accuracy, \"train_time\": train_time, \"model\": pipe}\n",
    "    return model_details"
   ]
  },
  {
   "cell_type": "code",
   "execution_count": 12,
   "id": "7dfcdc10",
   "metadata": {},
   "outputs": [],
   "source": [
    "# fonction qui applique la cross validation, fonction utilisé pour tester la robustesse \n",
    "def validation_croise(model,X, y):\n",
    "    score = cross_val_score(model, X, y, cv=5 ,scoring='r2')\n",
    "    return score"
   ]
  },
  {
   "cell_type": "code",
   "execution_count": 13,
   "id": "2aa182d9",
   "metadata": {},
   "outputs": [],
   "source": [
    "# fonction qui renvoi les meilleurs hyperparametres des modeles, il rempli aussi un table avec les differents scores du model\n",
    "def hyperparameter(df_scores,modele,parametre):\n",
    "    \n",
    "    recherche_hyper=GridSearchCV(modele,parametre,cv=5,scoring='r2')\n",
    "    recherche_hyper.fit(X_train, y_train)\n",
    "    y_predict = recherche_hyper.predict(X_test)\n",
    "    \n",
    "    print(modele,recherche_hyper.best_params_)\n",
    "\n",
    "    R2,MCE,RMCE,MAE=characteristic(y_test,y_predict)\n",
    "    recherche_hyper=df_score(df_scores,modele, R2, RMCE, MAE)\n",
    "    return recherche_hyper"
   ]
  },
  {
   "cell_type": "markdown",
   "id": "15a42dae",
   "metadata": {},
   "source": [
    "# Modele de Prediction"
   ]
  },
  {
   "cell_type": "markdown",
   "id": "953aa9db",
   "metadata": {},
   "source": [
    "On recupere le dataframe nettoyé dans la premiere partie"
   ]
  },
  {
   "cell_type": "code",
   "execution_count": 14,
   "id": "1f19489d",
   "metadata": {},
   "outputs": [],
   "source": [
    "df=pd.read_csv('building-energy-cleaned.csv')"
   ]
  },
  {
   "cell_type": "markdown",
   "id": "8bb0706f",
   "metadata": {},
   "source": [
    "Dans la suite de notre analyse, on utilisera la variable PrimaryPropertyType, pour realiser les prediction on ne prendra pas en compte la variable BuildingType "
   ]
  },
  {
   "cell_type": "code",
   "execution_count": 15,
   "id": "a38d5249",
   "metadata": {},
   "outputs": [],
   "source": [
    "remove_column(df,'BuildingType')"
   ]
  },
  {
   "cell_type": "markdown",
   "id": "bbb436af",
   "metadata": {},
   "source": [
    "## 1) Etude de la consomation energetique sans la variable ENERGYSTARScore"
   ]
  },
  {
   "cell_type": "markdown",
   "id": "24a45175",
   "metadata": {},
   "source": [
    "### 1.1) Encodage"
   ]
  },
  {
   "cell_type": "code",
   "execution_count": 16,
   "id": "0da0f766",
   "metadata": {},
   "outputs": [],
   "source": [
    "categorical = df.select_dtypes('object')\n",
    "for col in categorical:\n",
    "        df=labels(df,col)"
   ]
  },
  {
   "cell_type": "markdown",
   "id": "417dfe6d",
   "metadata": {},
   "source": [
    "Pour commencer on realisera une analyse sans prendre en compte les valeurs de ENERGYSTARScore, ce pour cela qu'on creera une nouvelle dataframe qui ne prendra pas en compte cette variable. \n",
    "\n",
    "Mais avant d'effacer la variable ENERGYSTARScore, on realisera une reduction de notre dataframe pour eviter que notre analyse sois faussé a cause des valeurs manquantes sur la variable ENERGYSTARScore."
   ]
  },
  {
   "cell_type": "code",
   "execution_count": 17,
   "id": "3ad5559f",
   "metadata": {},
   "outputs": [],
   "source": [
    "df_test=df.copy()\n",
    "df_test=df_test.dropna(axis = 0)\n",
    "remove_column(df_test,'ENERGYSTARScore')"
   ]
  },
  {
   "cell_type": "markdown",
   "id": "9985573c",
   "metadata": {},
   "source": [
    "Dans la partie anterieur ont a vu qu'il y avais des données qui sont tres correlés entres elle par exemple SteamUse, Electricity et TotalGHGEmissions, si on prend en compte ses valeurs dans nos predictions, elles ne serons pas realistes car on apporterait les solutions a la prediction, c'est pour cela que ces variables seron effacé. Pour la variable HistoricalPeriod, ayant deja une variable qui apportent des information par rapport au temps, on tiendra pas compte de cette variable. La variable BuildingRate n'etant pas tres corrélés avec les variables a predire, l'information qu'elle nous apporterait n'aura pas beaucoup d'influence."
   ]
  },
  {
   "cell_type": "code",
   "execution_count": 18,
   "id": "ade9c238",
   "metadata": {},
   "outputs": [],
   "source": [
    "remove_column(df_test,['TotalGHGEmissions','SteamUse','Electricity','BuildingRate','HistoricalPeriod'])"
   ]
  },
  {
   "cell_type": "markdown",
   "id": "390a57d6",
   "metadata": {},
   "source": [
    "### 1.2) Standardisation "
   ]
  },
  {
   "cell_type": "markdown",
   "id": "6bab4434",
   "metadata": {},
   "source": [
    "Dans cette section on va normaliser les valeurs des variables afin d'eviter, les ecarts du aux differents unités "
   ]
  },
  {
   "cell_type": "code",
   "execution_count": 19,
   "id": "cc2389aa",
   "metadata": {},
   "outputs": [],
   "source": [
    "column=df_test.columns.values\n",
    "scaler = MinMaxScaler()\n",
    "scaler.fit(df_test)\n",
    "df_np=scaler.transform(df_test)\n",
    "labels=df_test.columns"
   ]
  },
  {
   "cell_type": "code",
   "execution_count": 20,
   "id": "796c5aed",
   "metadata": {},
   "outputs": [],
   "source": [
    "df_test=pd.DataFrame(df_np,columns=column)"
   ]
  },
  {
   "cell_type": "markdown",
   "id": "b9da56ec",
   "metadata": {},
   "source": [
    "### 1.3) Echantillonage"
   ]
  },
  {
   "cell_type": "code",
   "execution_count": 21,
   "id": "7659ca69",
   "metadata": {},
   "outputs": [],
   "source": [
    "trainset, testset = train_test_split(df_test, test_size=0.2, random_state=0)"
   ]
  },
  {
   "cell_type": "code",
   "execution_count": 22,
   "id": "c8dda81a",
   "metadata": {},
   "outputs": [],
   "source": [
    "X_train, y_train = preprocessing(trainset,'SiteEnergyUse')"
   ]
  },
  {
   "cell_type": "code",
   "execution_count": 23,
   "id": "2389c23e",
   "metadata": {},
   "outputs": [],
   "source": [
    "X_test, y_test = preprocessing(testset,'SiteEnergyUse')"
   ]
  },
  {
   "cell_type": "markdown",
   "id": "5ffed8af",
   "metadata": {},
   "source": [
    "### 1.4) Evaluation des hyper parametres "
   ]
  },
  {
   "cell_type": "code",
   "execution_count": 24,
   "id": "a90932a2",
   "metadata": {},
   "outputs": [],
   "source": [
    "score=[]\n",
    "df_scores = pd.DataFrame(\n",
    "    score, columns=['modele', 'R2', 'RMSE', 'MAE'])"
   ]
  },
  {
   "cell_type": "code",
   "execution_count": 25,
   "id": "662f244f",
   "metadata": {},
   "outputs": [
    {
     "name": "stdout",
     "output_type": "stream",
     "text": [
      "LinearRegression() {}\n"
     ]
    },
    {
     "data": {
      "text/html": [
       "<div>\n",
       "<style scoped>\n",
       "    .dataframe tbody tr th:only-of-type {\n",
       "        vertical-align: middle;\n",
       "    }\n",
       "\n",
       "    .dataframe tbody tr th {\n",
       "        vertical-align: top;\n",
       "    }\n",
       "\n",
       "    .dataframe thead th {\n",
       "        text-align: right;\n",
       "    }\n",
       "</style>\n",
       "<table border=\"1\" class=\"dataframe\">\n",
       "  <thead>\n",
       "    <tr style=\"text-align: right;\">\n",
       "      <th></th>\n",
       "      <th>modele</th>\n",
       "      <th>R2</th>\n",
       "      <th>RMSE</th>\n",
       "      <th>MAE</th>\n",
       "    </tr>\n",
       "  </thead>\n",
       "  <tbody>\n",
       "    <tr>\n",
       "      <th>0</th>\n",
       "      <td>LinearRegression()</td>\n",
       "      <td>0.01164</td>\n",
       "      <td>0.035997</td>\n",
       "      <td>0.00523</td>\n",
       "    </tr>\n",
       "  </tbody>\n",
       "</table>\n",
       "</div>"
      ],
      "text/plain": [
       "               modele       R2      RMSE      MAE\n",
       "0  LinearRegression()  0.01164  0.035997  0.00523"
      ]
     },
     "execution_count": 25,
     "metadata": {},
     "output_type": "execute_result"
    }
   ],
   "source": [
    "parametre_LR ={}\n",
    "hyperparameter(df_scores,LinearRegression(),parametre_LR)"
   ]
  },
  {
   "cell_type": "code",
   "execution_count": 26,
   "id": "c75c6485",
   "metadata": {},
   "outputs": [
    {
     "name": "stdout",
     "output_type": "stream",
     "text": [
      "Lasso() {}\n"
     ]
    },
    {
     "data": {
      "text/html": [
       "<div>\n",
       "<style scoped>\n",
       "    .dataframe tbody tr th:only-of-type {\n",
       "        vertical-align: middle;\n",
       "    }\n",
       "\n",
       "    .dataframe tbody tr th {\n",
       "        vertical-align: top;\n",
       "    }\n",
       "\n",
       "    .dataframe thead th {\n",
       "        text-align: right;\n",
       "    }\n",
       "</style>\n",
       "<table border=\"1\" class=\"dataframe\">\n",
       "  <thead>\n",
       "    <tr style=\"text-align: right;\">\n",
       "      <th></th>\n",
       "      <th>modele</th>\n",
       "      <th>R2</th>\n",
       "      <th>RMSE</th>\n",
       "      <th>MAE</th>\n",
       "    </tr>\n",
       "  </thead>\n",
       "  <tbody>\n",
       "    <tr>\n",
       "      <th>0</th>\n",
       "      <td>LinearRegression()</td>\n",
       "      <td>0.011640</td>\n",
       "      <td>0.035997</td>\n",
       "      <td>0.005230</td>\n",
       "    </tr>\n",
       "    <tr>\n",
       "      <th>1</th>\n",
       "      <td>Lasso()</td>\n",
       "      <td>-0.070014</td>\n",
       "      <td>0.037454</td>\n",
       "      <td>0.022722</td>\n",
       "    </tr>\n",
       "  </tbody>\n",
       "</table>\n",
       "</div>"
      ],
      "text/plain": [
       "               modele        R2      RMSE       MAE\n",
       "0  LinearRegression()  0.011640  0.035997  0.005230\n",
       "1             Lasso() -0.070014  0.037454  0.022722"
      ]
     },
     "execution_count": 26,
     "metadata": {},
     "output_type": "execute_result"
    }
   ],
   "source": [
    "parametre_Lasso={}\n",
    "hyperparameter(df_scores,Lasso(),parametre_Lasso)"
   ]
  },
  {
   "cell_type": "code",
   "execution_count": 27,
   "id": "de164a0c",
   "metadata": {},
   "outputs": [
    {
     "name": "stdout",
     "output_type": "stream",
     "text": [
      "Ridge() {}\n"
     ]
    },
    {
     "data": {
      "text/html": [
       "<div>\n",
       "<style scoped>\n",
       "    .dataframe tbody tr th:only-of-type {\n",
       "        vertical-align: middle;\n",
       "    }\n",
       "\n",
       "    .dataframe tbody tr th {\n",
       "        vertical-align: top;\n",
       "    }\n",
       "\n",
       "    .dataframe thead th {\n",
       "        text-align: right;\n",
       "    }\n",
       "</style>\n",
       "<table border=\"1\" class=\"dataframe\">\n",
       "  <thead>\n",
       "    <tr style=\"text-align: right;\">\n",
       "      <th></th>\n",
       "      <th>modele</th>\n",
       "      <th>R2</th>\n",
       "      <th>RMSE</th>\n",
       "      <th>MAE</th>\n",
       "    </tr>\n",
       "  </thead>\n",
       "  <tbody>\n",
       "    <tr>\n",
       "      <th>0</th>\n",
       "      <td>Ridge()</td>\n",
       "      <td>0.500343</td>\n",
       "      <td>0.025594</td>\n",
       "      <td>0.005705</td>\n",
       "    </tr>\n",
       "    <tr>\n",
       "      <th>1</th>\n",
       "      <td>LinearRegression()</td>\n",
       "      <td>0.011640</td>\n",
       "      <td>0.035997</td>\n",
       "      <td>0.005230</td>\n",
       "    </tr>\n",
       "    <tr>\n",
       "      <th>2</th>\n",
       "      <td>Lasso()</td>\n",
       "      <td>-0.070014</td>\n",
       "      <td>0.037454</td>\n",
       "      <td>0.022722</td>\n",
       "    </tr>\n",
       "  </tbody>\n",
       "</table>\n",
       "</div>"
      ],
      "text/plain": [
       "               modele        R2      RMSE       MAE\n",
       "0             Ridge()  0.500343  0.025594  0.005705\n",
       "1  LinearRegression()  0.011640  0.035997  0.005230\n",
       "2             Lasso() -0.070014  0.037454  0.022722"
      ]
     },
     "execution_count": 27,
     "metadata": {},
     "output_type": "execute_result"
    }
   ],
   "source": [
    "parametre_Ridge={}\n",
    "hyperparameter(df_scores,Ridge(),parametre_Ridge)"
   ]
  },
  {
   "cell_type": "code",
   "execution_count": 28,
   "id": "8d7dcfe8",
   "metadata": {},
   "outputs": [
    {
     "name": "stderr",
     "output_type": "stream",
     "text": [
      "Objective did not converge. You might want to increase the number of iterations, check the scale of the features or consider increasing regularisation. Duality gap: 9.221e-01, tolerance: 4.018e-04 Linear regression models with null weight for the l1 regularization term are more efficiently fitted using one of the solvers implemented in sklearn.linear_model.Ridge/RidgeCV instead.\n",
      "Objective did not converge. You might want to increase the number of iterations, check the scale of the features or consider increasing regularisation. Duality gap: 9.384e-01, tolerance: 4.242e-04 Linear regression models with null weight for the l1 regularization term are more efficiently fitted using one of the solvers implemented in sklearn.linear_model.Ridge/RidgeCV instead.\n",
      "Objective did not converge. You might want to increase the number of iterations, check the scale of the features or consider increasing regularisation. Duality gap: 6.116e-01, tolerance: 3.916e-04 Linear regression models with null weight for the l1 regularization term are more efficiently fitted using one of the solvers implemented in sklearn.linear_model.Ridge/RidgeCV instead.\n",
      "Objective did not converge. You might want to increase the number of iterations, check the scale of the features or consider increasing regularisation. Duality gap: 7.463e-01, tolerance: 3.737e-04 Linear regression models with null weight for the l1 regularization term are more efficiently fitted using one of the solvers implemented in sklearn.linear_model.Ridge/RidgeCV instead.\n",
      "Objective did not converge. You might want to increase the number of iterations, check the scale of the features or consider increasing regularisation. Duality gap: 9.932e-01, tolerance: 4.974e-04 Linear regression models with null weight for the l1 regularization term are more efficiently fitted using one of the solvers implemented in sklearn.linear_model.Ridge/RidgeCV instead.\n",
      "Objective did not converge. You might want to increase the number of iterations, check the scale of the features or consider increasing regularisation. Duality gap: 7.460e-01, tolerance: 4.018e-04 Linear regression models with null weight for the l1 regularization term are more efficiently fitted using one of the solvers implemented in sklearn.linear_model.Ridge/RidgeCV instead.\n",
      "Objective did not converge. You might want to increase the number of iterations, check the scale of the features or consider increasing regularisation. Duality gap: 8.092e-01, tolerance: 4.242e-04 Linear regression models with null weight for the l1 regularization term are more efficiently fitted using one of the solvers implemented in sklearn.linear_model.Ridge/RidgeCV instead.\n",
      "Objective did not converge. You might want to increase the number of iterations, check the scale of the features or consider increasing regularisation. Duality gap: 4.067e-01, tolerance: 3.916e-04 Linear regression models with null weight for the l1 regularization term are more efficiently fitted using one of the solvers implemented in sklearn.linear_model.Ridge/RidgeCV instead.\n",
      "Objective did not converge. You might want to increase the number of iterations, check the scale of the features or consider increasing regularisation. Duality gap: 6.507e-01, tolerance: 3.737e-04 Linear regression models with null weight for the l1 regularization term are more efficiently fitted using one of the solvers implemented in sklearn.linear_model.Ridge/RidgeCV instead.\n",
      "Objective did not converge. You might want to increase the number of iterations, check the scale of the features or consider increasing regularisation. Duality gap: 8.333e-01, tolerance: 4.974e-04 Linear regression models with null weight for the l1 regularization term are more efficiently fitted using one of the solvers implemented in sklearn.linear_model.Ridge/RidgeCV instead.\n",
      "Objective did not converge. You might want to increase the number of iterations, check the scale of the features or consider increasing regularisation. Duality gap: 7.433e-01, tolerance: 4.018e-04 Linear regression models with null weight for the l1 regularization term are more efficiently fitted using one of the solvers implemented in sklearn.linear_model.Ridge/RidgeCV instead.\n",
      "Objective did not converge. You might want to increase the number of iterations, check the scale of the features or consider increasing regularisation. Duality gap: 8.023e-01, tolerance: 4.242e-04 Linear regression models with null weight for the l1 regularization term are more efficiently fitted using one of the solvers implemented in sklearn.linear_model.Ridge/RidgeCV instead.\n",
      "Objective did not converge. You might want to increase the number of iterations, check the scale of the features or consider increasing regularisation. Duality gap: 4.020e-01, tolerance: 3.916e-04 Linear regression models with null weight for the l1 regularization term are more efficiently fitted using one of the solvers implemented in sklearn.linear_model.Ridge/RidgeCV instead.\n",
      "Objective did not converge. You might want to increase the number of iterations, check the scale of the features or consider increasing regularisation. Duality gap: 6.490e-01, tolerance: 3.737e-04 Linear regression models with null weight for the l1 regularization term are more efficiently fitted using one of the solvers implemented in sklearn.linear_model.Ridge/RidgeCV instead.\n",
      "Objective did not converge. You might want to increase the number of iterations, check the scale of the features or consider increasing regularisation. Duality gap: 8.273e-01, tolerance: 4.974e-04 Linear regression models with null weight for the l1 regularization term are more efficiently fitted using one of the solvers implemented in sklearn.linear_model.Ridge/RidgeCV instead.\n",
      "Objective did not converge. You might want to increase the number of iterations, check the scale of the features or consider increasing regularisation. Duality gap: 9.158e-01, tolerance: 4.018e-04\n",
      "Objective did not converge. You might want to increase the number of iterations, check the scale of the features or consider increasing regularisation. Duality gap: 9.289e-01, tolerance: 4.242e-04\n",
      "Objective did not converge. You might want to increase the number of iterations, check the scale of the features or consider increasing regularisation. Duality gap: 6.148e-01, tolerance: 3.916e-04\n",
      "Objective did not converge. You might want to increase the number of iterations, check the scale of the features or consider increasing regularisation. Duality gap: 7.399e-01, tolerance: 3.737e-04\n",
      "Objective did not converge. You might want to increase the number of iterations, check the scale of the features or consider increasing regularisation. Duality gap: 9.858e-01, tolerance: 4.974e-04\n",
      "Objective did not converge. You might want to increase the number of iterations, check the scale of the features or consider increasing regularisation. Duality gap: 6.714e-01, tolerance: 4.018e-04\n",
      "Objective did not converge. You might want to increase the number of iterations, check the scale of the features or consider increasing regularisation. Duality gap: 7.559e-01, tolerance: 4.242e-04\n",
      "Objective did not converge. You might want to increase the number of iterations, check the scale of the features or consider increasing regularisation. Duality gap: 3.806e-01, tolerance: 3.916e-04\n",
      "Objective did not converge. You might want to increase the number of iterations, check the scale of the features or consider increasing regularisation. Duality gap: 5.542e-01, tolerance: 3.737e-04\n",
      "Objective did not converge. You might want to increase the number of iterations, check the scale of the features or consider increasing regularisation. Duality gap: 7.739e-01, tolerance: 4.974e-04\n",
      "Objective did not converge. You might want to increase the number of iterations, check the scale of the features or consider increasing regularisation. Duality gap: 1.835e-02, tolerance: 4.018e-04\n",
      "Objective did not converge. You might want to increase the number of iterations, check the scale of the features or consider increasing regularisation. Duality gap: 3.634e-01, tolerance: 4.242e-04\n",
      "Objective did not converge. You might want to increase the number of iterations, check the scale of the features or consider increasing regularisation. Duality gap: 2.122e-01, tolerance: 3.916e-04\n",
      "Objective did not converge. You might want to increase the number of iterations, check the scale of the features or consider increasing regularisation. Duality gap: 6.361e-02, tolerance: 3.737e-04\n",
      "Objective did not converge. You might want to increase the number of iterations, check the scale of the features or consider increasing regularisation. Duality gap: 3.322e-01, tolerance: 4.974e-04\n",
      "Objective did not converge. You might want to increase the number of iterations, check the scale of the features or consider increasing regularisation. Duality gap: 9.093e-01, tolerance: 4.018e-04\n",
      "Objective did not converge. You might want to increase the number of iterations, check the scale of the features or consider increasing regularisation. Duality gap: 9.190e-01, tolerance: 4.242e-04\n",
      "Objective did not converge. You might want to increase the number of iterations, check the scale of the features or consider increasing regularisation. Duality gap: 6.178e-01, tolerance: 3.916e-04\n",
      "Objective did not converge. You might want to increase the number of iterations, check the scale of the features or consider increasing regularisation. Duality gap: 7.331e-01, tolerance: 3.737e-04\n",
      "Objective did not converge. You might want to increase the number of iterations, check the scale of the features or consider increasing regularisation. Duality gap: 9.781e-01, tolerance: 4.974e-04\n",
      "Objective did not converge. You might want to increase the number of iterations, check the scale of the features or consider increasing regularisation. Duality gap: 5.915e-01, tolerance: 4.018e-04\n",
      "Objective did not converge. You might want to increase the number of iterations, check the scale of the features or consider increasing regularisation. Duality gap: 7.004e-01, tolerance: 4.242e-04\n",
      "Objective did not converge. You might want to increase the number of iterations, check the scale of the features or consider increasing regularisation. Duality gap: 3.560e-01, tolerance: 3.916e-04\n",
      "Objective did not converge. You might want to increase the number of iterations, check the scale of the features or consider increasing regularisation. Duality gap: 4.523e-01, tolerance: 3.737e-04\n",
      "Objective did not converge. You might want to increase the number of iterations, check the scale of the features or consider increasing regularisation. Duality gap: 7.118e-01, tolerance: 4.974e-04\n",
      "Objective did not converge. You might want to increase the number of iterations, check the scale of the features or consider increasing regularisation. Duality gap: 7.499e-03, tolerance: 4.018e-04\n",
      "Objective did not converge. You might want to increase the number of iterations, check the scale of the features or consider increasing regularisation. Duality gap: 2.972e-02, tolerance: 4.242e-04\n",
      "Objective did not converge. You might want to increase the number of iterations, check the scale of the features or consider increasing regularisation. Duality gap: 1.326e-01, tolerance: 3.916e-04\n",
      "Objective did not converge. You might want to increase the number of iterations, check the scale of the features or consider increasing regularisation. Duality gap: 8.190e-03, tolerance: 3.737e-04\n",
      "Objective did not converge. You might want to increase the number of iterations, check the scale of the features or consider increasing regularisation. Duality gap: 4.450e-02, tolerance: 4.974e-04\n",
      "Objective did not converge. You might want to increase the number of iterations, check the scale of the features or consider increasing regularisation. Duality gap: 9.026e-01, tolerance: 4.018e-04\n",
      "Objective did not converge. You might want to increase the number of iterations, check the scale of the features or consider increasing regularisation. Duality gap: 9.085e-01, tolerance: 4.242e-04\n",
      "Objective did not converge. You might want to increase the number of iterations, check the scale of the features or consider increasing regularisation. Duality gap: 6.206e-01, tolerance: 3.916e-04\n",
      "Objective did not converge. You might want to increase the number of iterations, check the scale of the features or consider increasing regularisation. Duality gap: 7.260e-01, tolerance: 3.737e-04\n",
      "Objective did not converge. You might want to increase the number of iterations, check the scale of the features or consider increasing regularisation. Duality gap: 9.700e-01, tolerance: 4.974e-04\n",
      "Objective did not converge. You might want to increase the number of iterations, check the scale of the features or consider increasing regularisation. Duality gap: 5.067e-01, tolerance: 4.018e-04\n",
      "Objective did not converge. You might want to increase the number of iterations, check the scale of the features or consider increasing regularisation. Duality gap: 6.427e-01, tolerance: 4.242e-04\n",
      "Objective did not converge. You might want to increase the number of iterations, check the scale of the features or consider increasing regularisation. Duality gap: 3.329e-01, tolerance: 3.916e-04\n",
      "Objective did not converge. You might want to increase the number of iterations, check the scale of the features or consider increasing regularisation. Duality gap: 3.470e-01, tolerance: 3.737e-04\n",
      "Objective did not converge. You might want to increase the number of iterations, check the scale of the features or consider increasing regularisation. Duality gap: 6.473e-01, tolerance: 4.974e-04\n",
      "Objective did not converge. You might want to increase the number of iterations, check the scale of the features or consider increasing regularisation. Duality gap: 5.130e-03, tolerance: 4.018e-04\n",
      "Objective did not converge. You might want to increase the number of iterations, check the scale of the features or consider increasing regularisation. Duality gap: 1.444e-02, tolerance: 4.242e-04\n",
      "Objective did not converge. You might want to increase the number of iterations, check the scale of the features or consider increasing regularisation. Duality gap: 9.317e-02, tolerance: 3.916e-04\n",
      "Objective did not converge. You might want to increase the number of iterations, check the scale of the features or consider increasing regularisation. Duality gap: 4.901e-03, tolerance: 3.737e-04\n",
      "Objective did not converge. You might want to increase the number of iterations, check the scale of the features or consider increasing regularisation. Duality gap: 2.655e-02, tolerance: 4.974e-04\n",
      "Objective did not converge. You might want to increase the number of iterations, check the scale of the features or consider increasing regularisation. Duality gap: 8.958e-01, tolerance: 4.018e-04\n",
      "Objective did not converge. You might want to increase the number of iterations, check the scale of the features or consider increasing regularisation. Duality gap: 8.976e-01, tolerance: 4.242e-04\n",
      "Objective did not converge. You might want to increase the number of iterations, check the scale of the features or consider increasing regularisation. Duality gap: 6.232e-01, tolerance: 3.916e-04\n",
      "Objective did not converge. You might want to increase the number of iterations, check the scale of the features or consider increasing regularisation. Duality gap: 7.187e-01, tolerance: 3.737e-04\n"
     ]
    },
    {
     "name": "stderr",
     "output_type": "stream",
     "text": [
      "Objective did not converge. You might want to increase the number of iterations, check the scale of the features or consider increasing regularisation. Duality gap: 9.616e-01, tolerance: 4.974e-04\n",
      "Objective did not converge. You might want to increase the number of iterations, check the scale of the features or consider increasing regularisation. Duality gap: 4.060e-01, tolerance: 4.018e-04\n",
      "Objective did not converge. You might want to increase the number of iterations, check the scale of the features or consider increasing regularisation. Duality gap: 5.830e-01, tolerance: 4.242e-04\n",
      "Objective did not converge. You might want to increase the number of iterations, check the scale of the features or consider increasing regularisation. Duality gap: 3.108e-01, tolerance: 3.916e-04\n",
      "Objective did not converge. You might want to increase the number of iterations, check the scale of the features or consider increasing regularisation. Duality gap: 2.416e-01, tolerance: 3.737e-04\n",
      "Objective did not converge. You might want to increase the number of iterations, check the scale of the features or consider increasing regularisation. Duality gap: 5.807e-01, tolerance: 4.974e-04\n",
      "Objective did not converge. You might want to increase the number of iterations, check the scale of the features or consider increasing regularisation. Duality gap: 6.716e-03, tolerance: 4.018e-04\n",
      "Objective did not converge. You might want to increase the number of iterations, check the scale of the features or consider increasing regularisation. Duality gap: 8.226e-03, tolerance: 4.242e-04\n",
      "Objective did not converge. You might want to increase the number of iterations, check the scale of the features or consider increasing regularisation. Duality gap: 7.067e-02, tolerance: 3.916e-04\n",
      "Objective did not converge. You might want to increase the number of iterations, check the scale of the features or consider increasing regularisation. Duality gap: 3.952e-03, tolerance: 3.737e-04\n",
      "Objective did not converge. You might want to increase the number of iterations, check the scale of the features or consider increasing regularisation. Duality gap: 1.964e-02, tolerance: 4.974e-04\n",
      "Objective did not converge. You might want to increase the number of iterations, check the scale of the features or consider increasing regularisation. Duality gap: 8.890e-01, tolerance: 4.018e-04\n",
      "Objective did not converge. You might want to increase the number of iterations, check the scale of the features or consider increasing regularisation. Duality gap: 8.862e-01, tolerance: 4.242e-04\n",
      "Objective did not converge. You might want to increase the number of iterations, check the scale of the features or consider increasing regularisation. Duality gap: 6.256e-01, tolerance: 3.916e-04\n",
      "Objective did not converge. You might want to increase the number of iterations, check the scale of the features or consider increasing regularisation. Duality gap: 7.111e-01, tolerance: 3.737e-04\n",
      "Objective did not converge. You might want to increase the number of iterations, check the scale of the features or consider increasing regularisation. Duality gap: 9.529e-01, tolerance: 4.974e-04\n",
      "Objective did not converge. You might want to increase the number of iterations, check the scale of the features or consider increasing regularisation. Duality gap: 3.126e-01, tolerance: 4.018e-04\n",
      "Objective did not converge. You might want to increase the number of iterations, check the scale of the features or consider increasing regularisation. Duality gap: 5.212e-01, tolerance: 4.242e-04\n",
      "Objective did not converge. You might want to increase the number of iterations, check the scale of the features or consider increasing regularisation. Duality gap: 2.890e-01, tolerance: 3.916e-04\n",
      "Objective did not converge. You might want to increase the number of iterations, check the scale of the features or consider increasing regularisation. Duality gap: 1.303e-01, tolerance: 3.737e-04\n",
      "Objective did not converge. You might want to increase the number of iterations, check the scale of the features or consider increasing regularisation. Duality gap: 5.121e-01, tolerance: 4.974e-04\n",
      "Objective did not converge. You might want to increase the number of iterations, check the scale of the features or consider increasing regularisation. Duality gap: 5.719e-03, tolerance: 4.018e-04\n",
      "Objective did not converge. You might want to increase the number of iterations, check the scale of the features or consider increasing regularisation. Duality gap: 4.909e-03, tolerance: 4.242e-04\n",
      "Objective did not converge. You might want to increase the number of iterations, check the scale of the features or consider increasing regularisation. Duality gap: 5.655e-02, tolerance: 3.916e-04\n",
      "Objective did not converge. You might want to increase the number of iterations, check the scale of the features or consider increasing regularisation. Duality gap: 3.804e-03, tolerance: 3.737e-04\n",
      "Objective did not converge. You might want to increase the number of iterations, check the scale of the features or consider increasing regularisation. Duality gap: 1.500e-02, tolerance: 4.974e-04\n",
      "Objective did not converge. You might want to increase the number of iterations, check the scale of the features or consider increasing regularisation. Duality gap: 8.820e-01, tolerance: 4.018e-04\n",
      "Objective did not converge. You might want to increase the number of iterations, check the scale of the features or consider increasing regularisation. Duality gap: 8.751e-01, tolerance: 4.242e-04\n",
      "Objective did not converge. You might want to increase the number of iterations, check the scale of the features or consider increasing regularisation. Duality gap: 6.277e-01, tolerance: 3.916e-04\n",
      "Objective did not converge. You might want to increase the number of iterations, check the scale of the features or consider increasing regularisation. Duality gap: 7.033e-01, tolerance: 3.737e-04\n",
      "Objective did not converge. You might want to increase the number of iterations, check the scale of the features or consider increasing regularisation. Duality gap: 9.437e-01, tolerance: 4.974e-04\n",
      "Objective did not converge. You might want to increase the number of iterations, check the scale of the features or consider increasing regularisation. Duality gap: 2.205e-01, tolerance: 4.018e-04\n",
      "Objective did not converge. You might want to increase the number of iterations, check the scale of the features or consider increasing regularisation. Duality gap: 4.571e-01, tolerance: 4.242e-04\n",
      "Objective did not converge. You might want to increase the number of iterations, check the scale of the features or consider increasing regularisation. Duality gap: 2.676e-01, tolerance: 3.916e-04\n",
      "Objective did not converge. You might want to increase the number of iterations, check the scale of the features or consider increasing regularisation. Duality gap: 4.767e-02, tolerance: 3.737e-04\n",
      "Objective did not converge. You might want to increase the number of iterations, check the scale of the features or consider increasing regularisation. Duality gap: 4.421e-01, tolerance: 4.974e-04\n",
      "Objective did not converge. You might want to increase the number of iterations, check the scale of the features or consider increasing regularisation. Duality gap: 3.999e-03, tolerance: 4.018e-04\n",
      "Objective did not converge. You might want to increase the number of iterations, check the scale of the features or consider increasing regularisation. Duality gap: 3.457e-03, tolerance: 4.242e-04\n",
      "Objective did not converge. You might want to increase the number of iterations, check the scale of the features or consider increasing regularisation. Duality gap: 4.704e-02, tolerance: 3.916e-04\n",
      "Objective did not converge. You might want to increase the number of iterations, check the scale of the features or consider increasing regularisation. Duality gap: 3.759e-03, tolerance: 3.737e-04\n",
      "Objective did not converge. You might want to increase the number of iterations, check the scale of the features or consider increasing regularisation. Duality gap: 1.173e-02, tolerance: 4.974e-04\n",
      "Objective did not converge. You might want to increase the number of iterations, check the scale of the features or consider increasing regularisation. Duality gap: 8.750e-01, tolerance: 4.018e-04\n",
      "Objective did not converge. You might want to increase the number of iterations, check the scale of the features or consider increasing regularisation. Duality gap: 8.640e-01, tolerance: 4.242e-04\n",
      "Objective did not converge. You might want to increase the number of iterations, check the scale of the features or consider increasing regularisation. Duality gap: 6.296e-01, tolerance: 3.916e-04\n",
      "Objective did not converge. You might want to increase the number of iterations, check the scale of the features or consider increasing regularisation. Duality gap: 6.953e-01, tolerance: 3.737e-04\n",
      "Objective did not converge. You might want to increase the number of iterations, check the scale of the features or consider increasing regularisation. Duality gap: 9.342e-01, tolerance: 4.974e-04\n",
      "Objective did not converge. You might want to increase the number of iterations, check the scale of the features or consider increasing regularisation. Duality gap: 1.330e-01, tolerance: 4.018e-04\n",
      "Objective did not converge. You might want to increase the number of iterations, check the scale of the features or consider increasing regularisation. Duality gap: 3.880e-01, tolerance: 4.242e-04\n",
      "Objective did not converge. You might want to increase the number of iterations, check the scale of the features or consider increasing regularisation. Duality gap: 2.477e-01, tolerance: 3.916e-04\n",
      "Objective did not converge. You might want to increase the number of iterations, check the scale of the features or consider increasing regularisation. Duality gap: 3.534e-02, tolerance: 3.737e-04\n",
      "Objective did not converge. You might want to increase the number of iterations, check the scale of the features or consider increasing regularisation. Duality gap: 3.715e-01, tolerance: 4.974e-04\n",
      "Objective did not converge. You might want to increase the number of iterations, check the scale of the features or consider increasing regularisation. Duality gap: 3.805e-03, tolerance: 4.018e-04\n",
      "Objective did not converge. You might want to increase the number of iterations, check the scale of the features or consider increasing regularisation. Duality gap: 2.402e-03, tolerance: 4.242e-04\n",
      "Objective did not converge. You might want to increase the number of iterations, check the scale of the features or consider increasing regularisation. Duality gap: 4.020e-02, tolerance: 3.916e-04\n",
      "Objective did not converge. You might want to increase the number of iterations, check the scale of the features or consider increasing regularisation. Duality gap: 3.762e-03, tolerance: 3.737e-04\n",
      "Objective did not converge. You might want to increase the number of iterations, check the scale of the features or consider increasing regularisation. Duality gap: 2.448e-03, tolerance: 4.974e-04\n",
      "Objective did not converge. You might want to increase the number of iterations, check the scale of the features or consider increasing regularisation. Duality gap: 8.678e-01, tolerance: 4.018e-04\n",
      "Objective did not converge. You might want to increase the number of iterations, check the scale of the features or consider increasing regularisation. Duality gap: 8.527e-01, tolerance: 4.242e-04\n",
      "Objective did not converge. You might want to increase the number of iterations, check the scale of the features or consider increasing regularisation. Duality gap: 6.313e-01, tolerance: 3.916e-04\n",
      "Objective did not converge. You might want to increase the number of iterations, check the scale of the features or consider increasing regularisation. Duality gap: 6.866e-01, tolerance: 3.737e-04\n",
      "Objective did not converge. You might want to increase the number of iterations, check the scale of the features or consider increasing regularisation. Duality gap: 9.247e-01, tolerance: 4.974e-04\n",
      "Objective did not converge. You might want to increase the number of iterations, check the scale of the features or consider increasing regularisation. Duality gap: 5.438e-02, tolerance: 4.018e-04\n",
      "Objective did not converge. You might want to increase the number of iterations, check the scale of the features or consider increasing regularisation. Duality gap: 3.174e-01, tolerance: 4.242e-04\n",
      "Objective did not converge. You might want to increase the number of iterations, check the scale of the features or consider increasing regularisation. Duality gap: 2.307e-01, tolerance: 3.916e-04\n"
     ]
    },
    {
     "name": "stderr",
     "output_type": "stream",
     "text": [
      "Objective did not converge. You might want to increase the number of iterations, check the scale of the features or consider increasing regularisation. Duality gap: 3.358e-02, tolerance: 3.737e-04\n",
      "Objective did not converge. You might want to increase the number of iterations, check the scale of the features or consider increasing regularisation. Duality gap: 2.875e-01, tolerance: 4.974e-04\n",
      "Objective did not converge. You might want to increase the number of iterations, check the scale of the features or consider increasing regularisation. Duality gap: 3.653e-03, tolerance: 4.018e-04\n",
      "Objective did not converge. You might want to increase the number of iterations, check the scale of the features or consider increasing regularisation. Duality gap: 2.068e-03, tolerance: 4.242e-04\n",
      "Objective did not converge. You might want to increase the number of iterations, check the scale of the features or consider increasing regularisation. Duality gap: 3.502e-02, tolerance: 3.916e-04\n",
      "Objective did not converge. You might want to increase the number of iterations, check the scale of the features or consider increasing regularisation. Duality gap: 3.784e-03, tolerance: 3.737e-04\n",
      "Objective did not converge. You might want to increase the number of iterations, check the scale of the features or consider increasing regularisation. Duality gap: 1.946e-03, tolerance: 4.974e-04\n",
      "Objective did not converge. You might want to increase the number of iterations, check the scale of the features or consider increasing regularisation. Duality gap: 8.606e-01, tolerance: 4.018e-04\n",
      "Objective did not converge. You might want to increase the number of iterations, check the scale of the features or consider increasing regularisation. Duality gap: 8.413e-01, tolerance: 4.242e-04\n",
      "Objective did not converge. You might want to increase the number of iterations, check the scale of the features or consider increasing regularisation. Duality gap: 6.328e-01, tolerance: 3.916e-04\n",
      "Objective did not converge. You might want to increase the number of iterations, check the scale of the features or consider increasing regularisation. Duality gap: 6.774e-01, tolerance: 3.737e-04\n",
      "Objective did not converge. You might want to increase the number of iterations, check the scale of the features or consider increasing regularisation. Duality gap: 9.154e-01, tolerance: 4.974e-04\n",
      "Objective did not converge. You might want to increase the number of iterations, check the scale of the features or consider increasing regularisation. Duality gap: 6.054e-02, tolerance: 4.018e-04\n",
      "Objective did not converge. You might want to increase the number of iterations, check the scale of the features or consider increasing regularisation. Duality gap: 2.367e-01, tolerance: 4.242e-04\n",
      "Objective did not converge. You might want to increase the number of iterations, check the scale of the features or consider increasing regularisation. Duality gap: 2.143e-01, tolerance: 3.916e-04\n",
      "Objective did not converge. You might want to increase the number of iterations, check the scale of the features or consider increasing regularisation. Duality gap: 3.208e-02, tolerance: 3.737e-04\n",
      "Objective did not converge. You might want to increase the number of iterations, check the scale of the features or consider increasing regularisation. Duality gap: 2.137e-01, tolerance: 4.974e-04\n",
      "Objective did not converge. You might want to increase the number of iterations, check the scale of the features or consider increasing regularisation. Duality gap: 3.547e-03, tolerance: 4.018e-04\n",
      "Objective did not converge. You might want to increase the number of iterations, check the scale of the features or consider increasing regularisation. Duality gap: 1.304e-03, tolerance: 4.242e-04\n",
      "Objective did not converge. You might want to increase the number of iterations, check the scale of the features or consider increasing regularisation. Duality gap: 3.112e-02, tolerance: 3.916e-04\n",
      "Objective did not converge. You might want to increase the number of iterations, check the scale of the features or consider increasing regularisation. Duality gap: 3.105e-03, tolerance: 3.737e-04\n",
      "Objective did not converge. You might want to increase the number of iterations, check the scale of the features or consider increasing regularisation. Duality gap: 1.828e-03, tolerance: 4.974e-04\n",
      "Objective did not converge. You might want to increase the number of iterations, check the scale of the features or consider increasing regularisation. Duality gap: 1.030e+00, tolerance: 4.018e-04 Linear regression models with null weight for the l1 regularization term are more efficiently fitted using one of the solvers implemented in sklearn.linear_model.Ridge/RidgeCV instead.\n",
      "Objective did not converge. You might want to increase the number of iterations, check the scale of the features or consider increasing regularisation. Duality gap: 1.090e+00, tolerance: 4.242e-04 Linear regression models with null weight for the l1 regularization term are more efficiently fitted using one of the solvers implemented in sklearn.linear_model.Ridge/RidgeCV instead.\n",
      "Objective did not converge. You might want to increase the number of iterations, check the scale of the features or consider increasing regularisation. Duality gap: 7.768e-01, tolerance: 3.916e-04 Linear regression models with null weight for the l1 regularization term are more efficiently fitted using one of the solvers implemented in sklearn.linear_model.Ridge/RidgeCV instead.\n",
      "Objective did not converge. You might want to increase the number of iterations, check the scale of the features or consider increasing regularisation. Duality gap: 8.742e-01, tolerance: 3.737e-04 Linear regression models with null weight for the l1 regularization term are more efficiently fitted using one of the solvers implemented in sklearn.linear_model.Ridge/RidgeCV instead.\n",
      "Objective did not converge. You might want to increase the number of iterations, check the scale of the features or consider increasing regularisation. Duality gap: 1.153e+00, tolerance: 4.974e-04 Linear regression models with null weight for the l1 regularization term are more efficiently fitted using one of the solvers implemented in sklearn.linear_model.Ridge/RidgeCV instead.\n",
      "Objective did not converge. You might want to increase the number of iterations, check the scale of the features or consider increasing regularisation. Duality gap: 8.708e-01, tolerance: 4.018e-04 Linear regression models with null weight for the l1 regularization term are more efficiently fitted using one of the solvers implemented in sklearn.linear_model.Ridge/RidgeCV instead.\n",
      "Objective did not converge. You might want to increase the number of iterations, check the scale of the features or consider increasing regularisation. Duality gap: 9.480e-01, tolerance: 4.242e-04 Linear regression models with null weight for the l1 regularization term are more efficiently fitted using one of the solvers implemented in sklearn.linear_model.Ridge/RidgeCV instead.\n",
      "Objective did not converge. You might want to increase the number of iterations, check the scale of the features or consider increasing regularisation. Duality gap: 5.853e-01, tolerance: 3.916e-04 Linear regression models with null weight for the l1 regularization term are more efficiently fitted using one of the solvers implemented in sklearn.linear_model.Ridge/RidgeCV instead.\n",
      "Objective did not converge. You might want to increase the number of iterations, check the scale of the features or consider increasing regularisation. Duality gap: 7.759e-01, tolerance: 3.737e-04 Linear regression models with null weight for the l1 regularization term are more efficiently fitted using one of the solvers implemented in sklearn.linear_model.Ridge/RidgeCV instead.\n",
      "Objective did not converge. You might want to increase the number of iterations, check the scale of the features or consider increasing regularisation. Duality gap: 9.841e-01, tolerance: 4.974e-04 Linear regression models with null weight for the l1 regularization term are more efficiently fitted using one of the solvers implemented in sklearn.linear_model.Ridge/RidgeCV instead.\n",
      "Objective did not converge. You might want to increase the number of iterations, check the scale of the features or consider increasing regularisation. Duality gap: 8.701e-01, tolerance: 4.018e-04 Linear regression models with null weight for the l1 regularization term are more efficiently fitted using one of the solvers implemented in sklearn.linear_model.Ridge/RidgeCV instead.\n",
      "Objective did not converge. You might want to increase the number of iterations, check the scale of the features or consider increasing regularisation. Duality gap: 9.461e-01, tolerance: 4.242e-04 Linear regression models with null weight for the l1 regularization term are more efficiently fitted using one of the solvers implemented in sklearn.linear_model.Ridge/RidgeCV instead.\n",
      "Objective did not converge. You might want to increase the number of iterations, check the scale of the features or consider increasing regularisation. Duality gap: 5.844e-01, tolerance: 3.916e-04 Linear regression models with null weight for the l1 regularization term are more efficiently fitted using one of the solvers implemented in sklearn.linear_model.Ridge/RidgeCV instead.\n",
      "Objective did not converge. You might want to increase the number of iterations, check the scale of the features or consider increasing regularisation. Duality gap: 7.753e-01, tolerance: 3.737e-04 Linear regression models with null weight for the l1 regularization term are more efficiently fitted using one of the solvers implemented in sklearn.linear_model.Ridge/RidgeCV instead.\n",
      "Objective did not converge. You might want to increase the number of iterations, check the scale of the features or consider increasing regularisation. Duality gap: 9.824e-01, tolerance: 4.974e-04 Linear regression models with null weight for the l1 regularization term are more efficiently fitted using one of the solvers implemented in sklearn.linear_model.Ridge/RidgeCV instead.\n",
      "Objective did not converge. You might want to increase the number of iterations, check the scale of the features or consider increasing regularisation. Duality gap: 9.666e-01, tolerance: 4.018e-04\n",
      "Objective did not converge. You might want to increase the number of iterations, check the scale of the features or consider increasing regularisation. Duality gap: 9.933e-01, tolerance: 4.242e-04\n",
      "Objective did not converge. You might want to increase the number of iterations, check the scale of the features or consider increasing regularisation. Duality gap: 7.715e-01, tolerance: 3.916e-04\n",
      "Objective did not converge. You might want to increase the number of iterations, check the scale of the features or consider increasing regularisation. Duality gap: 7.995e-01, tolerance: 3.737e-04\n",
      "Objective did not converge. You might want to increase the number of iterations, check the scale of the features or consider increasing regularisation. Duality gap: 1.078e+00, tolerance: 4.974e-04\n",
      "Objective did not converge. You might want to increase the number of iterations, check the scale of the features or consider increasing regularisation. Duality gap: 8.414e-03, tolerance: 4.018e-04\n",
      "Objective did not converge. You might want to increase the number of iterations, check the scale of the features or consider increasing regularisation. Duality gap: 4.530e-02, tolerance: 4.242e-04\n",
      "Objective did not converge. You might want to increase the number of iterations, check the scale of the features or consider increasing regularisation. Duality gap: 1.271e-01, tolerance: 3.916e-04\n",
      "Objective did not converge. You might want to increase the number of iterations, check the scale of the features or consider increasing regularisation. Duality gap: 1.964e-02, tolerance: 3.737e-04\n",
      "Objective did not converge. You might want to increase the number of iterations, check the scale of the features or consider increasing regularisation. Duality gap: 2.433e-02, tolerance: 4.974e-04\n",
      "Objective did not converge. You might want to increase the number of iterations, check the scale of the features or consider increasing regularisation. Duality gap: 7.526e-04, tolerance: 4.018e-04\n",
      "Objective did not converge. You might want to increase the number of iterations, check the scale of the features or consider increasing regularisation. Duality gap: 8.922e-04, tolerance: 4.242e-04\n",
      "Objective did not converge. You might want to increase the number of iterations, check the scale of the features or consider increasing regularisation. Duality gap: 3.053e-03, tolerance: 3.916e-04\n",
      "Objective did not converge. You might want to increase the number of iterations, check the scale of the features or consider increasing regularisation. Duality gap: 1.069e-03, tolerance: 3.737e-04\n",
      "Objective did not converge. You might want to increase the number of iterations, check the scale of the features or consider increasing regularisation. Duality gap: 1.171e-03, tolerance: 4.974e-04\n",
      "Objective did not converge. You might want to increase the number of iterations, check the scale of the features or consider increasing regularisation. Duality gap: 8.959e-01, tolerance: 4.018e-04\n",
      "Objective did not converge. You might want to increase the number of iterations, check the scale of the features or consider increasing regularisation. Duality gap: 8.846e-01, tolerance: 4.242e-04\n",
      "Objective did not converge. You might want to increase the number of iterations, check the scale of the features or consider increasing regularisation. Duality gap: 7.566e-01, tolerance: 3.916e-04\n",
      "Objective did not converge. You might want to increase the number of iterations, check the scale of the features or consider increasing regularisation. Duality gap: 7.140e-01, tolerance: 3.737e-04\n",
      "Objective did not converge. You might want to increase the number of iterations, check the scale of the features or consider increasing regularisation. Duality gap: 9.898e-01, tolerance: 4.974e-04\n",
      "Objective did not converge. You might want to increase the number of iterations, check the scale of the features or consider increasing regularisation. Duality gap: 8.400e-03, tolerance: 4.018e-04\n",
      "Objective did not converge. You might want to increase the number of iterations, check the scale of the features or consider increasing regularisation. Duality gap: 1.928e-02, tolerance: 4.242e-04\n",
      "Objective did not converge. You might want to increase the number of iterations, check the scale of the features or consider increasing regularisation. Duality gap: 1.040e-02, tolerance: 3.916e-04\n",
      "Objective did not converge. You might want to increase the number of iterations, check the scale of the features or consider increasing regularisation. Duality gap: 1.263e-02, tolerance: 3.737e-04\n",
      "Objective did not converge. You might want to increase the number of iterations, check the scale of the features or consider increasing regularisation. Duality gap: 1.726e-02, tolerance: 4.974e-04\n",
      "Objective did not converge. You might want to increase the number of iterations, check the scale of the features or consider increasing regularisation. Duality gap: 7.049e-04, tolerance: 4.018e-04\n",
      "Objective did not converge. You might want to increase the number of iterations, check the scale of the features or consider increasing regularisation. Duality gap: 5.100e-04, tolerance: 3.916e-04\n",
      "Objective did not converge. You might want to increase the number of iterations, check the scale of the features or consider increasing regularisation. Duality gap: 1.079e-03, tolerance: 3.737e-04\n",
      "Objective did not converge. You might want to increase the number of iterations, check the scale of the features or consider increasing regularisation. Duality gap: 8.153e-01, tolerance: 4.018e-04\n"
     ]
    },
    {
     "name": "stderr",
     "output_type": "stream",
     "text": [
      "Objective did not converge. You might want to increase the number of iterations, check the scale of the features or consider increasing regularisation. Duality gap: 7.613e-01, tolerance: 4.242e-04\n",
      "Objective did not converge. You might want to increase the number of iterations, check the scale of the features or consider increasing regularisation. Duality gap: 7.292e-01, tolerance: 3.916e-04\n",
      "Objective did not converge. You might want to increase the number of iterations, check the scale of the features or consider increasing regularisation. Duality gap: 6.194e-01, tolerance: 3.737e-04\n",
      "Objective did not converge. You might want to increase the number of iterations, check the scale of the features or consider increasing regularisation. Duality gap: 8.886e-01, tolerance: 4.974e-04\n",
      "Objective did not converge. You might want to increase the number of iterations, check the scale of the features or consider increasing regularisation. Duality gap: 7.710e-03, tolerance: 4.018e-04\n",
      "Objective did not converge. You might want to increase the number of iterations, check the scale of the features or consider increasing regularisation. Duality gap: 1.780e-02, tolerance: 4.242e-04\n",
      "Objective did not converge. You might want to increase the number of iterations, check the scale of the features or consider increasing regularisation. Duality gap: 4.274e-04, tolerance: 3.916e-04\n",
      "Objective did not converge. You might want to increase the number of iterations, check the scale of the features or consider increasing regularisation. Duality gap: 1.090e-02, tolerance: 3.737e-04\n",
      "Objective did not converge. You might want to increase the number of iterations, check the scale of the features or consider increasing regularisation. Duality gap: 1.504e-02, tolerance: 4.974e-04\n",
      "Objective did not converge. You might want to increase the number of iterations, check the scale of the features or consider increasing regularisation. Duality gap: 5.698e-04, tolerance: 4.018e-04\n",
      "Objective did not converge. You might want to increase the number of iterations, check the scale of the features or consider increasing regularisation. Duality gap: 9.063e-04, tolerance: 3.737e-04\n",
      "Objective did not converge. You might want to increase the number of iterations, check the scale of the features or consider increasing regularisation. Duality gap: 7.258e-01, tolerance: 4.018e-04\n",
      "Objective did not converge. You might want to increase the number of iterations, check the scale of the features or consider increasing regularisation. Duality gap: 6.277e-01, tolerance: 4.242e-04\n",
      "Objective did not converge. You might want to increase the number of iterations, check the scale of the features or consider increasing regularisation. Duality gap: 6.879e-01, tolerance: 3.916e-04\n",
      "Objective did not converge. You might want to increase the number of iterations, check the scale of the features or consider increasing regularisation. Duality gap: 5.108e-01, tolerance: 3.737e-04\n",
      "Objective did not converge. You might want to increase the number of iterations, check the scale of the features or consider increasing regularisation. Duality gap: 7.731e-01, tolerance: 4.974e-04\n",
      "Objective did not converge. You might want to increase the number of iterations, check the scale of the features or consider increasing regularisation. Duality gap: 5.626e-03, tolerance: 4.018e-04\n",
      "Objective did not converge. You might want to increase the number of iterations, check the scale of the features or consider increasing regularisation. Duality gap: 1.345e-02, tolerance: 4.242e-04\n",
      "Objective did not converge. You might want to increase the number of iterations, check the scale of the features or consider increasing regularisation. Duality gap: 4.652e-04, tolerance: 3.916e-04\n",
      "Objective did not converge. You might want to increase the number of iterations, check the scale of the features or consider increasing regularisation. Duality gap: 1.033e-02, tolerance: 3.737e-04\n",
      "Objective did not converge. You might want to increase the number of iterations, check the scale of the features or consider increasing regularisation. Duality gap: 1.351e-02, tolerance: 4.974e-04\n",
      "Objective did not converge. You might want to increase the number of iterations, check the scale of the features or consider increasing regularisation. Duality gap: 7.215e-04, tolerance: 3.737e-04\n",
      "Objective did not converge. You might want to increase the number of iterations, check the scale of the features or consider increasing regularisation. Duality gap: 6.326e-01, tolerance: 4.018e-04\n",
      "Objective did not converge. You might want to increase the number of iterations, check the scale of the features or consider increasing regularisation. Duality gap: 4.878e-01, tolerance: 4.242e-04\n",
      "Objective did not converge. You might want to increase the number of iterations, check the scale of the features or consider increasing regularisation. Duality gap: 6.328e-01, tolerance: 3.916e-04\n",
      "Objective did not converge. You might want to increase the number of iterations, check the scale of the features or consider increasing regularisation. Duality gap: 4.124e-01, tolerance: 3.737e-04\n",
      "Objective did not converge. You might want to increase the number of iterations, check the scale of the features or consider increasing regularisation. Duality gap: 6.484e-01, tolerance: 4.974e-04\n",
      "Objective did not converge. You might want to increase the number of iterations, check the scale of the features or consider increasing regularisation. Duality gap: 4.390e-03, tolerance: 4.018e-04\n",
      "Objective did not converge. You might want to increase the number of iterations, check the scale of the features or consider increasing regularisation. Duality gap: 5.645e-03, tolerance: 4.242e-04\n",
      "Objective did not converge. You might want to increase the number of iterations, check the scale of the features or consider increasing regularisation. Duality gap: 4.745e-04, tolerance: 3.916e-04\n",
      "Objective did not converge. You might want to increase the number of iterations, check the scale of the features or consider increasing regularisation. Duality gap: 8.775e-03, tolerance: 3.737e-04\n",
      "Objective did not converge. You might want to increase the number of iterations, check the scale of the features or consider increasing regularisation. Duality gap: 9.076e-03, tolerance: 4.974e-04\n",
      "Objective did not converge. You might want to increase the number of iterations, check the scale of the features or consider increasing regularisation. Duality gap: 6.439e-04, tolerance: 3.737e-04\n",
      "Objective did not converge. You might want to increase the number of iterations, check the scale of the features or consider increasing regularisation. Duality gap: 5.230e-01, tolerance: 4.018e-04\n",
      "Objective did not converge. You might want to increase the number of iterations, check the scale of the features or consider increasing regularisation. Duality gap: 3.725e-01, tolerance: 4.242e-04\n",
      "Objective did not converge. You might want to increase the number of iterations, check the scale of the features or consider increasing regularisation. Duality gap: 5.544e-01, tolerance: 3.916e-04\n",
      "Objective did not converge. You might want to increase the number of iterations, check the scale of the features or consider increasing regularisation. Duality gap: 3.697e-01, tolerance: 3.737e-04\n",
      "Objective did not converge. You might want to increase the number of iterations, check the scale of the features or consider increasing regularisation. Duality gap: 5.219e-01, tolerance: 4.974e-04\n",
      "Objective did not converge. You might want to increase the number of iterations, check the scale of the features or consider increasing regularisation. Duality gap: 3.086e-03, tolerance: 4.018e-04\n",
      "Objective did not converge. You might want to increase the number of iterations, check the scale of the features or consider increasing regularisation. Duality gap: 9.591e-04, tolerance: 4.242e-04\n",
      "Objective did not converge. You might want to increase the number of iterations, check the scale of the features or consider increasing regularisation. Duality gap: 4.959e-04, tolerance: 3.916e-04\n",
      "Objective did not converge. You might want to increase the number of iterations, check the scale of the features or consider increasing regularisation. Duality gap: 7.953e-03, tolerance: 3.737e-04\n",
      "Objective did not converge. You might want to increase the number of iterations, check the scale of the features or consider increasing regularisation. Duality gap: 6.826e-03, tolerance: 4.974e-04\n",
      "Objective did not converge. You might want to increase the number of iterations, check the scale of the features or consider increasing regularisation. Duality gap: 4.898e-04, tolerance: 3.737e-04\n",
      "Objective did not converge. You might want to increase the number of iterations, check the scale of the features or consider increasing regularisation. Duality gap: 4.338e-01, tolerance: 4.018e-04\n"
     ]
    },
    {
     "name": "stderr",
     "output_type": "stream",
     "text": [
      "Objective did not converge. You might want to increase the number of iterations, check the scale of the features or consider increasing regularisation. Duality gap: 3.277e-01, tolerance: 4.242e-04\n",
      "Objective did not converge. You might want to increase the number of iterations, check the scale of the features or consider increasing regularisation. Duality gap: 4.617e-01, tolerance: 3.916e-04\n",
      "Objective did not converge. You might want to increase the number of iterations, check the scale of the features or consider increasing regularisation. Duality gap: 3.447e-01, tolerance: 3.737e-04\n",
      "Objective did not converge. You might want to increase the number of iterations, check the scale of the features or consider increasing regularisation. Duality gap: 4.394e-01, tolerance: 4.974e-04\n",
      "Objective did not converge. You might want to increase the number of iterations, check the scale of the features or consider increasing regularisation. Duality gap: 3.345e-03, tolerance: 4.018e-04\n",
      "Objective did not converge. You might want to increase the number of iterations, check the scale of the features or consider increasing regularisation. Duality gap: 9.269e-04, tolerance: 4.242e-04\n",
      "Objective did not converge. You might want to increase the number of iterations, check the scale of the features or consider increasing regularisation. Duality gap: 5.118e-04, tolerance: 3.916e-04\n",
      "Objective did not converge. You might want to increase the number of iterations, check the scale of the features or consider increasing regularisation. Duality gap: 6.889e-03, tolerance: 3.737e-04\n",
      "Objective did not converge. You might want to increase the number of iterations, check the scale of the features or consider increasing regularisation. Duality gap: 6.050e-03, tolerance: 4.974e-04\n",
      "Objective did not converge. You might want to increase the number of iterations, check the scale of the features or consider increasing regularisation. Duality gap: 4.073e-01, tolerance: 4.018e-04\n",
      "Objective did not converge. You might want to increase the number of iterations, check the scale of the features or consider increasing regularisation. Duality gap: 3.182e-01, tolerance: 4.242e-04\n",
      "Objective did not converge. You might want to increase the number of iterations, check the scale of the features or consider increasing regularisation. Duality gap: 3.974e-01, tolerance: 3.916e-04\n",
      "Objective did not converge. You might want to increase the number of iterations, check the scale of the features or consider increasing regularisation. Duality gap: 3.200e-01, tolerance: 3.737e-04\n",
      "Objective did not converge. You might want to increase the number of iterations, check the scale of the features or consider increasing regularisation. Duality gap: 4.038e-01, tolerance: 4.974e-04\n",
      "Objective did not converge. You might want to increase the number of iterations, check the scale of the features or consider increasing regularisation. Duality gap: 3.602e-03, tolerance: 4.018e-04\n",
      "Objective did not converge. You might want to increase the number of iterations, check the scale of the features or consider increasing regularisation. Duality gap: 7.366e-04, tolerance: 4.242e-04\n",
      "Objective did not converge. You might want to increase the number of iterations, check the scale of the features or consider increasing regularisation. Duality gap: 5.266e-04, tolerance: 3.916e-04\n",
      "Objective did not converge. You might want to increase the number of iterations, check the scale of the features or consider increasing regularisation. Duality gap: 5.577e-03, tolerance: 3.737e-04\n",
      "Objective did not converge. You might want to increase the number of iterations, check the scale of the features or consider increasing regularisation. Duality gap: 5.865e-03, tolerance: 4.974e-04\n",
      "Objective did not converge. You might want to increase the number of iterations, check the scale of the features or consider increasing regularisation. Duality gap: 3.813e-01, tolerance: 4.018e-04\n",
      "Objective did not converge. You might want to increase the number of iterations, check the scale of the features or consider increasing regularisation. Duality gap: 3.089e-01, tolerance: 4.242e-04\n",
      "Objective did not converge. You might want to increase the number of iterations, check the scale of the features or consider increasing regularisation. Duality gap: 3.626e-01, tolerance: 3.916e-04\n",
      "Objective did not converge. You might want to increase the number of iterations, check the scale of the features or consider increasing regularisation. Duality gap: 2.959e-01, tolerance: 3.737e-04\n",
      "Objective did not converge. You might want to increase the number of iterations, check the scale of the features or consider increasing regularisation. Duality gap: 3.671e-01, tolerance: 4.974e-04\n",
      "Objective did not converge. You might want to increase the number of iterations, check the scale of the features or consider increasing regularisation. Duality gap: 3.964e-03, tolerance: 4.018e-04\n",
      "Objective did not converge. You might want to increase the number of iterations, check the scale of the features or consider increasing regularisation. Duality gap: 5.293e-04, tolerance: 4.242e-04\n",
      "Objective did not converge. You might want to increase the number of iterations, check the scale of the features or consider increasing regularisation. Duality gap: 5.409e-04, tolerance: 3.916e-04\n",
      "Objective did not converge. You might want to increase the number of iterations, check the scale of the features or consider increasing regularisation. Duality gap: 3.661e-03, tolerance: 3.737e-04\n",
      "Objective did not converge. You might want to increase the number of iterations, check the scale of the features or consider increasing regularisation. Duality gap: 5.679e-03, tolerance: 4.974e-04\n",
      "Objective did not converge. You might want to increase the number of iterations, check the scale of the features or consider increasing regularisation. Duality gap: 1.403e+00, tolerance: 4.018e-04 Linear regression models with null weight for the l1 regularization term are more efficiently fitted using one of the solvers implemented in sklearn.linear_model.Ridge/RidgeCV instead.\n",
      "Objective did not converge. You might want to increase the number of iterations, check the scale of the features or consider increasing regularisation. Duality gap: 1.500e+00, tolerance: 4.242e-04 Linear regression models with null weight for the l1 regularization term are more efficiently fitted using one of the solvers implemented in sklearn.linear_model.Ridge/RidgeCV instead.\n",
      "Objective did not converge. You might want to increase the number of iterations, check the scale of the features or consider increasing regularisation. Duality gap: 1.280e+00, tolerance: 3.916e-04 Linear regression models with null weight for the l1 regularization term are more efficiently fitted using one of the solvers implemented in sklearn.linear_model.Ridge/RidgeCV instead.\n",
      "Objective did not converge. You might want to increase the number of iterations, check the scale of the features or consider increasing regularisation. Duality gap: 1.290e+00, tolerance: 3.737e-04 Linear regression models with null weight for the l1 regularization term are more efficiently fitted using one of the solvers implemented in sklearn.linear_model.Ridge/RidgeCV instead.\n",
      "Objective did not converge. You might want to increase the number of iterations, check the scale of the features or consider increasing regularisation. Duality gap: 1.675e+00, tolerance: 4.974e-04 Linear regression models with null weight for the l1 regularization term are more efficiently fitted using one of the solvers implemented in sklearn.linear_model.Ridge/RidgeCV instead.\n",
      "Objective did not converge. You might want to increase the number of iterations, check the scale of the features or consider increasing regularisation. Duality gap: 1.343e+00, tolerance: 4.018e-04 Linear regression models with null weight for the l1 regularization term are more efficiently fitted using one of the solvers implemented in sklearn.linear_model.Ridge/RidgeCV instead.\n",
      "Objective did not converge. You might want to increase the number of iterations, check the scale of the features or consider increasing regularisation. Duality gap: 1.431e+00, tolerance: 4.242e-04 Linear regression models with null weight for the l1 regularization term are more efficiently fitted using one of the solvers implemented in sklearn.linear_model.Ridge/RidgeCV instead.\n",
      "Objective did not converge. You might want to increase the number of iterations, check the scale of the features or consider increasing regularisation. Duality gap: 1.210e+00, tolerance: 3.916e-04 Linear regression models with null weight for the l1 regularization term are more efficiently fitted using one of the solvers implemented in sklearn.linear_model.Ridge/RidgeCV instead.\n",
      "Objective did not converge. You might want to increase the number of iterations, check the scale of the features or consider increasing regularisation. Duality gap: 1.241e+00, tolerance: 3.737e-04 Linear regression models with null weight for the l1 regularization term are more efficiently fitted using one of the solvers implemented in sklearn.linear_model.Ridge/RidgeCV instead.\n",
      "Objective did not converge. You might want to increase the number of iterations, check the scale of the features or consider increasing regularisation. Duality gap: 1.594e+00, tolerance: 4.974e-04 Linear regression models with null weight for the l1 regularization term are more efficiently fitted using one of the solvers implemented in sklearn.linear_model.Ridge/RidgeCV instead.\n",
      "Objective did not converge. You might want to increase the number of iterations, check the scale of the features or consider increasing regularisation. Duality gap: 1.343e+00, tolerance: 4.018e-04 Linear regression models with null weight for the l1 regularization term are more efficiently fitted using one of the solvers implemented in sklearn.linear_model.Ridge/RidgeCV instead.\n",
      "Objective did not converge. You might want to increase the number of iterations, check the scale of the features or consider increasing regularisation. Duality gap: 1.431e+00, tolerance: 4.242e-04 Linear regression models with null weight for the l1 regularization term are more efficiently fitted using one of the solvers implemented in sklearn.linear_model.Ridge/RidgeCV instead.\n",
      "Objective did not converge. You might want to increase the number of iterations, check the scale of the features or consider increasing regularisation. Duality gap: 1.210e+00, tolerance: 3.916e-04 Linear regression models with null weight for the l1 regularization term are more efficiently fitted using one of the solvers implemented in sklearn.linear_model.Ridge/RidgeCV instead.\n",
      "Objective did not converge. You might want to increase the number of iterations, check the scale of the features or consider increasing regularisation. Duality gap: 1.241e+00, tolerance: 3.737e-04 Linear regression models with null weight for the l1 regularization term are more efficiently fitted using one of the solvers implemented in sklearn.linear_model.Ridge/RidgeCV instead.\n",
      "Objective did not converge. You might want to increase the number of iterations, check the scale of the features or consider increasing regularisation. Duality gap: 1.594e+00, tolerance: 4.974e-04 Linear regression models with null weight for the l1 regularization term are more efficiently fitted using one of the solvers implemented in sklearn.linear_model.Ridge/RidgeCV instead.\n",
      "Objective did not converge. You might want to increase the number of iterations, check the scale of the features or consider increasing regularisation. Duality gap: 1.681e-01, tolerance: 4.018e-04\n",
      "Objective did not converge. You might want to increase the number of iterations, check the scale of the features or consider increasing regularisation. Duality gap: 1.751e-01, tolerance: 4.242e-04\n",
      "Objective did not converge. You might want to increase the number of iterations, check the scale of the features or consider increasing regularisation. Duality gap: 1.655e-01, tolerance: 3.916e-04\n",
      "Objective did not converge. You might want to increase the number of iterations, check the scale of the features or consider increasing regularisation. Duality gap: 1.518e-01, tolerance: 3.737e-04\n",
      "Objective did not converge. You might want to increase the number of iterations, check the scale of the features or consider increasing regularisation. Duality gap: 2.385e-01, tolerance: 4.974e-04\n",
      "Objective did not converge. You might want to increase the number of iterations, check the scale of the features or consider increasing regularisation. Duality gap: 7.851e-02, tolerance: 4.018e-04\n"
     ]
    },
    {
     "name": "stderr",
     "output_type": "stream",
     "text": [
      "Objective did not converge. You might want to increase the number of iterations, check the scale of the features or consider increasing regularisation. Duality gap: 9.207e-02, tolerance: 4.242e-04\n",
      "Objective did not converge. You might want to increase the number of iterations, check the scale of the features or consider increasing regularisation. Duality gap: 7.122e-02, tolerance: 3.916e-04\n",
      "Objective did not converge. You might want to increase the number of iterations, check the scale of the features or consider increasing regularisation. Duality gap: 6.898e-02, tolerance: 3.737e-04\n",
      "Objective did not converge. You might want to increase the number of iterations, check the scale of the features or consider increasing regularisation. Duality gap: 1.330e-01, tolerance: 4.974e-04\n",
      "Objective did not converge. You might want to increase the number of iterations, check the scale of the features or consider increasing regularisation. Duality gap: 2.374e-02, tolerance: 4.018e-04\n",
      "Objective did not converge. You might want to increase the number of iterations, check the scale of the features or consider increasing regularisation. Duality gap: 2.832e-02, tolerance: 4.242e-04\n",
      "Objective did not converge. You might want to increase the number of iterations, check the scale of the features or consider increasing regularisation. Duality gap: 1.406e-02, tolerance: 3.916e-04\n",
      "Objective did not converge. You might want to increase the number of iterations, check the scale of the features or consider increasing regularisation. Duality gap: 1.977e-02, tolerance: 3.737e-04\n",
      "Objective did not converge. You might want to increase the number of iterations, check the scale of the features or consider increasing regularisation. Duality gap: 5.156e-02, tolerance: 4.974e-04\n",
      "Objective did not converge. You might want to increase the number of iterations, check the scale of the features or consider increasing regularisation. Duality gap: 3.727e-03, tolerance: 4.018e-04\n",
      "Objective did not converge. You might want to increase the number of iterations, check the scale of the features or consider increasing regularisation. Duality gap: 4.259e-03, tolerance: 4.242e-04\n",
      "Objective did not converge. You might want to increase the number of iterations, check the scale of the features or consider increasing regularisation. Duality gap: 6.604e-03, tolerance: 3.916e-04\n",
      "Objective did not converge. You might want to increase the number of iterations, check the scale of the features or consider increasing regularisation. Duality gap: 3.186e-03, tolerance: 3.737e-04\n",
      "Objective did not converge. You might want to increase the number of iterations, check the scale of the features or consider increasing regularisation. Duality gap: 9.505e-03, tolerance: 4.974e-04\n",
      "Objective did not converge. You might want to increase the number of iterations, check the scale of the features or consider increasing regularisation. Duality gap: 5.186e-04, tolerance: 4.018e-04\n",
      "Objective did not converge. You might want to increase the number of iterations, check the scale of the features or consider increasing regularisation. Duality gap: 8.527e-04, tolerance: 4.242e-04\n",
      "Objective did not converge. You might want to increase the number of iterations, check the scale of the features or consider increasing regularisation. Duality gap: 1.705e-03, tolerance: 3.916e-04\n",
      "Objective did not converge. You might want to increase the number of iterations, check the scale of the features or consider increasing regularisation. Duality gap: 3.684e-03, tolerance: 4.974e-04\n",
      "Objective did not converge. You might want to increase the number of iterations, check the scale of the features or consider increasing regularisation. Duality gap: 1.810e+00, tolerance: 4.018e-04 Linear regression models with null weight for the l1 regularization term are more efficiently fitted using one of the solvers implemented in sklearn.linear_model.Ridge/RidgeCV instead.\n",
      "Objective did not converge. You might want to increase the number of iterations, check the scale of the features or consider increasing regularisation. Duality gap: 1.903e+00, tolerance: 4.242e-04 Linear regression models with null weight for the l1 regularization term are more efficiently fitted using one of the solvers implemented in sklearn.linear_model.Ridge/RidgeCV instead.\n",
      "Objective did not converge. You might want to increase the number of iterations, check the scale of the features or consider increasing regularisation. Duality gap: 1.747e+00, tolerance: 3.916e-04 Linear regression models with null weight for the l1 regularization term are more efficiently fitted using one of the solvers implemented in sklearn.linear_model.Ridge/RidgeCV instead.\n",
      "Objective did not converge. You might want to increase the number of iterations, check the scale of the features or consider increasing regularisation. Duality gap: 1.681e+00, tolerance: 3.737e-04 Linear regression models with null weight for the l1 regularization term are more efficiently fitted using one of the solvers implemented in sklearn.linear_model.Ridge/RidgeCV instead.\n",
      "Objective did not converge. You might want to increase the number of iterations, check the scale of the features or consider increasing regularisation. Duality gap: 2.217e+00, tolerance: 4.974e-04 Linear regression models with null weight for the l1 regularization term are more efficiently fitted using one of the solvers implemented in sklearn.linear_model.Ridge/RidgeCV instead.\n",
      "Objective did not converge. You might want to increase the number of iterations, check the scale of the features or consider increasing regularisation. Duality gap: 1.807e+00, tolerance: 4.018e-04 Linear regression models with null weight for the l1 regularization term are more efficiently fitted using one of the solvers implemented in sklearn.linear_model.Ridge/RidgeCV instead.\n",
      "Objective did not converge. You might want to increase the number of iterations, check the scale of the features or consider increasing regularisation. Duality gap: 1.898e+00, tolerance: 4.242e-04 Linear regression models with null weight for the l1 regularization term are more efficiently fitted using one of the solvers implemented in sklearn.linear_model.Ridge/RidgeCV instead.\n",
      "Objective did not converge. You might want to increase the number of iterations, check the scale of the features or consider increasing regularisation. Duality gap: 1.743e+00, tolerance: 3.916e-04 Linear regression models with null weight for the l1 regularization term are more efficiently fitted using one of the solvers implemented in sklearn.linear_model.Ridge/RidgeCV instead.\n",
      "Objective did not converge. You might want to increase the number of iterations, check the scale of the features or consider increasing regularisation. Duality gap: 1.678e+00, tolerance: 3.737e-04 Linear regression models with null weight for the l1 regularization term are more efficiently fitted using one of the solvers implemented in sklearn.linear_model.Ridge/RidgeCV instead.\n",
      "Objective did not converge. You might want to increase the number of iterations, check the scale of the features or consider increasing regularisation. Duality gap: 2.212e+00, tolerance: 4.974e-04 Linear regression models with null weight for the l1 regularization term are more efficiently fitted using one of the solvers implemented in sklearn.linear_model.Ridge/RidgeCV instead.\n",
      "Objective did not converge. You might want to increase the number of iterations, check the scale of the features or consider increasing regularisation. Duality gap: 1.807e+00, tolerance: 4.018e-04 Linear regression models with null weight for the l1 regularization term are more efficiently fitted using one of the solvers implemented in sklearn.linear_model.Ridge/RidgeCV instead.\n",
      "Objective did not converge. You might want to increase the number of iterations, check the scale of the features or consider increasing regularisation. Duality gap: 1.898e+00, tolerance: 4.242e-04 Linear regression models with null weight for the l1 regularization term are more efficiently fitted using one of the solvers implemented in sklearn.linear_model.Ridge/RidgeCV instead.\n",
      "Objective did not converge. You might want to increase the number of iterations, check the scale of the features or consider increasing regularisation. Duality gap: 1.743e+00, tolerance: 3.916e-04 Linear regression models with null weight for the l1 regularization term are more efficiently fitted using one of the solvers implemented in sklearn.linear_model.Ridge/RidgeCV instead.\n",
      "Objective did not converge. You might want to increase the number of iterations, check the scale of the features or consider increasing regularisation. Duality gap: 1.678e+00, tolerance: 3.737e-04 Linear regression models with null weight for the l1 regularization term are more efficiently fitted using one of the solvers implemented in sklearn.linear_model.Ridge/RidgeCV instead.\n",
      "Objective did not converge. You might want to increase the number of iterations, check the scale of the features or consider increasing regularisation. Duality gap: 2.212e+00, tolerance: 4.974e-04 Linear regression models with null weight for the l1 regularization term are more efficiently fitted using one of the solvers implemented in sklearn.linear_model.Ridge/RidgeCV instead.\n"
     ]
    },
    {
     "name": "stderr",
     "output_type": "stream",
     "text": [
      "Objective did not converge. You might want to increase the number of iterations, check the scale of the features or consider increasing regularisation. Duality gap: 1.976e+00, tolerance: 4.018e-04 Linear regression models with null weight for the l1 regularization term are more efficiently fitted using one of the solvers implemented in sklearn.linear_model.Ridge/RidgeCV instead.\n",
      "Objective did not converge. You might want to increase the number of iterations, check the scale of the features or consider increasing regularisation. Duality gap: 2.084e+00, tolerance: 4.242e-04 Linear regression models with null weight for the l1 regularization term are more efficiently fitted using one of the solvers implemented in sklearn.linear_model.Ridge/RidgeCV instead.\n",
      "Objective did not converge. You might want to increase the number of iterations, check the scale of the features or consider increasing regularisation. Duality gap: 1.923e+00, tolerance: 3.916e-04 Linear regression models with null weight for the l1 regularization term are more efficiently fitted using one of the solvers implemented in sklearn.linear_model.Ridge/RidgeCV instead.\n",
      "Objective did not converge. You might want to increase the number of iterations, check the scale of the features or consider increasing regularisation. Duality gap: 1.837e+00, tolerance: 3.737e-04 Linear regression models with null weight for the l1 regularization term are more efficiently fitted using one of the solvers implemented in sklearn.linear_model.Ridge/RidgeCV instead.\n",
      "Objective did not converge. You might want to increase the number of iterations, check the scale of the features or consider increasing regularisation. Duality gap: 2.441e+00, tolerance: 4.974e-04 Linear regression models with null weight for the l1 regularization term are more efficiently fitted using one of the solvers implemented in sklearn.linear_model.Ridge/RidgeCV instead.\n",
      "Objective did not converge. You might want to increase the number of iterations, check the scale of the features or consider increasing regularisation. Duality gap: 1.976e+00, tolerance: 4.018e-04 Linear regression models with null weight for the l1 regularization term are more efficiently fitted using one of the solvers implemented in sklearn.linear_model.Ridge/RidgeCV instead.\n",
      "Objective did not converge. You might want to increase the number of iterations, check the scale of the features or consider increasing regularisation. Duality gap: 2.084e+00, tolerance: 4.242e-04 Linear regression models with null weight for the l1 regularization term are more efficiently fitted using one of the solvers implemented in sklearn.linear_model.Ridge/RidgeCV instead.\n",
      "Objective did not converge. You might want to increase the number of iterations, check the scale of the features or consider increasing regularisation. Duality gap: 1.923e+00, tolerance: 3.916e-04 Linear regression models with null weight for the l1 regularization term are more efficiently fitted using one of the solvers implemented in sklearn.linear_model.Ridge/RidgeCV instead.\n",
      "Objective did not converge. You might want to increase the number of iterations, check the scale of the features or consider increasing regularisation. Duality gap: 1.837e+00, tolerance: 3.737e-04 Linear regression models with null weight for the l1 regularization term are more efficiently fitted using one of the solvers implemented in sklearn.linear_model.Ridge/RidgeCV instead.\n",
      "Objective did not converge. You might want to increase the number of iterations, check the scale of the features or consider increasing regularisation. Duality gap: 2.441e+00, tolerance: 4.974e-04 Linear regression models with null weight for the l1 regularization term are more efficiently fitted using one of the solvers implemented in sklearn.linear_model.Ridge/RidgeCV instead.\n",
      "Objective did not converge. You might want to increase the number of iterations, check the scale of the features or consider increasing regularisation. Duality gap: 1.976e+00, tolerance: 4.018e-04 Linear regression models with null weight for the l1 regularization term are more efficiently fitted using one of the solvers implemented in sklearn.linear_model.Ridge/RidgeCV instead.\n",
      "Objective did not converge. You might want to increase the number of iterations, check the scale of the features or consider increasing regularisation. Duality gap: 2.084e+00, tolerance: 4.242e-04 Linear regression models with null weight for the l1 regularization term are more efficiently fitted using one of the solvers implemented in sklearn.linear_model.Ridge/RidgeCV instead.\n",
      "Objective did not converge. You might want to increase the number of iterations, check the scale of the features or consider increasing regularisation. Duality gap: 1.923e+00, tolerance: 3.916e-04 Linear regression models with null weight for the l1 regularization term are more efficiently fitted using one of the solvers implemented in sklearn.linear_model.Ridge/RidgeCV instead.\n",
      "Objective did not converge. You might want to increase the number of iterations, check the scale of the features or consider increasing regularisation. Duality gap: 1.837e+00, tolerance: 3.737e-04 Linear regression models with null weight for the l1 regularization term are more efficiently fitted using one of the solvers implemented in sklearn.linear_model.Ridge/RidgeCV instead.\n",
      "Objective did not converge. You might want to increase the number of iterations, check the scale of the features or consider increasing regularisation. Duality gap: 2.441e+00, tolerance: 4.974e-04 Linear regression models with null weight for the l1 regularization term are more efficiently fitted using one of the solvers implemented in sklearn.linear_model.Ridge/RidgeCV instead.\n",
      "Objective did not converge. You might want to increase the number of iterations, check the scale of the features or consider increasing regularisation. Duality gap: 2.005e+00, tolerance: 4.018e-04 Linear regression models with null weight for the l1 regularization term are more efficiently fitted using one of the solvers implemented in sklearn.linear_model.Ridge/RidgeCV instead.\n",
      "Objective did not converge. You might want to increase the number of iterations, check the scale of the features or consider increasing regularisation. Duality gap: 2.117e+00, tolerance: 4.242e-04 Linear regression models with null weight for the l1 regularization term are more efficiently fitted using one of the solvers implemented in sklearn.linear_model.Ridge/RidgeCV instead.\n",
      "Objective did not converge. You might want to increase the number of iterations, check the scale of the features or consider increasing regularisation. Duality gap: 1.954e+00, tolerance: 3.916e-04 Linear regression models with null weight for the l1 regularization term are more efficiently fitted using one of the solvers implemented in sklearn.linear_model.Ridge/RidgeCV instead.\n",
      "Objective did not converge. You might want to increase the number of iterations, check the scale of the features or consider increasing regularisation. Duality gap: 1.865e+00, tolerance: 3.737e-04 Linear regression models with null weight for the l1 regularization term are more efficiently fitted using one of the solvers implemented in sklearn.linear_model.Ridge/RidgeCV instead.\n",
      "Objective did not converge. You might want to increase the number of iterations, check the scale of the features or consider increasing regularisation. Duality gap: 2.482e+00, tolerance: 4.974e-04 Linear regression models with null weight for the l1 regularization term are more efficiently fitted using one of the solvers implemented in sklearn.linear_model.Ridge/RidgeCV instead.\n",
      "Objective did not converge. You might want to increase the number of iterations, check the scale of the features or consider increasing regularisation. Duality gap: 2.005e+00, tolerance: 4.018e-04 Linear regression models with null weight for the l1 regularization term are more efficiently fitted using one of the solvers implemented in sklearn.linear_model.Ridge/RidgeCV instead.\n",
      "Objective did not converge. You might want to increase the number of iterations, check the scale of the features or consider increasing regularisation. Duality gap: 2.117e+00, tolerance: 4.242e-04 Linear regression models with null weight for the l1 regularization term are more efficiently fitted using one of the solvers implemented in sklearn.linear_model.Ridge/RidgeCV instead.\n",
      "Objective did not converge. You might want to increase the number of iterations, check the scale of the features or consider increasing regularisation. Duality gap: 1.954e+00, tolerance: 3.916e-04 Linear regression models with null weight for the l1 regularization term are more efficiently fitted using one of the solvers implemented in sklearn.linear_model.Ridge/RidgeCV instead.\n",
      "Objective did not converge. You might want to increase the number of iterations, check the scale of the features or consider increasing regularisation. Duality gap: 1.865e+00, tolerance: 3.737e-04 Linear regression models with null weight for the l1 regularization term are more efficiently fitted using one of the solvers implemented in sklearn.linear_model.Ridge/RidgeCV instead.\n",
      "Objective did not converge. You might want to increase the number of iterations, check the scale of the features or consider increasing regularisation. Duality gap: 2.482e+00, tolerance: 4.974e-04 Linear regression models with null weight for the l1 regularization term are more efficiently fitted using one of the solvers implemented in sklearn.linear_model.Ridge/RidgeCV instead.\n",
      "Objective did not converge. You might want to increase the number of iterations, check the scale of the features or consider increasing regularisation. Duality gap: 2.005e+00, tolerance: 4.018e-04 Linear regression models with null weight for the l1 regularization term are more efficiently fitted using one of the solvers implemented in sklearn.linear_model.Ridge/RidgeCV instead.\n",
      "Objective did not converge. You might want to increase the number of iterations, check the scale of the features or consider increasing regularisation. Duality gap: 2.117e+00, tolerance: 4.242e-04 Linear regression models with null weight for the l1 regularization term are more efficiently fitted using one of the solvers implemented in sklearn.linear_model.Ridge/RidgeCV instead.\n",
      "Objective did not converge. You might want to increase the number of iterations, check the scale of the features or consider increasing regularisation. Duality gap: 1.954e+00, tolerance: 3.916e-04 Linear regression models with null weight for the l1 regularization term are more efficiently fitted using one of the solvers implemented in sklearn.linear_model.Ridge/RidgeCV instead.\n",
      "Objective did not converge. You might want to increase the number of iterations, check the scale of the features or consider increasing regularisation. Duality gap: 1.865e+00, tolerance: 3.737e-04 Linear regression models with null weight for the l1 regularization term are more efficiently fitted using one of the solvers implemented in sklearn.linear_model.Ridge/RidgeCV instead.\n",
      "Objective did not converge. You might want to increase the number of iterations, check the scale of the features or consider increasing regularisation. Duality gap: 2.482e+00, tolerance: 4.974e-04 Linear regression models with null weight for the l1 regularization term are more efficiently fitted using one of the solvers implemented in sklearn.linear_model.Ridge/RidgeCV instead.\n"
     ]
    },
    {
     "name": "stderr",
     "output_type": "stream",
     "text": [
      "Objective did not converge. You might want to increase the number of iterations, check the scale of the features or consider increasing regularisation. Duality gap: 2.009e+00, tolerance: 4.018e-04 Linear regression models with null weight for the l1 regularization term are more efficiently fitted using one of the solvers implemented in sklearn.linear_model.Ridge/RidgeCV instead.\n",
      "Objective did not converge. You might want to increase the number of iterations, check the scale of the features or consider increasing regularisation. Duality gap: 2.121e+00, tolerance: 4.242e-04 Linear regression models with null weight for the l1 regularization term are more efficiently fitted using one of the solvers implemented in sklearn.linear_model.Ridge/RidgeCV instead.\n",
      "Objective did not converge. You might want to increase the number of iterations, check the scale of the features or consider increasing regularisation. Duality gap: 1.958e+00, tolerance: 3.916e-04 Linear regression models with null weight for the l1 regularization term are more efficiently fitted using one of the solvers implemented in sklearn.linear_model.Ridge/RidgeCV instead.\n",
      "Objective did not converge. You might want to increase the number of iterations, check the scale of the features or consider increasing regularisation. Duality gap: 1.868e+00, tolerance: 3.737e-04 Linear regression models with null weight for the l1 regularization term are more efficiently fitted using one of the solvers implemented in sklearn.linear_model.Ridge/RidgeCV instead.\n",
      "Objective did not converge. You might want to increase the number of iterations, check the scale of the features or consider increasing regularisation. Duality gap: 2.487e+00, tolerance: 4.974e-04 Linear regression models with null weight for the l1 regularization term are more efficiently fitted using one of the solvers implemented in sklearn.linear_model.Ridge/RidgeCV instead.\n",
      "Objective did not converge. You might want to increase the number of iterations, check the scale of the features or consider increasing regularisation. Duality gap: 2.009e+00, tolerance: 4.018e-04 Linear regression models with null weight for the l1 regularization term are more efficiently fitted using one of the solvers implemented in sklearn.linear_model.Ridge/RidgeCV instead.\n",
      "Objective did not converge. You might want to increase the number of iterations, check the scale of the features or consider increasing regularisation. Duality gap: 2.121e+00, tolerance: 4.242e-04 Linear regression models with null weight for the l1 regularization term are more efficiently fitted using one of the solvers implemented in sklearn.linear_model.Ridge/RidgeCV instead.\n",
      "Objective did not converge. You might want to increase the number of iterations, check the scale of the features or consider increasing regularisation. Duality gap: 1.958e+00, tolerance: 3.916e-04 Linear regression models with null weight for the l1 regularization term are more efficiently fitted using one of the solvers implemented in sklearn.linear_model.Ridge/RidgeCV instead.\n",
      "Objective did not converge. You might want to increase the number of iterations, check the scale of the features or consider increasing regularisation. Duality gap: 1.868e+00, tolerance: 3.737e-04 Linear regression models with null weight for the l1 regularization term are more efficiently fitted using one of the solvers implemented in sklearn.linear_model.Ridge/RidgeCV instead.\n",
      "Objective did not converge. You might want to increase the number of iterations, check the scale of the features or consider increasing regularisation. Duality gap: 2.487e+00, tolerance: 4.974e-04 Linear regression models with null weight for the l1 regularization term are more efficiently fitted using one of the solvers implemented in sklearn.linear_model.Ridge/RidgeCV instead.\n",
      "Objective did not converge. You might want to increase the number of iterations, check the scale of the features or consider increasing regularisation. Duality gap: 2.009e+00, tolerance: 4.018e-04 Linear regression models with null weight for the l1 regularization term are more efficiently fitted using one of the solvers implemented in sklearn.linear_model.Ridge/RidgeCV instead.\n",
      "Objective did not converge. You might want to increase the number of iterations, check the scale of the features or consider increasing regularisation. Duality gap: 2.121e+00, tolerance: 4.242e-04 Linear regression models with null weight for the l1 regularization term are more efficiently fitted using one of the solvers implemented in sklearn.linear_model.Ridge/RidgeCV instead.\n",
      "Objective did not converge. You might want to increase the number of iterations, check the scale of the features or consider increasing regularisation. Duality gap: 1.958e+00, tolerance: 3.916e-04 Linear regression models with null weight for the l1 regularization term are more efficiently fitted using one of the solvers implemented in sklearn.linear_model.Ridge/RidgeCV instead.\n",
      "Objective did not converge. You might want to increase the number of iterations, check the scale of the features or consider increasing regularisation. Duality gap: 1.868e+00, tolerance: 3.737e-04 Linear regression models with null weight for the l1 regularization term are more efficiently fitted using one of the solvers implemented in sklearn.linear_model.Ridge/RidgeCV instead.\n",
      "Objective did not converge. You might want to increase the number of iterations, check the scale of the features or consider increasing regularisation. Duality gap: 2.487e+00, tolerance: 4.974e-04 Linear regression models with null weight for the l1 regularization term are more efficiently fitted using one of the solvers implemented in sklearn.linear_model.Ridge/RidgeCV instead.\n"
     ]
    },
    {
     "name": "stdout",
     "output_type": "stream",
     "text": [
      "ElasticNet() {'alpha': 0.0001, 'l1_ratio': 0.9, 'max_iter': 10}\n"
     ]
    },
    {
     "name": "stderr",
     "output_type": "stream",
     "text": [
      "Objective did not converge. You might want to increase the number of iterations, check the scale of the features or consider increasing regularisation. Duality gap: 8.572e-04, tolerance: 5.223e-04\n"
     ]
    },
    {
     "data": {
      "text/html": [
       "<div>\n",
       "<style scoped>\n",
       "    .dataframe tbody tr th:only-of-type {\n",
       "        vertical-align: middle;\n",
       "    }\n",
       "\n",
       "    .dataframe tbody tr th {\n",
       "        vertical-align: top;\n",
       "    }\n",
       "\n",
       "    .dataframe thead th {\n",
       "        text-align: right;\n",
       "    }\n",
       "</style>\n",
       "<table border=\"1\" class=\"dataframe\">\n",
       "  <thead>\n",
       "    <tr style=\"text-align: right;\">\n",
       "      <th></th>\n",
       "      <th>modele</th>\n",
       "      <th>R2</th>\n",
       "      <th>RMSE</th>\n",
       "      <th>MAE</th>\n",
       "    </tr>\n",
       "  </thead>\n",
       "  <tbody>\n",
       "    <tr>\n",
       "      <th>0</th>\n",
       "      <td>Ridge()</td>\n",
       "      <td>0.500343</td>\n",
       "      <td>0.025594</td>\n",
       "      <td>0.005705</td>\n",
       "    </tr>\n",
       "    <tr>\n",
       "      <th>1</th>\n",
       "      <td>ElasticNet()</td>\n",
       "      <td>0.248057</td>\n",
       "      <td>0.031398</td>\n",
       "      <td>0.004333</td>\n",
       "    </tr>\n",
       "    <tr>\n",
       "      <th>2</th>\n",
       "      <td>LinearRegression()</td>\n",
       "      <td>0.011640</td>\n",
       "      <td>0.035997</td>\n",
       "      <td>0.005230</td>\n",
       "    </tr>\n",
       "    <tr>\n",
       "      <th>3</th>\n",
       "      <td>Lasso()</td>\n",
       "      <td>-0.070014</td>\n",
       "      <td>0.037454</td>\n",
       "      <td>0.022722</td>\n",
       "    </tr>\n",
       "  </tbody>\n",
       "</table>\n",
       "</div>"
      ],
      "text/plain": [
       "               modele        R2      RMSE       MAE\n",
       "0             Ridge()  0.500343  0.025594  0.005705\n",
       "1        ElasticNet()  0.248057  0.031398  0.004333\n",
       "2  LinearRegression()  0.011640  0.035997  0.005230\n",
       "3             Lasso() -0.070014  0.037454  0.022722"
      ]
     },
     "execution_count": 28,
     "metadata": {},
     "output_type": "execute_result"
    }
   ],
   "source": [
    "parametre_EN={\"max_iter\": [1, 5, 10], \"alpha\": [0.0001, 0.001, 0.01, 0.1, 1, 10, 100], \"l1_ratio\": np.arange(0.0, 1.0, 0.1)}\n",
    "hyperparameter(df_scores,ElasticNet(),parametre_EN)"
   ]
  },
  {
   "cell_type": "code",
   "execution_count": 29,
   "id": "77f5303e",
   "metadata": {},
   "outputs": [
    {
     "name": "stderr",
     "output_type": "stream",
     "text": [
      "Liblinear failed to converge, increase the number of iterations.\n",
      "Liblinear failed to converge, increase the number of iterations.\n",
      "Liblinear failed to converge, increase the number of iterations.\n",
      "Liblinear failed to converge, increase the number of iterations.\n",
      "Liblinear failed to converge, increase the number of iterations.\n",
      "Liblinear failed to converge, increase the number of iterations.\n",
      "Liblinear failed to converge, increase the number of iterations.\n",
      "Liblinear failed to converge, increase the number of iterations.\n",
      "Liblinear failed to converge, increase the number of iterations.\n"
     ]
    },
    {
     "name": "stdout",
     "output_type": "stream",
     "text": [
      "LinearSVR() {'C': 1}\n"
     ]
    },
    {
     "name": "stderr",
     "output_type": "stream",
     "text": [
      "Liblinear failed to converge, increase the number of iterations.\n",
      "Liblinear failed to converge, increase the number of iterations.\n"
     ]
    },
    {
     "data": {
      "text/html": [
       "<div>\n",
       "<style scoped>\n",
       "    .dataframe tbody tr th:only-of-type {\n",
       "        vertical-align: middle;\n",
       "    }\n",
       "\n",
       "    .dataframe tbody tr th {\n",
       "        vertical-align: top;\n",
       "    }\n",
       "\n",
       "    .dataframe thead th {\n",
       "        text-align: right;\n",
       "    }\n",
       "</style>\n",
       "<table border=\"1\" class=\"dataframe\">\n",
       "  <thead>\n",
       "    <tr style=\"text-align: right;\">\n",
       "      <th></th>\n",
       "      <th>modele</th>\n",
       "      <th>R2</th>\n",
       "      <th>RMSE</th>\n",
       "      <th>MAE</th>\n",
       "    </tr>\n",
       "  </thead>\n",
       "  <tbody>\n",
       "    <tr>\n",
       "      <th>0</th>\n",
       "      <td>LinearSVR()</td>\n",
       "      <td>0.876914</td>\n",
       "      <td>0.012703</td>\n",
       "      <td>0.002829</td>\n",
       "    </tr>\n",
       "    <tr>\n",
       "      <th>1</th>\n",
       "      <td>Ridge()</td>\n",
       "      <td>0.500343</td>\n",
       "      <td>0.025594</td>\n",
       "      <td>0.005705</td>\n",
       "    </tr>\n",
       "    <tr>\n",
       "      <th>2</th>\n",
       "      <td>ElasticNet()</td>\n",
       "      <td>0.248057</td>\n",
       "      <td>0.031398</td>\n",
       "      <td>0.004333</td>\n",
       "    </tr>\n",
       "    <tr>\n",
       "      <th>3</th>\n",
       "      <td>LinearRegression()</td>\n",
       "      <td>0.011640</td>\n",
       "      <td>0.035997</td>\n",
       "      <td>0.005230</td>\n",
       "    </tr>\n",
       "    <tr>\n",
       "      <th>4</th>\n",
       "      <td>Lasso()</td>\n",
       "      <td>-0.070014</td>\n",
       "      <td>0.037454</td>\n",
       "      <td>0.022722</td>\n",
       "    </tr>\n",
       "  </tbody>\n",
       "</table>\n",
       "</div>"
      ],
      "text/plain": [
       "               modele        R2      RMSE       MAE\n",
       "0         LinearSVR()  0.876914  0.012703  0.002829\n",
       "1             Ridge()  0.500343  0.025594  0.005705\n",
       "2        ElasticNet()  0.248057  0.031398  0.004333\n",
       "3  LinearRegression()  0.011640  0.035997  0.005230\n",
       "4             Lasso() -0.070014  0.037454  0.022722"
      ]
     },
     "execution_count": 29,
     "metadata": {},
     "output_type": "execute_result"
    }
   ],
   "source": [
    "parametre_SVM ={'C':[1, 10]}\n",
    "hyperparameter(df_scores,LinearSVR(),parametre_SVM)"
   ]
  },
  {
   "cell_type": "code",
   "execution_count": 30,
   "id": "de24f879",
   "metadata": {},
   "outputs": [
    {
     "name": "stdout",
     "output_type": "stream",
     "text": [
      "KNeighborsRegressor() {'metric': 'euclidean', 'n_neighbors': 1}\n"
     ]
    },
    {
     "data": {
      "text/html": [
       "<div>\n",
       "<style scoped>\n",
       "    .dataframe tbody tr th:only-of-type {\n",
       "        vertical-align: middle;\n",
       "    }\n",
       "\n",
       "    .dataframe tbody tr th {\n",
       "        vertical-align: top;\n",
       "    }\n",
       "\n",
       "    .dataframe thead th {\n",
       "        text-align: right;\n",
       "    }\n",
       "</style>\n",
       "<table border=\"1\" class=\"dataframe\">\n",
       "  <thead>\n",
       "    <tr style=\"text-align: right;\">\n",
       "      <th></th>\n",
       "      <th>modele</th>\n",
       "      <th>R2</th>\n",
       "      <th>RMSE</th>\n",
       "      <th>MAE</th>\n",
       "    </tr>\n",
       "  </thead>\n",
       "  <tbody>\n",
       "    <tr>\n",
       "      <th>0</th>\n",
       "      <td>LinearSVR()</td>\n",
       "      <td>0.876914</td>\n",
       "      <td>0.012703</td>\n",
       "      <td>0.002829</td>\n",
       "    </tr>\n",
       "    <tr>\n",
       "      <th>1</th>\n",
       "      <td>Ridge()</td>\n",
       "      <td>0.500343</td>\n",
       "      <td>0.025594</td>\n",
       "      <td>0.005705</td>\n",
       "    </tr>\n",
       "    <tr>\n",
       "      <th>2</th>\n",
       "      <td>ElasticNet()</td>\n",
       "      <td>0.248057</td>\n",
       "      <td>0.031398</td>\n",
       "      <td>0.004333</td>\n",
       "    </tr>\n",
       "    <tr>\n",
       "      <th>3</th>\n",
       "      <td>LinearRegression()</td>\n",
       "      <td>0.011640</td>\n",
       "      <td>0.035997</td>\n",
       "      <td>0.005230</td>\n",
       "    </tr>\n",
       "    <tr>\n",
       "      <th>4</th>\n",
       "      <td>Lasso()</td>\n",
       "      <td>-0.070014</td>\n",
       "      <td>0.037454</td>\n",
       "      <td>0.022722</td>\n",
       "    </tr>\n",
       "    <tr>\n",
       "      <th>5</th>\n",
       "      <td>KNeighborsRegressor()</td>\n",
       "      <td>-0.323510</td>\n",
       "      <td>0.041655</td>\n",
       "      <td>0.005381</td>\n",
       "    </tr>\n",
       "  </tbody>\n",
       "</table>\n",
       "</div>"
      ],
      "text/plain": [
       "                  modele        R2      RMSE       MAE\n",
       "0            LinearSVR()  0.876914  0.012703  0.002829\n",
       "1                Ridge()  0.500343  0.025594  0.005705\n",
       "2           ElasticNet()  0.248057  0.031398  0.004333\n",
       "3     LinearRegression()  0.011640  0.035997  0.005230\n",
       "4                Lasso() -0.070014  0.037454  0.022722\n",
       "5  KNeighborsRegressor() -0.323510  0.041655  0.005381"
      ]
     },
     "execution_count": 30,
     "metadata": {},
     "output_type": "execute_result"
    }
   ],
   "source": [
    "parametre_KNR = {'n_neighbors': np.arange(1, 30,1), 'metric': ['euclidean', 'manhattan', 'minkowski']}\n",
    "hyperparameter(df_scores,KNeighborsRegressor(),parametre_KNR)"
   ]
  },
  {
   "cell_type": "code",
   "execution_count": 31,
   "id": "d8ab1a3f",
   "metadata": {},
   "outputs": [
    {
     "name": "stdout",
     "output_type": "stream",
     "text": [
      "DecisionTreeRegressor() {'max_depth': 7, 'max_features': None}\n"
     ]
    },
    {
     "data": {
      "text/html": [
       "<div>\n",
       "<style scoped>\n",
       "    .dataframe tbody tr th:only-of-type {\n",
       "        vertical-align: middle;\n",
       "    }\n",
       "\n",
       "    .dataframe tbody tr th {\n",
       "        vertical-align: top;\n",
       "    }\n",
       "\n",
       "    .dataframe thead th {\n",
       "        text-align: right;\n",
       "    }\n",
       "</style>\n",
       "<table border=\"1\" class=\"dataframe\">\n",
       "  <thead>\n",
       "    <tr style=\"text-align: right;\">\n",
       "      <th></th>\n",
       "      <th>modele</th>\n",
       "      <th>R2</th>\n",
       "      <th>RMSE</th>\n",
       "      <th>MAE</th>\n",
       "    </tr>\n",
       "  </thead>\n",
       "  <tbody>\n",
       "    <tr>\n",
       "      <th>0</th>\n",
       "      <td>LinearSVR()</td>\n",
       "      <td>0.876914</td>\n",
       "      <td>0.012703</td>\n",
       "      <td>0.002829</td>\n",
       "    </tr>\n",
       "    <tr>\n",
       "      <th>1</th>\n",
       "      <td>Ridge()</td>\n",
       "      <td>0.500343</td>\n",
       "      <td>0.025594</td>\n",
       "      <td>0.005705</td>\n",
       "    </tr>\n",
       "    <tr>\n",
       "      <th>2</th>\n",
       "      <td>ElasticNet()</td>\n",
       "      <td>0.248057</td>\n",
       "      <td>0.031398</td>\n",
       "      <td>0.004333</td>\n",
       "    </tr>\n",
       "    <tr>\n",
       "      <th>3</th>\n",
       "      <td>LinearRegression()</td>\n",
       "      <td>0.011640</td>\n",
       "      <td>0.035997</td>\n",
       "      <td>0.005230</td>\n",
       "    </tr>\n",
       "    <tr>\n",
       "      <th>4</th>\n",
       "      <td>Lasso()</td>\n",
       "      <td>-0.070014</td>\n",
       "      <td>0.037454</td>\n",
       "      <td>0.022722</td>\n",
       "    </tr>\n",
       "    <tr>\n",
       "      <th>5</th>\n",
       "      <td>KNeighborsRegressor()</td>\n",
       "      <td>-0.323510</td>\n",
       "      <td>0.041655</td>\n",
       "      <td>0.005381</td>\n",
       "    </tr>\n",
       "    <tr>\n",
       "      <th>6</th>\n",
       "      <td>DecisionTreeRegressor()</td>\n",
       "      <td>-4.182821</td>\n",
       "      <td>0.082431</td>\n",
       "      <td>0.003100</td>\n",
       "    </tr>\n",
       "  </tbody>\n",
       "</table>\n",
       "</div>"
      ],
      "text/plain": [
       "                    modele        R2      RMSE       MAE\n",
       "0              LinearSVR()  0.876914  0.012703  0.002829\n",
       "1                  Ridge()  0.500343  0.025594  0.005705\n",
       "2             ElasticNet()  0.248057  0.031398  0.004333\n",
       "3       LinearRegression()  0.011640  0.035997  0.005230\n",
       "4                  Lasso() -0.070014  0.037454  0.022722\n",
       "5    KNeighborsRegressor() -0.323510  0.041655  0.005381\n",
       "6  DecisionTreeRegressor() -4.182821  0.082431  0.003100"
      ]
     },
     "execution_count": 31,
     "metadata": {},
     "output_type": "execute_result"
    }
   ],
   "source": [
    "parametre_DTR = {\"max_depth\": [1, 3, 5, 7, 9, 11, 12],\"max_features\": [\"auto\", \"log2\", None]}\n",
    "hyperparameter(df_scores,DecisionTreeRegressor(),parametre_DTR)"
   ]
  },
  {
   "cell_type": "code",
   "execution_count": 32,
   "id": "e729e408",
   "metadata": {},
   "outputs": [
    {
     "name": "stdout",
     "output_type": "stream",
     "text": [
      "RandomForestRegressor() {'max_depth': 7, 'max_features': 'log2', 'min_samples_leaf': 1}\n"
     ]
    },
    {
     "data": {
      "text/html": [
       "<div>\n",
       "<style scoped>\n",
       "    .dataframe tbody tr th:only-of-type {\n",
       "        vertical-align: middle;\n",
       "    }\n",
       "\n",
       "    .dataframe tbody tr th {\n",
       "        vertical-align: top;\n",
       "    }\n",
       "\n",
       "    .dataframe thead th {\n",
       "        text-align: right;\n",
       "    }\n",
       "</style>\n",
       "<table border=\"1\" class=\"dataframe\">\n",
       "  <thead>\n",
       "    <tr style=\"text-align: right;\">\n",
       "      <th></th>\n",
       "      <th>modele</th>\n",
       "      <th>R2</th>\n",
       "      <th>RMSE</th>\n",
       "      <th>MAE</th>\n",
       "    </tr>\n",
       "  </thead>\n",
       "  <tbody>\n",
       "    <tr>\n",
       "      <th>0</th>\n",
       "      <td>LinearSVR()</td>\n",
       "      <td>0.876914</td>\n",
       "      <td>0.012703</td>\n",
       "      <td>0.002829</td>\n",
       "    </tr>\n",
       "    <tr>\n",
       "      <th>1</th>\n",
       "      <td>RandomForestRegressor()</td>\n",
       "      <td>0.600785</td>\n",
       "      <td>0.022878</td>\n",
       "      <td>0.004099</td>\n",
       "    </tr>\n",
       "    <tr>\n",
       "      <th>2</th>\n",
       "      <td>Ridge()</td>\n",
       "      <td>0.500343</td>\n",
       "      <td>0.025594</td>\n",
       "      <td>0.005705</td>\n",
       "    </tr>\n",
       "    <tr>\n",
       "      <th>3</th>\n",
       "      <td>ElasticNet()</td>\n",
       "      <td>0.248057</td>\n",
       "      <td>0.031398</td>\n",
       "      <td>0.004333</td>\n",
       "    </tr>\n",
       "    <tr>\n",
       "      <th>4</th>\n",
       "      <td>LinearRegression()</td>\n",
       "      <td>0.011640</td>\n",
       "      <td>0.035997</td>\n",
       "      <td>0.005230</td>\n",
       "    </tr>\n",
       "    <tr>\n",
       "      <th>5</th>\n",
       "      <td>Lasso()</td>\n",
       "      <td>-0.070014</td>\n",
       "      <td>0.037454</td>\n",
       "      <td>0.022722</td>\n",
       "    </tr>\n",
       "    <tr>\n",
       "      <th>6</th>\n",
       "      <td>KNeighborsRegressor()</td>\n",
       "      <td>-0.323510</td>\n",
       "      <td>0.041655</td>\n",
       "      <td>0.005381</td>\n",
       "    </tr>\n",
       "    <tr>\n",
       "      <th>7</th>\n",
       "      <td>DecisionTreeRegressor()</td>\n",
       "      <td>-4.182821</td>\n",
       "      <td>0.082431</td>\n",
       "      <td>0.003100</td>\n",
       "    </tr>\n",
       "  </tbody>\n",
       "</table>\n",
       "</div>"
      ],
      "text/plain": [
       "                    modele        R2      RMSE       MAE\n",
       "0              LinearSVR()  0.876914  0.012703  0.002829\n",
       "1  RandomForestRegressor()  0.600785  0.022878  0.004099\n",
       "2                  Ridge()  0.500343  0.025594  0.005705\n",
       "3             ElasticNet()  0.248057  0.031398  0.004333\n",
       "4       LinearRegression()  0.011640  0.035997  0.005230\n",
       "5                  Lasso() -0.070014  0.037454  0.022722\n",
       "6    KNeighborsRegressor() -0.323510  0.041655  0.005381\n",
       "7  DecisionTreeRegressor() -4.182821  0.082431  0.003100"
      ]
     },
     "execution_count": 32,
     "metadata": {},
     "output_type": "execute_result"
    }
   ],
   "source": [
    "parametre_RFR = {\"max_depth\": [1, 3, 5, 7, 9, 11, 12],\"max_features\": [\"auto\", \"log2\", None], \"min_samples_leaf\":[1,2,4]}\n",
    "hyperparameter(df_scores,RandomForestRegressor(),parametre_RFR)"
   ]
  },
  {
   "cell_type": "code",
   "execution_count": 33,
   "id": "05c5472d",
   "metadata": {},
   "outputs": [
    {
     "name": "stdout",
     "output_type": "stream",
     "text": [
      "GradientBoostingRegressor() {'max_depth': 5, 'max_features': 'sqrt'}\n"
     ]
    },
    {
     "data": {
      "text/html": [
       "<div>\n",
       "<style scoped>\n",
       "    .dataframe tbody tr th:only-of-type {\n",
       "        vertical-align: middle;\n",
       "    }\n",
       "\n",
       "    .dataframe tbody tr th {\n",
       "        vertical-align: top;\n",
       "    }\n",
       "\n",
       "    .dataframe thead th {\n",
       "        text-align: right;\n",
       "    }\n",
       "</style>\n",
       "<table border=\"1\" class=\"dataframe\">\n",
       "  <thead>\n",
       "    <tr style=\"text-align: right;\">\n",
       "      <th></th>\n",
       "      <th>modele</th>\n",
       "      <th>R2</th>\n",
       "      <th>RMSE</th>\n",
       "      <th>MAE</th>\n",
       "    </tr>\n",
       "  </thead>\n",
       "  <tbody>\n",
       "    <tr>\n",
       "      <th>0</th>\n",
       "      <td>LinearSVR()</td>\n",
       "      <td>0.876914</td>\n",
       "      <td>0.012703</td>\n",
       "      <td>0.002829</td>\n",
       "    </tr>\n",
       "    <tr>\n",
       "      <th>1</th>\n",
       "      <td>RandomForestRegressor()</td>\n",
       "      <td>0.600785</td>\n",
       "      <td>0.022878</td>\n",
       "      <td>0.004099</td>\n",
       "    </tr>\n",
       "    <tr>\n",
       "      <th>2</th>\n",
       "      <td>Ridge()</td>\n",
       "      <td>0.500343</td>\n",
       "      <td>0.025594</td>\n",
       "      <td>0.005705</td>\n",
       "    </tr>\n",
       "    <tr>\n",
       "      <th>3</th>\n",
       "      <td>GradientBoostingRegressor()</td>\n",
       "      <td>0.295321</td>\n",
       "      <td>0.030395</td>\n",
       "      <td>0.002292</td>\n",
       "    </tr>\n",
       "    <tr>\n",
       "      <th>4</th>\n",
       "      <td>ElasticNet()</td>\n",
       "      <td>0.248057</td>\n",
       "      <td>0.031398</td>\n",
       "      <td>0.004333</td>\n",
       "    </tr>\n",
       "    <tr>\n",
       "      <th>5</th>\n",
       "      <td>LinearRegression()</td>\n",
       "      <td>0.011640</td>\n",
       "      <td>0.035997</td>\n",
       "      <td>0.005230</td>\n",
       "    </tr>\n",
       "    <tr>\n",
       "      <th>6</th>\n",
       "      <td>Lasso()</td>\n",
       "      <td>-0.070014</td>\n",
       "      <td>0.037454</td>\n",
       "      <td>0.022722</td>\n",
       "    </tr>\n",
       "    <tr>\n",
       "      <th>7</th>\n",
       "      <td>KNeighborsRegressor()</td>\n",
       "      <td>-0.323510</td>\n",
       "      <td>0.041655</td>\n",
       "      <td>0.005381</td>\n",
       "    </tr>\n",
       "    <tr>\n",
       "      <th>8</th>\n",
       "      <td>DecisionTreeRegressor()</td>\n",
       "      <td>-4.182821</td>\n",
       "      <td>0.082431</td>\n",
       "      <td>0.003100</td>\n",
       "    </tr>\n",
       "  </tbody>\n",
       "</table>\n",
       "</div>"
      ],
      "text/plain": [
       "                        modele        R2      RMSE       MAE\n",
       "0                  LinearSVR()  0.876914  0.012703  0.002829\n",
       "1      RandomForestRegressor()  0.600785  0.022878  0.004099\n",
       "2                      Ridge()  0.500343  0.025594  0.005705\n",
       "3  GradientBoostingRegressor()  0.295321  0.030395  0.002292\n",
       "4                 ElasticNet()  0.248057  0.031398  0.004333\n",
       "5           LinearRegression()  0.011640  0.035997  0.005230\n",
       "6                      Lasso() -0.070014  0.037454  0.022722\n",
       "7        KNeighborsRegressor() -0.323510  0.041655  0.005381\n",
       "8      DecisionTreeRegressor() -4.182821  0.082431  0.003100"
      ]
     },
     "execution_count": 33,
     "metadata": {},
     "output_type": "execute_result"
    }
   ],
   "source": [
    "parametre_XG = {\"max_depth\": [1, 3, 5, 7, 9, 11, 12], \"max_features\": [\"auto\",\"sqrt\", \"log2\", None]}\n",
    "hyperparameter(df_scores,GradientBoostingRegressor(),parametre_XG)"
   ]
  },
  {
   "cell_type": "code",
   "execution_count": 34,
   "id": "e58c091d",
   "metadata": {},
   "outputs": [],
   "source": [
    "df_scores['modele']=['SVM','Random Forest Regressor','Ridge','ElasticNet','Gradient Boosting Regressor',\n",
    "                     'Linear Regression','Lasso','K Neighbors Regressor','Decision Tree Regressor']"
   ]
  },
  {
   "cell_type": "code",
   "execution_count": 85,
   "id": "b33bd3c5",
   "metadata": {},
   "outputs": [
    {
     "data": {
      "text/plain": [
       "Text(0.5, 0, 'R2 Score')"
      ]
     },
     "execution_count": 85,
     "metadata": {},
     "output_type": "execute_result"
    },
    {
     "data": {
      "image/png": "[encoded data removed]",
      "text/plain": [
       "<Figure size 720x360 with 1 Axes>"
      ]
     },
     "metadata": {},
     "output_type": "display_data"
    }
   ],
   "source": [
    "sns.set(rc={'figure.figsize':(14,14)})\n",
    "plt.figure(figsize=(10, 5))\n",
    "\n",
    "img=sns.barplot(x=df_scores['R2'],\n",
    "                       y=df_scores['modele']\n",
    "                       ) \n",
    "for p in img.patches:\n",
    "    img.annotate(format(round(p.get_width(),2)),\n",
    "                      (p.get_width() - 0.39, p.get_y() + 0.05 + p.get_height()),\n",
    "                      color='#ffffff',\n",
    "                      fontsize=15,\n",
    "                      xytext=(10, 10),\n",
    "                      textcoords='offset points')\n",
    "    \n",
    "plt.ylabel('modèles', size=13, weight='bold')\n",
    "plt.xlabel('R2 Score', size=13, weight='bold')"
   ]
  },
  {
   "cell_type": "markdown",
   "id": "4d63af3d",
   "metadata": {},
   "source": [
    "De ceci, on peut dire que les meilleurs modeles pour la prediction de la consomation d'energie est le model SVM, Random Forest et Ridge, etant le model SVM le plus performant. Dans la suite on realisera une comparaison entre ces modeles afin de determiner le temps qu'il prendra a son entrainement et execution, pour cela on prendra les meilleurs HyperParametres que la methode GridSearchCV nous a donné, qui sont les suivants:\n",
    "\n",
    "    a)LinearSVR() {'C': 1} Pour le SVM\n",
    "    b)RandomForestRegressor() {'max_depth': 7, 'max_features': 'log2', 'min_samples_leaf': 1} Pour le RandomForest\n",
    "    c)le modele Ridge n'ayant pas des hyperparametres, on utilisera les valeurs par defauts"
   ]
  },
  {
   "cell_type": "markdown",
   "id": "e590adf0",
   "metadata": {},
   "source": [
    "### 1.5) Modeles utilisez"
   ]
  },
  {
   "cell_type": "code",
   "execution_count": 36,
   "id": "7e26c706",
   "metadata": {},
   "outputs": [],
   "source": [
    "Ridge=Ridge()\n",
    "SVM=LinearSVR(C=1)\n",
    "Random_Forest_Regressor=RandomForestRegressor(max_depth=7, max_features='log2',min_samples_leaf=1)"
   ]
  },
  {
   "cell_type": "code",
   "execution_count": 37,
   "id": "3f6467d1",
   "metadata": {},
   "outputs": [],
   "source": [
    "model_energie = [Ridge, SVM, Random_Forest_Regressor]\n",
    "nom_model=['Ridge','SVM','Random Forest Regressor']"
   ]
  },
  {
   "cell_type": "markdown",
   "id": "76463987",
   "metadata": {},
   "source": [
    "### 1.5.1) Evaluation des modeles avec R2 score"
   ]
  },
  {
   "cell_type": "code",
   "execution_count": 38,
   "id": "9cb35712",
   "metadata": {},
   "outputs": [
    {
     "name": "stderr",
     "output_type": "stream",
     "text": [
      "Liblinear failed to converge, increase the number of iterations.\n"
     ]
    }
   ],
   "source": [
    "evaluation_models = [] \n",
    "evaluation_model=pd.DataFrame(evaluation_models,columns=['modele', 'R2', 'RMCE', 'MAE'])\n",
    "\n",
    "for model in model_energie:\n",
    "    model_info = model_evaluation(model,evaluation_model)"
   ]
  },
  {
   "cell_type": "code",
   "execution_count": 39,
   "id": "b30f16dd",
   "metadata": {},
   "outputs": [
    {
     "data": {
      "text/html": [
       "<div>\n",
       "<style scoped>\n",
       "    .dataframe tbody tr th:only-of-type {\n",
       "        vertical-align: middle;\n",
       "    }\n",
       "\n",
       "    .dataframe tbody tr th {\n",
       "        vertical-align: top;\n",
       "    }\n",
       "\n",
       "    .dataframe thead th {\n",
       "        text-align: right;\n",
       "    }\n",
       "</style>\n",
       "<table border=\"1\" class=\"dataframe\">\n",
       "  <thead>\n",
       "    <tr style=\"text-align: right;\">\n",
       "      <th></th>\n",
       "      <th>modele</th>\n",
       "      <th>R2</th>\n",
       "      <th>RMCE</th>\n",
       "      <th>MAE</th>\n",
       "    </tr>\n",
       "  </thead>\n",
       "  <tbody>\n",
       "    <tr>\n",
       "      <th>0</th>\n",
       "      <td>LinearSVR(C=1)</td>\n",
       "      <td>0.880668</td>\n",
       "      <td>0.012508</td>\n",
       "      <td>0.002962</td>\n",
       "    </tr>\n",
       "    <tr>\n",
       "      <th>1</th>\n",
       "      <td>(DecisionTreeRegressor(max_depth=7, max_featur...</td>\n",
       "      <td>0.622023</td>\n",
       "      <td>0.022261</td>\n",
       "      <td>0.004217</td>\n",
       "    </tr>\n",
       "    <tr>\n",
       "      <th>2</th>\n",
       "      <td>Ridge()</td>\n",
       "      <td>0.500343</td>\n",
       "      <td>0.025594</td>\n",
       "      <td>0.005705</td>\n",
       "    </tr>\n",
       "  </tbody>\n",
       "</table>\n",
       "</div>"
      ],
      "text/plain": [
       "                                              modele        R2      RMCE  \\\n",
       "0                                     LinearSVR(C=1)  0.880668  0.012508   \n",
       "1  (DecisionTreeRegressor(max_depth=7, max_featur...  0.622023  0.022261   \n",
       "2                                            Ridge()  0.500343  0.025594   \n",
       "\n",
       "        MAE  \n",
       "0  0.002962  \n",
       "1  0.004217  \n",
       "2  0.005705  "
      ]
     },
     "execution_count": 39,
     "metadata": {},
     "output_type": "execute_result"
    }
   ],
   "source": [
    "evaluation_model"
   ]
  },
  {
   "cell_type": "code",
   "execution_count": 40,
   "id": "668761ae",
   "metadata": {},
   "outputs": [],
   "source": [
    "evaluation_model['modele']=['SVM','Random Forest Regressor','Ridge']"
   ]
  },
  {
   "cell_type": "code",
   "execution_count": 41,
   "id": "d5306f69",
   "metadata": {},
   "outputs": [
    {
     "data": {
      "text/html": [
       "<div>\n",
       "<style scoped>\n",
       "    .dataframe tbody tr th:only-of-type {\n",
       "        vertical-align: middle;\n",
       "    }\n",
       "\n",
       "    .dataframe tbody tr th {\n",
       "        vertical-align: top;\n",
       "    }\n",
       "\n",
       "    .dataframe thead th {\n",
       "        text-align: right;\n",
       "    }\n",
       "</style>\n",
       "<table border=\"1\" class=\"dataframe\">\n",
       "  <thead>\n",
       "    <tr style=\"text-align: right;\">\n",
       "      <th></th>\n",
       "      <th>modele</th>\n",
       "      <th>R2</th>\n",
       "      <th>RMCE</th>\n",
       "      <th>MAE</th>\n",
       "    </tr>\n",
       "  </thead>\n",
       "  <tbody>\n",
       "    <tr>\n",
       "      <th>0</th>\n",
       "      <td>SVM</td>\n",
       "      <td>0.880668</td>\n",
       "      <td>0.012508</td>\n",
       "      <td>0.002962</td>\n",
       "    </tr>\n",
       "    <tr>\n",
       "      <th>1</th>\n",
       "      <td>Random Forest Regressor</td>\n",
       "      <td>0.622023</td>\n",
       "      <td>0.022261</td>\n",
       "      <td>0.004217</td>\n",
       "    </tr>\n",
       "    <tr>\n",
       "      <th>2</th>\n",
       "      <td>Ridge</td>\n",
       "      <td>0.500343</td>\n",
       "      <td>0.025594</td>\n",
       "      <td>0.005705</td>\n",
       "    </tr>\n",
       "  </tbody>\n",
       "</table>\n",
       "</div>"
      ],
      "text/plain": [
       "                    modele        R2      RMCE       MAE\n",
       "0                      SVM  0.880668  0.012508  0.002962\n",
       "1  Random Forest Regressor  0.622023  0.022261  0.004217\n",
       "2                    Ridge  0.500343  0.025594  0.005705"
      ]
     },
     "execution_count": 41,
     "metadata": {},
     "output_type": "execute_result"
    }
   ],
   "source": [
    "evaluation_model"
   ]
  },
  {
   "cell_type": "code",
   "execution_count": 72,
   "id": "d2f1b9cc",
   "metadata": {},
   "outputs": [
    {
     "data": {
      "text/plain": [
       "Text(0.5, 0, 'R2 Score')"
      ]
     },
     "execution_count": 72,
     "metadata": {},
     "output_type": "execute_result"
    },
    {
     "data": {
      "image/png": "[encoded data removed]",
      "text/plain": [
       "<Figure size 720x360 with 1 Axes>"
      ]
     },
     "metadata": {},
     "output_type": "display_data"
    }
   ],
   "source": [
    "sns.set(rc={'figure.figsize':(14,14)})\n",
    "plt.figure(figsize=(10, 5))\n",
    "\n",
    "img=sns.barplot(x=evaluation_model['R2'],\n",
    "                       y=evaluation_model['modele']\n",
    "                       ) \n",
    "for p in img.patches:\n",
    "    img.annotate(format(round(p.get_width(),2)),\n",
    "                      (p.get_width() - 0.1, p.get_y() + 0.05 + p.get_height()),\n",
    "                      color='#ffffff',\n",
    "                      fontsize=15,\n",
    "                      xytext=(10, 10),\n",
    "                      textcoords='offset points')\n",
    "    \n",
    "plt.title('R2 selon les modeles', size=15, weight='bold')\n",
    "plt.ylabel('modèles', size=13, weight='bold')\n",
    "plt.xlabel('R2 Score', size=13, weight='bold')"
   ]
  },
  {
   "cell_type": "markdown",
   "id": "602f9764",
   "metadata": {},
   "source": [
    "On observe bien, que la meilleur prediction est réalisé par le modele SVM, suivi par le RandomForest, il est possible alors de se poser comme question, sinon sont assez robuste, ce pour cela que dans la suite on realisera un CrossValidation."
   ]
  },
  {
   "cell_type": "markdown",
   "id": "54946c66",
   "metadata": {},
   "source": [
    "### 1.5.2) Evaluation de la robustesses des modeles "
   ]
  },
  {
   "cell_type": "code",
   "execution_count": 43,
   "id": "35fdd17f",
   "metadata": {},
   "outputs": [
    {
     "name": "stderr",
     "output_type": "stream",
     "text": [
      "Liblinear failed to converge, increase the number of iterations.\n",
      "Liblinear failed to converge, increase the number of iterations.\n",
      "Liblinear failed to converge, increase the number of iterations.\n",
      "Liblinear failed to converge, increase the number of iterations.\n",
      "Liblinear failed to converge, increase the number of iterations.\n"
     ]
    }
   ],
   "source": [
    "cross_validation = []\n",
    "for models in model_energie:\n",
    "    cross_val = validation_croise(models,X_train, y_train)\n",
    "    cross_validation.append(cross_val)\n",
    "\n",
    "val_cross=pd.DataFrame(cross_validation,columns=['R2(0)','R2(1)','R2(2)','R2(3)','R2(4)'])\n",
    "val_cross['nom']=nom_model"
   ]
  },
  {
   "cell_type": "code",
   "execution_count": 44,
   "id": "6bb82aff",
   "metadata": {},
   "outputs": [
    {
     "data": {
      "text/html": [
       "<div>\n",
       "<style scoped>\n",
       "    .dataframe tbody tr th:only-of-type {\n",
       "        vertical-align: middle;\n",
       "    }\n",
       "\n",
       "    .dataframe tbody tr th {\n",
       "        vertical-align: top;\n",
       "    }\n",
       "\n",
       "    .dataframe thead th {\n",
       "        text-align: right;\n",
       "    }\n",
       "</style>\n",
       "<table border=\"1\" class=\"dataframe\">\n",
       "  <thead>\n",
       "    <tr style=\"text-align: right;\">\n",
       "      <th></th>\n",
       "      <th>R2(0)</th>\n",
       "      <th>R2(1)</th>\n",
       "      <th>R2(2)</th>\n",
       "      <th>R2(3)</th>\n",
       "      <th>R2(4)</th>\n",
       "      <th>nom</th>\n",
       "    </tr>\n",
       "  </thead>\n",
       "  <tbody>\n",
       "    <tr>\n",
       "      <th>0</th>\n",
       "      <td>0.684350</td>\n",
       "      <td>0.792006</td>\n",
       "      <td>0.323436</td>\n",
       "      <td>0.607690</td>\n",
       "      <td>0.654316</td>\n",
       "      <td>Ridge</td>\n",
       "    </tr>\n",
       "    <tr>\n",
       "      <th>1</th>\n",
       "      <td>0.337906</td>\n",
       "      <td>0.906524</td>\n",
       "      <td>0.370230</td>\n",
       "      <td>0.423327</td>\n",
       "      <td>0.885030</td>\n",
       "      <td>SVM</td>\n",
       "    </tr>\n",
       "    <tr>\n",
       "      <th>2</th>\n",
       "      <td>0.720104</td>\n",
       "      <td>0.777831</td>\n",
       "      <td>0.525955</td>\n",
       "      <td>0.678039</td>\n",
       "      <td>0.746767</td>\n",
       "      <td>Random Forest Regressor</td>\n",
       "    </tr>\n",
       "  </tbody>\n",
       "</table>\n",
       "</div>"
      ],
      "text/plain": [
       "      R2(0)     R2(1)     R2(2)     R2(3)     R2(4)                      nom\n",
       "0  0.684350  0.792006  0.323436  0.607690  0.654316                    Ridge\n",
       "1  0.337906  0.906524  0.370230  0.423327  0.885030                      SVM\n",
       "2  0.720104  0.777831  0.525955  0.678039  0.746767  Random Forest Regressor"
      ]
     },
     "execution_count": 44,
     "metadata": {},
     "output_type": "execute_result"
    }
   ],
   "source": [
    "val_cross"
   ]
  },
  {
   "cell_type": "markdown",
   "id": "f8f7cc3a",
   "metadata": {},
   "source": [
    "De ceci, on peut en deduire que les meilleurs scores sont données par le modele SVM mais qu'il est trop sensible aux variations des données, ce qui rend sa robustesse trop faible, par contre le model RandomForest ayant pas une meilleur score R2 que le model SVM, il est plus robuste au changement des données. On peut donc dire que pour que le modele SVM fonctionne mieux il est necessaire d'acquerir plus des données. "
   ]
  },
  {
   "cell_type": "markdown",
   "id": "0d903a4e",
   "metadata": {},
   "source": [
    "### 1.5.3) Evaluation du Temps d'entrenaiment"
   ]
  },
  {
   "cell_type": "code",
   "execution_count": 45,
   "id": "1d0e92bd",
   "metadata": {},
   "outputs": [],
   "source": [
    "models = [{\"name\": \"Ridge\", \"clf\": Ridge},\n",
    "          {\"name\": \"SVM\", \"clf\": SVM},  \n",
    "          {\"name\": \"Random Forest Regressor\", \"clf\": Random_Forest_Regressor}]"
   ]
  },
  {
   "cell_type": "code",
   "execution_count": 46,
   "id": "36ea1816",
   "metadata": {},
   "outputs": [
    {
     "name": "stderr",
     "output_type": "stream",
     "text": [
      "Liblinear failed to converge, increase the number of iterations.\n"
     ]
    }
   ],
   "source": [
    "trained_models = []\n",
    "for model in models:\n",
    "    model_details = train_model(model)\n",
    "    trained_models.append(model_details)\n",
    "    \n",
    "model_entrene=pd.DataFrame(trained_models)"
   ]
  },
  {
   "cell_type": "code",
   "execution_count": 47,
   "id": "7a425461",
   "metadata": {},
   "outputs": [
    {
     "data": {
      "image/png": "[encoded data removed]",
      "text/plain": [
       "<Figure size 1728x360 with 1 Axes>"
      ]
     },
     "metadata": {},
     "output_type": "display_data"
    }
   ],
   "source": [
    "model_df = pd.DataFrame(trained_models)\n",
    "model_df.sort_values(\"train_time\", inplace=True)\n",
    "ax= model_df[[\"train_time\",\"name\"]].plot(kind=\"line\", x=\"name\", figsize=(24,5), grid=True, title=\"Classifier Training Time (seconds)\")\n",
    "ax.title.set_size(20)\n",
    "ax.legend([\"Train Time\"])\n",
    "plt.box(False)  "
   ]
  },
  {
   "cell_type": "markdown",
   "id": "e8190e8f",
   "metadata": {},
   "source": [
    "Par rapport au temps d'entrenaiment, on observe que le temps qui prend RandomForestRegressor est 6 fois celui du model SVM."
   ]
  },
  {
   "cell_type": "markdown",
   "id": "dcb3fe7d",
   "metadata": {},
   "source": [
    "## 2) Etude de la consomation energetique avec la variable ENERGYSTARScore"
   ]
  },
  {
   "cell_type": "markdown",
   "id": "c8d1f42a",
   "metadata": {},
   "source": [
    "Dans cette partie, on realisera le même etude realisé dans la section 1.4.1 afin de determiner si la variable ENERGYSTARScore a une influence positive sur la predection de la consomation d'energie"
   ]
  },
  {
   "cell_type": "code",
   "execution_count": 48,
   "id": "d9d81a90",
   "metadata": {},
   "outputs": [],
   "source": [
    "df_energie_score=df.copy()\n",
    "df_energie_score=df_energie_score.dropna(axis = 0)"
   ]
  },
  {
   "cell_type": "markdown",
   "id": "480b6dc9",
   "metadata": {},
   "source": [
    "### 2.1) Standardisation"
   ]
  },
  {
   "cell_type": "code",
   "execution_count": 49,
   "id": "dc5036d4",
   "metadata": {},
   "outputs": [],
   "source": [
    "column=df_energie_score.columns.values\n",
    "scaler = MinMaxScaler()\n",
    "scaler.fit(df_energie_score)\n",
    "df_np=scaler.transform(df_energie_score)"
   ]
  },
  {
   "cell_type": "code",
   "execution_count": 50,
   "id": "48a25e3a",
   "metadata": {},
   "outputs": [],
   "source": [
    "df_test=pd.DataFrame(df_np,columns=column)"
   ]
  },
  {
   "cell_type": "code",
   "execution_count": 51,
   "id": "63165e61",
   "metadata": {},
   "outputs": [],
   "source": [
    "remove_column(df_test,['TotalGHGEmissions','SteamUse','Electricity','BuildingRate','HistoricalPeriod'])"
   ]
  },
  {
   "cell_type": "markdown",
   "id": "64676398",
   "metadata": {},
   "source": [
    "On cree les variables des test "
   ]
  },
  {
   "cell_type": "markdown",
   "id": "299aa748",
   "metadata": {},
   "source": [
    "### 2.2) Echantillonage"
   ]
  },
  {
   "cell_type": "code",
   "execution_count": 52,
   "id": "9071f974",
   "metadata": {},
   "outputs": [],
   "source": [
    "trainset, testset = train_test_split(df_test, test_size=0.2, random_state=0)"
   ]
  },
  {
   "cell_type": "code",
   "execution_count": 53,
   "id": "e38d9850",
   "metadata": {},
   "outputs": [],
   "source": [
    "X_train, y_train = preprocessing(trainset,'SiteEnergyUse')"
   ]
  },
  {
   "cell_type": "code",
   "execution_count": 54,
   "id": "43f3a1fc",
   "metadata": {},
   "outputs": [],
   "source": [
    "X_test, y_test = preprocessing(testset,'SiteEnergyUse')"
   ]
  },
  {
   "cell_type": "markdown",
   "id": "ab5e12d7",
   "metadata": {},
   "source": [
    "### 2.3) Test du meilleur model"
   ]
  },
  {
   "cell_type": "code",
   "execution_count": 55,
   "id": "f3caaaee",
   "metadata": {},
   "outputs": [
    {
     "name": "stderr",
     "output_type": "stream",
     "text": [
      "Liblinear failed to converge, increase the number of iterations.\n"
     ]
    },
    {
     "data": {
      "text/html": [
       "<div>\n",
       "<style scoped>\n",
       "    .dataframe tbody tr th:only-of-type {\n",
       "        vertical-align: middle;\n",
       "    }\n",
       "\n",
       "    .dataframe tbody tr th {\n",
       "        vertical-align: top;\n",
       "    }\n",
       "\n",
       "    .dataframe thead th {\n",
       "        text-align: right;\n",
       "    }\n",
       "</style>\n",
       "<table border=\"1\" class=\"dataframe\">\n",
       "  <thead>\n",
       "    <tr style=\"text-align: right;\">\n",
       "      <th></th>\n",
       "      <th>modele</th>\n",
       "      <th>R2</th>\n",
       "      <th>RMSE</th>\n",
       "      <th>MCE</th>\n",
       "    </tr>\n",
       "  </thead>\n",
       "  <tbody>\n",
       "    <tr>\n",
       "      <th>0</th>\n",
       "      <td>LinearSVR(C=1)</td>\n",
       "      <td>0.878156</td>\n",
       "      <td>0.012639</td>\n",
       "      <td>0.003353</td>\n",
       "    </tr>\n",
       "  </tbody>\n",
       "</table>\n",
       "</div>"
      ],
      "text/plain": [
       "           modele        R2      RMSE       MCE\n",
       "0  LinearSVR(C=1)  0.878156  0.012639  0.003353"
      ]
     },
     "execution_count": 55,
     "metadata": {},
     "output_type": "execute_result"
    }
   ],
   "source": [
    "best=[]\n",
    "df_best = pd.DataFrame(\n",
    "    best, columns=['modele', 'R2', 'RMSE', 'MCE'])\n",
    "model_evaluation(SVM,df_best)"
   ]
  },
  {
   "cell_type": "code",
   "execution_count": 56,
   "id": "0018bd00",
   "metadata": {},
   "outputs": [
    {
     "data": {
      "text/html": [
       "<div>\n",
       "<style scoped>\n",
       "    .dataframe tbody tr th:only-of-type {\n",
       "        vertical-align: middle;\n",
       "    }\n",
       "\n",
       "    .dataframe tbody tr th {\n",
       "        vertical-align: top;\n",
       "    }\n",
       "\n",
       "    .dataframe thead th {\n",
       "        text-align: right;\n",
       "    }\n",
       "</style>\n",
       "<table border=\"1\" class=\"dataframe\">\n",
       "  <thead>\n",
       "    <tr style=\"text-align: right;\">\n",
       "      <th></th>\n",
       "      <th>modele</th>\n",
       "      <th>R2</th>\n",
       "      <th>RMSE</th>\n",
       "      <th>MCE</th>\n",
       "    </tr>\n",
       "  </thead>\n",
       "  <tbody>\n",
       "    <tr>\n",
       "      <th>0</th>\n",
       "      <td>LinearSVR(C=1)</td>\n",
       "      <td>0.878156</td>\n",
       "      <td>0.012639</td>\n",
       "      <td>0.003353</td>\n",
       "    </tr>\n",
       "    <tr>\n",
       "      <th>1</th>\n",
       "      <td>(DecisionTreeRegressor(max_depth=7, max_featur...</td>\n",
       "      <td>0.615838</td>\n",
       "      <td>0.022442</td>\n",
       "      <td>0.004421</td>\n",
       "    </tr>\n",
       "  </tbody>\n",
       "</table>\n",
       "</div>"
      ],
      "text/plain": [
       "                                              modele        R2      RMSE  \\\n",
       "0                                     LinearSVR(C=1)  0.878156  0.012639   \n",
       "1  (DecisionTreeRegressor(max_depth=7, max_featur...  0.615838  0.022442   \n",
       "\n",
       "        MCE  \n",
       "0  0.003353  \n",
       "1  0.004421  "
      ]
     },
     "execution_count": 56,
     "metadata": {},
     "output_type": "execute_result"
    }
   ],
   "source": [
    "model_evaluation(Random_Forest_Regressor,df_best)"
   ]
  },
  {
   "cell_type": "code",
   "execution_count": 59,
   "id": "c6c06e51",
   "metadata": {},
   "outputs": [
    {
     "data": {
      "text/html": [
       "<div>\n",
       "<style scoped>\n",
       "    .dataframe tbody tr th:only-of-type {\n",
       "        vertical-align: middle;\n",
       "    }\n",
       "\n",
       "    .dataframe tbody tr th {\n",
       "        vertical-align: top;\n",
       "    }\n",
       "\n",
       "    .dataframe thead th {\n",
       "        text-align: right;\n",
       "    }\n",
       "</style>\n",
       "<table border=\"1\" class=\"dataframe\">\n",
       "  <thead>\n",
       "    <tr style=\"text-align: right;\">\n",
       "      <th></th>\n",
       "      <th>modele</th>\n",
       "      <th>R2</th>\n",
       "      <th>RMSE</th>\n",
       "      <th>MCE</th>\n",
       "    </tr>\n",
       "  </thead>\n",
       "  <tbody>\n",
       "    <tr>\n",
       "      <th>0</th>\n",
       "      <td>SVM</td>\n",
       "      <td>0.878156</td>\n",
       "      <td>0.012639</td>\n",
       "      <td>0.003353</td>\n",
       "    </tr>\n",
       "    <tr>\n",
       "      <th>1</th>\n",
       "      <td>Random Forest Regressor</td>\n",
       "      <td>0.615838</td>\n",
       "      <td>0.022442</td>\n",
       "      <td>0.004421</td>\n",
       "    </tr>\n",
       "  </tbody>\n",
       "</table>\n",
       "</div>"
      ],
      "text/plain": [
       "                    modele        R2      RMSE       MCE\n",
       "0                      SVM  0.878156  0.012639  0.003353\n",
       "1  Random Forest Regressor  0.615838  0.022442  0.004421"
      ]
     },
     "execution_count": 59,
     "metadata": {},
     "output_type": "execute_result"
    }
   ],
   "source": [
    "df_best['modele']=['SVM','Random Forest Regressor']\n",
    "df_best"
   ]
  },
  {
   "cell_type": "code",
   "execution_count": 71,
   "id": "1d533dc3",
   "metadata": {},
   "outputs": [
    {
     "data": {
      "text/plain": [
       "Text(0.5, 0, 'R2 Score')"
      ]
     },
     "execution_count": 71,
     "metadata": {},
     "output_type": "execute_result"
    },
    {
     "data": {
      "image/png": "[encoded data removed]",
      "text/plain": [
       "<Figure size 720x360 with 1 Axes>"
      ]
     },
     "metadata": {},
     "output_type": "display_data"
    }
   ],
   "source": [
    "sns.set(rc={'figure.figsize':(14,14)})\n",
    "plt.figure(figsize=(10, 5))\n",
    "\n",
    "img=sns.barplot(x=df_best['R2'],\n",
    "                       y=df_best['modele']\n",
    "                       ) \n",
    "for p in img.patches:\n",
    "    img.annotate(format(round(p.get_width(),2)),\n",
    "                      (p.get_width() - 0.1, p.get_y() + 0.05 + p.get_height()),\n",
    "                      color='#ffffff',\n",
    "                      fontsize=15,\n",
    "                      xytext=(10, 10),\n",
    "                      textcoords='offset points')\n",
    "    \n",
    "plt.title('R2 selon les modeles', size=15, weight='bold')\n",
    "plt.ylabel('modèles', size=13, weight='bold')\n",
    "plt.xlabel('R2 Score', size=13, weight='bold')"
   ]
  },
  {
   "cell_type": "markdown",
   "id": "9563b5c0",
   "metadata": {},
   "source": [
    "On observe que la variable ENERGYSTARScore n'as pas beaucoup d'influence sur la prediction de la consomation d'energie, s'il a un influence, c'est une influence quasi negligeable, on observera plus en profondeur, dans les graphes d'influence des variables."
   ]
  },
  {
   "cell_type": "markdown",
   "id": "f5e94efa",
   "metadata": {},
   "source": [
    "## 2.4) Etude de l'influence des variables par rapport aux modeles"
   ]
  },
  {
   "cell_type": "code",
   "execution_count": 69,
   "id": "c1de5e12",
   "metadata": {},
   "outputs": [
    {
     "name": "stdout",
     "output_type": "stream",
     "text": [
      "Intercept 0.05177419522552249\n",
      "Prediction_local [0.11911394]\n",
      "Right: 0.05229822222433254\n"
     ]
    },
    {
     "name": "stderr",
     "output_type": "stream",
     "text": [
      "X does not have valid feature names, but LinearSVR was fitted with feature names\n"
     ]
    },
    {
     "data": {
      "image/png": "[encoded data removed]",
      "text/plain": [
       "<Figure size 1008x1008 with 1 Axes>"
      ]
     },
     "metadata": {},
     "output_type": "display_data"
    }
   ],
   "source": [
    "explainer = lime.lime_tabular.LimeTabularExplainer(X_train.values, feature_names=X_train.columns.values.tolist(),\n",
    "                                                  class_names=['MEDV'], verbose=True, mode='regression')\n",
    "exp = explainer.explain_instance(X_test.values[100], SVM.predict, num_features=len(X_train.columns.values.tolist()))\n",
    "with plt.style.context(\"ggplot\"):\n",
    "    exp.as_pyplot_figure()\n",
    "    plt.title('best_model SVM')"
   ]
  },
  {
   "cell_type": "code",
   "execution_count": 70,
   "id": "7a9aee17",
   "metadata": {},
   "outputs": [
    {
     "name": "stderr",
     "output_type": "stream",
     "text": [
      "X does not have valid feature names, but RandomForestRegressor was fitted with feature names\n"
     ]
    },
    {
     "name": "stdout",
     "output_type": "stream",
     "text": [
      "Intercept 0.09894926541993249\n",
      "Prediction_local [0.14605307]\n",
      "Right: 0.05066447129324765\n"
     ]
    },
    {
     "data": {
      "image/png": "[encoded data removed]",
      "text/plain": [
       "<Figure size 1008x1008 with 1 Axes>"
      ]
     },
     "metadata": {},
     "output_type": "display_data"
    }
   ],
   "source": [
    "explainer = lime.lime_tabular.LimeTabularExplainer(X_train.values, feature_names=X_train.columns.values.tolist(),\n",
    "                                                  class_names=['MEDV'], verbose=True, mode='regression')\n",
    "exp = explainer.explain_instance(X_test.values[100], Random_Forest_Regressor.predict, num_features=len(X_train.columns.values.tolist()))\n",
    "with plt.style.context(\"ggplot\"):\n",
    "    exp.as_pyplot_figure()\n",
    "    plt.title('best_model Random_Forest_Regressor ')"
   ]
  },
  {
   "cell_type": "markdown",
   "id": "a920192c",
   "metadata": {},
   "source": [
    "Comme on observe ci-dessus, la participation de la variable ENERGYSTARScore a une petite influence negative sur le modele SVM, par contre il a une petite influence positive sur le modele Random Forest."
   ]
  }
 ],
 "metadata": {
  "kernelspec": {
   "display_name": "Python 3 (ipykernel)",
   "language": "python",
   "name": "python3"
  },
  "language_info": {
   "codemirror_mode": {
    "name": "ipython",
    "version": 3
   },
   "file_extension": ".py",
   "mimetype": "text/x-python",
   "name": "python",
   "nbconvert_exporter": "python",
   "pygments_lexer": "ipython3",
   "version": "3.9.12"
  }
 },
 "nbformat": 4,
 "nbformat_minor": 5
}
